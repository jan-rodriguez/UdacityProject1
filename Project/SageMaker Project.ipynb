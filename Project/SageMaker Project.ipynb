{
 "cells": [
  {
   "cell_type": "markdown",
   "metadata": {},
   "source": [
    "# Creating a Sentiment Analysis Web App\n",
    "## Using PyTorch and SageMaker\n",
    "\n",
    "_Deep Learning Nanodegree Program | Deployment_\n",
    "\n",
    "---\n",
    "\n",
    "Now that we have a basic understanding of how SageMaker works we will try to use it to construct a complete project from end to end. Our goal will be to have a simple web page which a user can use to enter a movie review. The web page will then send the review off to our deployed model which will predict the sentiment of the entered review.\n",
    "\n",
    "## Instructions\n",
    "\n",
    "Some template code has already been provided for you, and you will need to implement additional functionality to successfully complete this notebook. You will not need to modify the included code beyond what is requested. Sections that begin with '**TODO**' in the header indicate that you need to complete or implement some portion within them. Instructions will be provided for each section and the specifics of the implementation are marked in the code block with a `# TODO: ...` comment. Please be sure to read the instructions carefully!\n",
    "\n",
    "In addition to implementing code, there will be questions for you to answer which relate to the task and your implementation. Each section where you will answer a question is preceded by a '**Question:**' header. Carefully read each question and provide your answer below the '**Answer:**' header by editing the Markdown cell.\n",
    "\n",
    "> **Note**: Code and Markdown cells can be executed using the **Shift+Enter** keyboard shortcut. In addition, a cell can be edited by typically clicking it (double-click for Markdown cells) or by pressing **Enter** while it is highlighted.\n",
    "\n",
    "## General Outline\n",
    "\n",
    "Recall the general outline for SageMaker projects using a notebook instance.\n",
    "\n",
    "1. Download or otherwise retrieve the data.\n",
    "2. Process / Prepare the data.\n",
    "3. Upload the processed data to S3.\n",
    "4. Train a chosen model.\n",
    "5. Test the trained model (typically using a batch transform job).\n",
    "6. Deploy the trained model.\n",
    "7. Use the deployed model.\n",
    "\n",
    "For this project, you will be following the steps in the general outline with some modifications. \n",
    "\n",
    "First, you will not be testing the model in its own step. You will still be testing the model, however, you will do it by deploying your model and then using the deployed model by sending the test data to it. One of the reasons for doing this is so that you can make sure that your deployed model is working correctly before moving forward.\n",
    "\n",
    "In addition, you will deploy and use your trained model a second time. In the second iteration you will customize the way that your trained model is deployed by including some of your own code. In addition, your newly deployed model will be used in the sentiment analysis web app."
   ]
  },
  {
   "cell_type": "markdown",
   "metadata": {},
   "source": [
    "## Step 1: Downloading the data\n",
    "\n",
    "As in the XGBoost in SageMaker notebook, we will be using the [IMDb dataset](http://ai.stanford.edu/~amaas/data/sentiment/)\n",
    "\n",
    "> Maas, Andrew L., et al. [Learning Word Vectors for Sentiment Analysis](http://ai.stanford.edu/~amaas/data/sentiment/). In _Proceedings of the 49th Annual Meeting of the Association for Computational Linguistics: Human Language Technologies_. Association for Computational Linguistics, 2011."
   ]
  },
  {
   "cell_type": "code",
   "execution_count": 1,
   "metadata": {},
   "outputs": [
    {
     "name": "stdout",
     "output_type": "stream",
     "text": [
      "--2019-12-07 20:14:31--  http://ai.stanford.edu/~amaas/data/sentiment/aclImdb_v1.tar.gz\n",
      "Resolving ai.stanford.edu (ai.stanford.edu)... 171.64.68.10\n",
      "Connecting to ai.stanford.edu (ai.stanford.edu)|171.64.68.10|:80... connected.\n",
      "HTTP request sent, awaiting response... 200 OK\n",
      "Length: 84125825 (80M) [application/x-gzip]\n",
      "Saving to: ‘../data/aclImdb_v1.tar.gz’\n",
      "\n",
      "../data/aclImdb_v1. 100%[===================>]  80.23M  39.3MB/s    in 2.0s    \n",
      "\n",
      "2019-12-07 20:14:33 (39.3 MB/s) - ‘../data/aclImdb_v1.tar.gz’ saved [84125825/84125825]\n",
      "\n"
     ]
    }
   ],
   "source": [
    "%mkdir ../data\n",
    "!wget -O ../data/aclImdb_v1.tar.gz http://ai.stanford.edu/~amaas/data/sentiment/aclImdb_v1.tar.gz\n",
    "!tar -zxf ../data/aclImdb_v1.tar.gz -C ../data"
   ]
  },
  {
   "cell_type": "markdown",
   "metadata": {},
   "source": [
    "## Step 2: Preparing and Processing the data\n",
    "\n",
    "Also, as in the XGBoost notebook, we will be doing some initial data processing. The first few steps are the same as in the XGBoost example. To begin with, we will read in each of the reviews and combine them into a single input structure. Then, we will split the dataset into a training set and a testing set."
   ]
  },
  {
   "cell_type": "code",
   "execution_count": 2,
   "metadata": {},
   "outputs": [],
   "source": [
    "import os\n",
    "import glob\n",
    "\n",
    "def read_imdb_data(data_dir='../data/aclImdb'):\n",
    "    data = {}\n",
    "    labels = {}\n",
    "    \n",
    "    for data_type in ['train', 'test']:\n",
    "        data[data_type] = {}\n",
    "        labels[data_type] = {}\n",
    "        \n",
    "        for sentiment in ['pos', 'neg']:\n",
    "            data[data_type][sentiment] = []\n",
    "            labels[data_type][sentiment] = []\n",
    "            \n",
    "            path = os.path.join(data_dir, data_type, sentiment, '*.txt')\n",
    "            files = glob.glob(path)\n",
    "            \n",
    "            for f in files:\n",
    "                with open(f) as review:\n",
    "                    data[data_type][sentiment].append(review.read())\n",
    "                    # Here we represent a positive review by '1' and a negative review by '0'\n",
    "                    labels[data_type][sentiment].append(1 if sentiment == 'pos' else 0)\n",
    "                    \n",
    "            assert len(data[data_type][sentiment]) == len(labels[data_type][sentiment]), \\\n",
    "                    \"{}/{} data size does not match labels size\".format(data_type, sentiment)\n",
    "                \n",
    "    return data, labels"
   ]
  },
  {
   "cell_type": "code",
   "execution_count": 3,
   "metadata": {},
   "outputs": [
    {
     "name": "stdout",
     "output_type": "stream",
     "text": [
      "IMDB reviews: train = 12500 pos / 12500 neg, test = 12500 pos / 12500 neg\n"
     ]
    }
   ],
   "source": [
    "data, labels = read_imdb_data()\n",
    "print(\"IMDB reviews: train = {} pos / {} neg, test = {} pos / {} neg\".format(\n",
    "            len(data['train']['pos']), len(data['train']['neg']),\n",
    "            len(data['test']['pos']), len(data['test']['neg'])))"
   ]
  },
  {
   "cell_type": "markdown",
   "metadata": {},
   "source": [
    "Now that we've read the raw training and testing data from the downloaded dataset, we will combine the positive and negative reviews and shuffle the resulting records."
   ]
  },
  {
   "cell_type": "code",
   "execution_count": 4,
   "metadata": {},
   "outputs": [],
   "source": [
    "from sklearn.utils import shuffle\n",
    "\n",
    "def prepare_imdb_data(data, labels):\n",
    "    \"\"\"Prepare training and test sets from IMDb movie reviews.\"\"\"\n",
    "    \n",
    "    #Combine positive and negative reviews and labels\n",
    "    data_train = data['train']['pos'] + data['train']['neg']\n",
    "    data_test = data['test']['pos'] + data['test']['neg']\n",
    "    labels_train = labels['train']['pos'] + labels['train']['neg']\n",
    "    labels_test = labels['test']['pos'] + labels['test']['neg']\n",
    "    \n",
    "    #Shuffle reviews and corresponding labels within training and test sets\n",
    "    data_train, labels_train = shuffle(data_train, labels_train)\n",
    "    data_test, labels_test = shuffle(data_test, labels_test)\n",
    "    \n",
    "    # Return a unified training data, test data, training labels, test labets\n",
    "    return data_train, data_test, labels_train, labels_test"
   ]
  },
  {
   "cell_type": "code",
   "execution_count": 5,
   "metadata": {},
   "outputs": [
    {
     "name": "stdout",
     "output_type": "stream",
     "text": [
      "IMDb reviews (combined): train = 25000, test = 25000\n"
     ]
    }
   ],
   "source": [
    "train_X, test_X, train_y, test_y = prepare_imdb_data(data, labels)\n",
    "print(\"IMDb reviews (combined): train = {}, test = {}\".format(len(train_X), len(test_X)))"
   ]
  },
  {
   "cell_type": "markdown",
   "metadata": {},
   "source": [
    "Now that we have our training and testing sets unified and prepared, we should do a quick check and see an example of the data our model will be trained on. This is generally a good idea as it allows you to see how each of the further processing steps affects the reviews and it also ensures that the data has been loaded correctly."
   ]
  },
  {
   "cell_type": "code",
   "execution_count": 6,
   "metadata": {},
   "outputs": [
    {
     "name": "stdout",
     "output_type": "stream",
     "text": [
      "Alright this was quite a sensitive little number but I can't help thinking I've seen it before. Reminds me of another VCA film I saw at Poitier called \"THE OTHER DAYS OF RUBY RAE\" Also had specks of \"Welcome to the Dollhouse\" and \"Ratcatcher\" and Lynne Ramsay in it's execution. Which is not to say that they're not tasteful references...just that they feel very modern and very fashionable...which makes me feel like this is closer to advertising (as an approach in style and story) than the work of an original and authentic auteur to come.<br /><br />The cinematography is just...too perfect for my liking. Too coral filter (or charcoal) for my liking...too archly framed 12mm. Therefore the entire impression left me a little distant -- beware of art that proclaims itself too readily! The french (they are a conservative bunch) seemed to buy it as did the jury however... but Cannes short film selection is notoriously conservative compared to it's feature selection although I wonder what's been happening in the last few years.\n",
      "1\n"
     ]
    }
   ],
   "source": [
    "print(train_X[100])\n",
    "print(train_y[100])"
   ]
  },
  {
   "cell_type": "markdown",
   "metadata": {},
   "source": [
    "The first step in processing the reviews is to make sure that any html tags that appear should be removed. In addition we wish to tokenize our input, that way words such as *entertained* and *entertaining* are considered the same with regard to sentiment analysis."
   ]
  },
  {
   "cell_type": "code",
   "execution_count": 7,
   "metadata": {},
   "outputs": [],
   "source": [
    "import nltk\n",
    "from nltk.corpus import stopwords\n",
    "from nltk.stem.porter import *\n",
    "\n",
    "import re\n",
    "from bs4 import BeautifulSoup\n",
    "\n",
    "def review_to_words(review):\n",
    "    nltk.download(\"stopwords\", quiet=True)\n",
    "    stemmer = PorterStemmer()\n",
    "    \n",
    "    text = BeautifulSoup(review, \"html.parser\").get_text() # Remove HTML tags\n",
    "    text = re.sub(r\"[^a-zA-Z0-9]\", \" \", text.lower()) # Convert to lower case\n",
    "    words = text.split() # Split string into words\n",
    "    words = [w for w in words if w not in stopwords.words(\"english\")] # Remove stopwords\n",
    "    words = [PorterStemmer().stem(w) for w in words] # stem\n",
    "    \n",
    "    return words"
   ]
  },
  {
   "cell_type": "markdown",
   "metadata": {},
   "source": [
    "The `review_to_words` method defined above uses `BeautifulSoup` to remove any html tags that appear and uses the `nltk` package to tokenize the reviews. As a check to ensure we know how everything is working, try applying `review_to_words` to one of the reviews in the training set."
   ]
  },
  {
   "cell_type": "code",
   "execution_count": 8,
   "metadata": {},
   "outputs": [
    {
     "data": {
      "text/plain": [
       "['alright',\n",
       " 'quit',\n",
       " 'sensit',\n",
       " 'littl',\n",
       " 'number',\n",
       " 'help',\n",
       " 'think',\n",
       " 'seen',\n",
       " 'remind',\n",
       " 'anoth',\n",
       " 'vca',\n",
       " 'film',\n",
       " 'saw',\n",
       " 'poitier',\n",
       " 'call',\n",
       " 'day',\n",
       " 'rubi',\n",
       " 'rae',\n",
       " 'also',\n",
       " 'speck',\n",
       " 'welcom',\n",
       " 'dollhous',\n",
       " 'ratcatch',\n",
       " 'lynn',\n",
       " 'ramsay',\n",
       " 'execut',\n",
       " 'say',\n",
       " 'tast',\n",
       " 'refer',\n",
       " 'feel',\n",
       " 'modern',\n",
       " 'fashion',\n",
       " 'make',\n",
       " 'feel',\n",
       " 'like',\n",
       " 'closer',\n",
       " 'advertis',\n",
       " 'approach',\n",
       " 'style',\n",
       " 'stori',\n",
       " 'work',\n",
       " 'origin',\n",
       " 'authent',\n",
       " 'auteur',\n",
       " 'come',\n",
       " 'cinematographi',\n",
       " 'perfect',\n",
       " 'like',\n",
       " 'coral',\n",
       " 'filter',\n",
       " 'charcoal',\n",
       " 'like',\n",
       " 'archli',\n",
       " 'frame',\n",
       " '12mm',\n",
       " 'therefor',\n",
       " 'entir',\n",
       " 'impress',\n",
       " 'left',\n",
       " 'littl',\n",
       " 'distant',\n",
       " 'bewar',\n",
       " 'art',\n",
       " 'proclaim',\n",
       " 'readili',\n",
       " 'french',\n",
       " 'conserv',\n",
       " 'bunch',\n",
       " 'seem',\n",
       " 'buy',\n",
       " 'juri',\n",
       " 'howev',\n",
       " 'cann',\n",
       " 'short',\n",
       " 'film',\n",
       " 'select',\n",
       " 'notori',\n",
       " 'conserv',\n",
       " 'compar',\n",
       " 'featur',\n",
       " 'select',\n",
       " 'although',\n",
       " 'wonder',\n",
       " 'happen',\n",
       " 'last',\n",
       " 'year']"
      ]
     },
     "execution_count": 8,
     "metadata": {},
     "output_type": "execute_result"
    }
   ],
   "source": [
    "# TODO: Apply review_to_words to a review (train_X[100] or any other review)\n",
    "review_to_words(train_X[100])"
   ]
  },
  {
   "cell_type": "markdown",
   "metadata": {},
   "source": [
    "**Question:** Above we mentioned that `review_to_words` method removes html formatting and allows us to tokenize the words found in a review, for example, converting *entertained* and *entertaining* into *entertain* so that they are treated as though they are the same word. What else, if anything, does this method do to the input?"
   ]
  },
  {
   "cell_type": "markdown",
   "metadata": {},
   "source": [
    "**Answer:**\n",
    "\n",
    "Converts all words to lower case so that their roots can all match regardless of capitalization"
   ]
  },
  {
   "cell_type": "markdown",
   "metadata": {},
   "source": [
    "The method below applies the `review_to_words` method to each of the reviews in the training and testing datasets. In addition it caches the results. This is because performing this processing step can take a long time. This way if you are unable to complete the notebook in the current session, you can come back without needing to process the data a second time."
   ]
  },
  {
   "cell_type": "code",
   "execution_count": 9,
   "metadata": {},
   "outputs": [],
   "source": [
    "import pickle\n",
    "\n",
    "cache_dir = os.path.join(\"../cache\", \"sentiment_analysis\")  # where to store cache files\n",
    "os.makedirs(cache_dir, exist_ok=True)  # ensure cache directory exists\n",
    "\n",
    "def preprocess_data(data_train, data_test, labels_train, labels_test,\n",
    "                    cache_dir=cache_dir, cache_file=\"preprocessed_data.pkl\"):\n",
    "    \"\"\"Convert each review to words; read from cache if available.\"\"\"\n",
    "\n",
    "    # If cache_file is not None, try to read from it first\n",
    "    cache_data = None\n",
    "    if cache_file is not None:\n",
    "        try:\n",
    "            with open(os.path.join(cache_dir, cache_file), \"rb\") as f:\n",
    "                cache_data = pickle.load(f)\n",
    "            print(\"Read preprocessed data from cache file:\", cache_file)\n",
    "        except:\n",
    "            pass  # unable to read from cache, but that's okay\n",
    "    \n",
    "    # If cache is missing, then do the heavy lifting\n",
    "    if cache_data is None:\n",
    "        # Preprocess training and test data to obtain words for each review\n",
    "        #words_train = list(map(review_to_words, data_train))\n",
    "        #words_test = list(map(review_to_words, data_test))\n",
    "        words_train = [review_to_words(review) for review in data_train]\n",
    "        words_test = [review_to_words(review) for review in data_test]\n",
    "        \n",
    "        # Write to cache file for future runs\n",
    "        if cache_file is not None:\n",
    "            cache_data = dict(words_train=words_train, words_test=words_test,\n",
    "                              labels_train=labels_train, labels_test=labels_test)\n",
    "            with open(os.path.join(cache_dir, cache_file), \"wb\") as f:\n",
    "                pickle.dump(cache_data, f)\n",
    "            print(\"Wrote preprocessed data to cache file:\", cache_file)\n",
    "    else:\n",
    "        # Unpack data loaded from cache file\n",
    "        words_train, words_test, labels_train, labels_test = (cache_data['words_train'],\n",
    "                cache_data['words_test'], cache_data['labels_train'], cache_data['labels_test'])\n",
    "    \n",
    "    return words_train, words_test, labels_train, labels_test"
   ]
  },
  {
   "cell_type": "code",
   "execution_count": 12,
   "metadata": {},
   "outputs": [
    {
     "name": "stdout",
     "output_type": "stream",
     "text": [
      "Read preprocessed data from cache file: preprocessed_data.pkl\n"
     ]
    }
   ],
   "source": [
    "# Preprocess data\n",
    "train_X, test_X, train_y, test_y = preprocess_data(train_X, test_X, train_y, test_y)"
   ]
  },
  {
   "cell_type": "markdown",
   "metadata": {},
   "source": [
    "## Transform the data\n",
    "\n",
    "In the XGBoost notebook we transformed the data from its word representation to a bag-of-words feature representation. For the model we are going to construct in this notebook we will construct a feature representation which is very similar. To start, we will represent each word as an integer. Of course, some of the words that appear in the reviews occur very infrequently and so likely don't contain much information for the purposes of sentiment analysis. The way we will deal with this problem is that we will fix the size of our working vocabulary and we will only include the words that appear most frequently. We will then combine all of the infrequent words into a single category and, in our case, we will label it as `1`.\n",
    "\n",
    "Since we will be using a recurrent neural network, it will be convenient if the length of each review is the same. To do this, we will fix a size for our reviews and then pad short reviews with the category 'no word' (which we will label `0`) and truncate long reviews."
   ]
  },
  {
   "cell_type": "markdown",
   "metadata": {},
   "source": [
    "### (TODO) Create a word dictionary\n",
    "\n",
    "To begin with, we need to construct a way to map words that appear in the reviews to integers. Here we fix the size of our vocabulary (including the 'no word' and 'infrequent' categories) to be `5000` but you may wish to change this to see how it affects the model.\n",
    "\n",
    "> **TODO:** Complete the implementation for the `build_dict()` method below. Note that even though the vocab_size is set to `5000`, we only want to construct a mapping for the most frequently appearing `4998` words. This is because we want to reserve the special labels `0` for 'no word' and `1` for 'infrequent word'."
   ]
  },
  {
   "cell_type": "code",
   "execution_count": 14,
   "metadata": {},
   "outputs": [],
   "source": [
    "import numpy as np\n",
    "\n",
    "def build_dict(data, vocab_size = 5000):\n",
    "    \"\"\"Construct and return a dictionary mapping each of the most frequently appearing words to a unique integer.\"\"\"\n",
    "    \n",
    "    # TODO: Determine how often each word appears in `data`. Note that `data` is a list of sentences and that a\n",
    "    #       sentence is a list of words.\n",
    "    \n",
    "    word_count = {} # A dict storing the words that appear in the reviews along with how often they occur\n",
    "    \n",
    "    for sentence in data:\n",
    "        for word in sentence:\n",
    "            word_count[word] = word_count.get(word, 0) + 1\n",
    "    \n",
    "    # TODO: Sort the words found in `data` so that sorted_words[0] is the most frequently appearing word and\n",
    "    #       sorted_words[-1] is the least frequently appearing word.\n",
    "    \n",
    "    sorted_words = sorted(word_count.keys(), key=lambda key: word_count[key], reverse=True)\n",
    "    \n",
    "    word_dict = {} # This is what we are building, a dictionary that translates words into integers\n",
    "    for idx, word in enumerate(sorted_words[:vocab_size - 2]): # The -2 is so that we save room for the 'no word'\n",
    "        word_dict[word] = idx + 2                              # 'infrequent' labels\n",
    "        \n",
    "    return word_dict"
   ]
  },
  {
   "cell_type": "code",
   "execution_count": 15,
   "metadata": {},
   "outputs": [],
   "source": [
    "word_dict = build_dict(train_X)"
   ]
  },
  {
   "cell_type": "markdown",
   "metadata": {},
   "source": [
    "**Question:** What are the five most frequently appearing (tokenized) words in the training set? Does it makes sense that these words appear frequently in the training set?"
   ]
  },
  {
   "cell_type": "markdown",
   "metadata": {},
   "source": [
    "**Answer:**\n",
    "'movi', 'film', 'one', 'like', 'time', 'good'"
   ]
  },
  {
   "cell_type": "code",
   "execution_count": 16,
   "metadata": {},
   "outputs": [
    {
     "name": "stdout",
     "output_type": "stream",
     "text": [
      "{'movi': 2, 'film': 3, 'one': 4, 'like': 5, 'time': 6, 'good': 7, 'make': 8, 'charact': 9, 'get': 10, 'see': 11, 'watch': 12, 'stori': 13, 'even': 14, 'would': 15, 'realli': 16, 'well': 17, 'scene': 18, 'look': 19, 'show': 20, 'much': 21, 'end': 22, 'peopl': 23, 'bad': 24, 'go': 25, 'great': 26, 'also': 27, 'first': 28, 'love': 29, 'think': 30, 'way': 31, 'act': 32, 'play': 33, 'made': 34, 'thing': 35, 'could': 36, 'know': 37, 'say': 38, 'seem': 39, 'work': 40, 'plot': 41, 'two': 42, 'actor': 43, 'year': 44, 'come': 45, 'mani': 46, 'seen': 47, 'take': 48, 'want': 49, 'life': 50, 'never': 51, 'littl': 52, 'best': 53, 'tri': 54, 'man': 55, 'ever': 56, 'give': 57, 'better': 58, 'still': 59, 'perform': 60, 'find': 61, 'feel': 62, 'part': 63, 'back': 64, 'use': 65, 'someth': 66, 'director': 67, 'actual': 68, 'interest': 69, 'lot': 70, 'real': 71, 'old': 72, 'cast': 73, 'though': 74, 'live': 75, 'star': 76, 'enjoy': 77, 'guy': 78, 'anoth': 79, 'new': 80, 'role': 81, 'noth': 82, '10': 83, 'funni': 84, 'music': 85, 'point': 86, 'start': 87, 'set': 88, 'girl': 89, 'origin': 90, 'day': 91, 'world': 92, 'everi': 93, 'believ': 94, 'turn': 95, 'quit': 96, 'us': 97, 'direct': 98, 'thought': 99, 'fact': 100, 'minut': 101, 'horror': 102, 'kill': 103, 'action': 104, 'comedi': 105, 'pretti': 106, 'young': 107, 'wonder': 108, 'happen': 109, 'around': 110, 'got': 111, 'effect': 112, 'right': 113, 'long': 114, 'howev': 115, 'big': 116, 'line': 117, 'famili': 118, 'enough': 119, 'seri': 120, 'may': 121, 'need': 122, 'fan': 123, 'bit': 124, 'script': 125, 'beauti': 126, 'person': 127, 'becom': 128, 'without': 129, 'must': 130, 'alway': 131, 'friend': 132, 'tell': 133, 'reason': 134, 'saw': 135, 'last': 136, 'final': 137, 'kid': 138, 'almost': 139, 'put': 140, 'least': 141, 'sure': 142, 'done': 143, 'whole': 144, 'place': 145, 'complet': 146, 'kind': 147, 'differ': 148, 'expect': 149, 'shot': 150, 'far': 151, 'mean': 152, 'anyth': 153, 'book': 154, 'laugh': 155, 'might': 156, 'name': 157, 'sinc': 158, 'begin': 159, '2': 160, 'probabl': 161, 'woman': 162, 'help': 163, 'entertain': 164, 'let': 165, 'screen': 166, 'call': 167, 'tv': 168, 'moment': 169, 'away': 170, 'read': 171, 'yet': 172, 'rather': 173, 'worst': 174, 'run': 175, 'fun': 176, 'lead': 177, 'hard': 178, 'audienc': 179, 'idea': 180, 'anyon': 181, 'episod': 182, 'american': 183, 'found': 184, 'appear': 185, 'bore': 186, 'especi': 187, 'although': 188, 'hope': 189, 'cours': 190, 'keep': 191, 'anim': 192, 'job': 193, 'goe': 194, 'move': 195, 'sens': 196, 'dvd': 197, 'version': 198, 'war': 199, 'money': 200, 'someon': 201, 'mind': 202, 'mayb': 203, 'problem': 204, 'true': 205, 'hous': 206, 'everyth': 207, 'nice': 208, 'second': 209, 'rate': 210, 'three': 211, 'night': 212, 'follow': 213, 'face': 214, 'recommend': 215, 'product': 216, 'main': 217, 'worth': 218, 'leav': 219, 'human': 220, 'special': 221, 'excel': 222, 'togeth': 223, 'wast': 224, 'everyon': 225, 'sound': 226, 'john': 227, 'hand': 228, '1': 229, 'father': 230, 'later': 231, 'eye': 232, 'said': 233, 'view': 234, 'instead': 235, 'review': 236, 'boy': 237, 'high': 238, 'hour': 239, 'miss': 240, 'classic': 241, 'talk': 242, 'wife': 243, 'understand': 244, 'left': 245, 'care': 246, 'black': 247, 'death': 248, 'open': 249, 'murder': 250, 'write': 251, 'half': 252, 'head': 253, 'rememb': 254, 'chang': 255, 'viewer': 256, 'fight': 257, 'gener': 258, 'surpris': 259, 'includ': 260, 'short': 261, 'die': 262, 'fall': 263, 'less': 264, 'els': 265, 'entir': 266, 'piec': 267, 'involv': 268, 'pictur': 269, 'simpli': 270, 'top': 271, 'home': 272, 'power': 273, 'total': 274, 'usual': 275, 'budget': 276, 'attempt': 277, 'suppos': 278, 'releas': 279, 'hollywood': 280, 'terribl': 281, 'song': 282, 'men': 283, 'possibl': 284, 'featur': 285, 'portray': 286, 'disappoint': 287, 'poor': 288, '3': 289, 'coupl': 290, 'stupid': 291, 'camera': 292, 'dead': 293, 'wrong': 294, 'produc': 295, 'low': 296, 'video': 297, 'either': 298, 'aw': 299, 'definit': 300, 'except': 301, 'rest': 302, 'given': 303, 'absolut': 304, 'women': 305, 'lack': 306, 'word': 307, 'writer': 308, 'titl': 309, 'talent': 310, 'decid': 311, 'full': 312, 'perfect': 313, 'along': 314, 'style': 315, 'close': 316, 'truli': 317, 'school': 318, 'emot': 319, 'save': 320, 'age': 321, 'sex': 322, 'next': 323, 'bring': 324, 'mr': 325, 'case': 326, 'killer': 327, 'heart': 328, 'comment': 329, 'sort': 330, 'creat': 331, 'perhap': 332, 'came': 333, 'brother': 334, 'sever': 335, 'joke': 336, 'art': 337, 'dialogu': 338, 'game': 339, 'small': 340, 'base': 341, 'flick': 342, 'written': 343, 'sequenc': 344, 'meet': 345, 'earli': 346, 'often': 347, 'other': 348, 'mother': 349, 'develop': 350, 'humor': 351, 'actress': 352, 'consid': 353, 'dark': 354, 'guess': 355, 'amaz': 356, 'unfortun': 357, 'light': 358, 'lost': 359, 'exampl': 360, 'cinema': 361, 'drama': 362, 'ye': 363, 'white': 364, 'experi': 365, 'imagin': 366, 'mention': 367, 'stop': 368, 'natur': 369, 'forc': 370, 'manag': 371, 'felt': 372, 'present': 373, 'cut': 374, 'children': 375, 'fail': 376, 'son': 377, 'car': 378, 'support': 379, 'qualiti': 380, 'ask': 381, 'hit': 382, 'side': 383, 'voic': 384, 'extrem': 385, 'impress': 386, 'evil': 387, 'wors': 388, 'went': 389, 'stand': 390, 'certainli': 391, 'basic': 392, 'oh': 393, 'overal': 394, 'favorit': 395, 'horribl': 396, 'mysteri': 397, 'number': 398, 'type': 399, 'danc': 400, 'wait': 401, 'hero': 402, 'alreadi': 403, '5': 404, 'learn': 405, 'matter': 406, '4': 407, 'michael': 408, 'genr': 409, 'fine': 410, 'despit': 411, 'throughout': 412, 'walk': 413, 'success': 414, 'histori': 415, 'question': 416, 'zombi': 417, 'town': 418, 'relationship': 419, 'realiz': 420, 'past': 421, 'child': 422, 'daughter': 423, 'late': 424, 'b': 425, 'wish': 426, 'hate': 427, 'credit': 428, 'event': 429, 'theme': 430, 'touch': 431, 'citi': 432, 'today': 433, 'sometim': 434, 'behind': 435, 'god': 436, 'twist': 437, 'sit': 438, 'deal': 439, 'stay': 440, 'annoy': 441, 'abl': 442, 'rent': 443, 'pleas': 444, 'edit': 445, 'blood': 446, 'deserv': 447, 'comic': 448, 'anyway': 449, 'appar': 450, 'soon': 451, 'gave': 452, 'etc': 453, 'level': 454, 'slow': 455, 'chanc': 456, 'score': 457, 'bodi': 458, 'brilliant': 459, 'incred': 460, 'figur': 461, 'situat': 462, 'self': 463, 'major': 464, 'stuff': 465, 'decent': 466, 'element': 467, 'dream': 468, 'return': 469, 'obvious': 470, 'order': 471, 'continu': 472, 'pace': 473, 'ridicul': 474, 'happi': 475, 'add': 476, 'group': 477, 'highli': 478, 'thank': 479, 'ladi': 480, 'novel': 481, 'speak': 482, 'pain': 483, 'career': 484, 'shoot': 485, 'strang': 486, 'heard': 487, 'sad': 488, 'husband': 489, 'polic': 490, 'import': 491, 'break': 492, 'took': 493, 'cannot': 494, 'strong': 495, 'predict': 496, 'robert': 497, 'violenc': 498, 'hilari': 499, 'recent': 500, 'countri': 501, 'known': 502, 'particularli': 503, 'pick': 504, 'documentari': 505, 'season': 506, 'critic': 507, 'jame': 508, 'compar': 509, 'obviou': 510, 'alon': 511, 'told': 512, 'state': 513, 'visual': 514, 'rock': 515, 'theater': 516, 'exist': 517, 'offer': 518, 'opinion': 519, 'gore': 520, 'hold': 521, 'crap': 522, 'result': 523, 'hear': 524, 'room': 525, 'realiti': 526, 'clich': 527, 'effort': 528, 'thriller': 529, 'caus': 530, 'sequel': 531, 'serious': 532, 'explain': 533, 'king': 534, 'local': 535, 'ago': 536, 'hell': 537, 'none': 538, 'note': 539, 'allow': 540, 'sister': 541, 'david': 542, 'simpl': 543, 'femal': 544, 'deliv': 545, 'ok': 546, 'convinc': 547, 'class': 548, 'check': 549, 'suspens': 550, 'win': 551, 'buy': 552, 'oscar': 553, 'huge': 554, 'valu': 555, 'sexual': 556, 'cool': 557, 'scari': 558, 'similar': 559, 'excit': 560, 'provid': 561, 'exactli': 562, 'apart': 563, 'shown': 564, 'avoid': 565, 'seriou': 566, 'english': 567, 'taken': 568, 'whose': 569, 'cinematographi': 570, 'shock': 571, 'polit': 572, 'spoiler': 573, 'offic': 574, 'across': 575, 'middl': 576, 'pass': 577, 'street': 578, 'messag': 579, 'somewhat': 580, 'charm': 581, 'silli': 582, 'modern': 583, 'filmmak': 584, 'confus': 585, 'form': 586, 'tale': 587, 'singl': 588, 'jack': 589, 'mostli': 590, 'william': 591, 'carri': 592, 'attent': 593, 'sing': 594, 'five': 595, 'subject': 596, 'prove': 597, 'richard': 598, 'stage': 599, 'team': 600, 'unlik': 601, 'cop': 602, 'georg': 603, 'monster': 604, 'televis': 605, 'earth': 606, 'cover': 607, 'villain': 608, 'pay': 609, 'marri': 610, 'toward': 611, 'build': 612, 'pull': 613, 'parent': 614, 'due': 615, 'fill': 616, 'respect': 617, 'dialog': 618, 'four': 619, 'remind': 620, 'futur': 621, 'weak': 622, 'typic': 623, '7': 624, 'cheap': 625, 'intellig': 626, 'british': 627, 'atmospher': 628, 'clearli': 629, '80': 630, 'non': 631, 'paul': 632, 'dog': 633, 'fast': 634, 'artist': 635, 'knew': 636, '8': 637, 'crime': 638, 'easili': 639, 'escap': 640, 'adult': 641, 'doubt': 642, 'detail': 643, 'date': 644, 'romant': 645, 'member': 646, 'fire': 647, 'gun': 648, 'drive': 649, 'straight': 650, 'beyond': 651, 'fit': 652, 'attack': 653, 'imag': 654, 'upon': 655, 'posit': 656, 'whether': 657, 'peter': 658, 'fantast': 659, 'aspect': 660, 'captur': 661, 'appreci': 662, 'ten': 663, 'plan': 664, 'discov': 665, 'remain': 666, 'near': 667, 'period': 668, 'realist': 669, 'air': 670, 'mark': 671, 'red': 672, 'dull': 673, 'adapt': 674, 'within': 675, 'spend': 676, 'lose': 677, 'color': 678, 'materi': 679, 'chase': 680, 'mari': 681, 'storylin': 682, 'forget': 683, 'bunch': 684, 'clear': 685, 'lee': 686, 'victim': 687, 'nearli': 688, 'box': 689, 'york': 690, 'match': 691, 'inspir': 692, 'mess': 693, 'finish': 694, 'standard': 695, 'easi': 696, 'truth': 697, 'busi': 698, 'suffer': 699, 'space': 700, 'bill': 701, 'dramat': 702, 'western': 703, 'e': 704, 'list': 705, 'battl': 706, 'notic': 707, 'de': 708, 'french': 709, 'ad': 710, '9': 711, 'tom': 712, 'larg': 713, 'among': 714, 'eventu': 715, 'accept': 716, 'train': 717, 'agre': 718, 'spirit': 719, 'soundtrack': 720, 'third': 721, 'teenag': 722, 'adventur': 723, 'soldier': 724, 'famou': 725, 'suggest': 726, 'sorri': 727, 'drug': 728, 'cri': 729, 'normal': 730, 'babi': 731, 'troubl': 732, 'ultim': 733, 'contain': 734, 'certain': 735, 'cultur': 736, 'romanc': 737, 'rare': 738, 'lame': 739, 'somehow': 740, 'disney': 741, 'mix': 742, 'gone': 743, 'cartoon': 744, 'student': 745, 'fear': 746, 'reveal': 747, 'suck': 748, 'kept': 749, 'attract': 750, 'appeal': 751, 'premis': 752, 'greatest': 753, 'secret': 754, 'design': 755, 'shame': 756, 'throw': 757, 'copi': 758, 'scare': 759, 'wit': 760, 'admit': 761, 'america': 762, 'relat': 763, 'particular': 764, 'brought': 765, 'screenplay': 766, 'whatev': 767, 'pure': 768, '70': 769, 'averag': 770, 'harri': 771, 'master': 772, 'describ': 773, 'treat': 774, 'male': 775, '20': 776, 'issu': 777, 'fantasi': 778, 'warn': 779, 'inde': 780, 'forward': 781, 'background': 782, 'free': 783, 'project': 784, 'memor': 785, 'japanes': 786, 'poorli': 787, 'award': 788, 'locat': 789, 'potenti': 790, 'amus': 791, 'struggl': 792, 'weird': 793, 'magic': 794, 'societi': 795, 'okay': 796, 'accent': 797, 'imdb': 798, 'doctor': 799, 'hot': 800, 'water': 801, '30': 802, 'express': 803, 'alien': 804, 'dr': 805, 'odd': 806, 'crazi': 807, 'choic': 808, 'studio': 809, 'fiction': 810, 'becam': 811, 'control': 812, 'masterpiec': 813, 'difficult': 814, 'fli': 815, 'joe': 816, 'scream': 817, 'costum': 818, 'lover': 819, 'uniqu': 820, 'refer': 821, 'remak': 822, 'girlfriend': 823, 'vampir': 824, 'prison': 825, 'execut': 826, 'wear': 827, 'jump': 828, 'unless': 829, 'wood': 830, 'creepi': 831, 'cheesi': 832, 'superb': 833, 'otherwis': 834, 'parti': 835, 'roll': 836, 'ghost': 837, 'public': 838, 'mad': 839, 'depict': 840, 'earlier': 841, 'moral': 842, 'badli': 843, 'week': 844, 'jane': 845, 'dumb': 846, 'fi': 847, 'grow': 848, 'flaw': 849, 'deep': 850, 'sci': 851, 'maker': 852, 'cat': 853, 'footag': 854, 'older': 855, 'connect': 856, 'bother': 857, 'plenti': 858, 'outsid': 859, 'stick': 860, 'gay': 861, 'catch': 862, 'co': 863, 'plu': 864, 'popular': 865, 'equal': 866, 'social': 867, 'quickli': 868, 'disturb': 869, 'perfectli': 870, 'dress': 871, '90': 872, 'era': 873, 'mistak': 874, 'lie': 875, 'ride': 876, 'previou': 877, 'combin': 878, 'concept': 879, 'band': 880, 'answer': 881, 'surviv': 882, 'rich': 883, 'front': 884, 'christma': 885, 'sweet': 886, 'insid': 887, 'bare': 888, 'eat': 889, 'concern': 890, 'listen': 891, 'beat': 892, 'ben': 893, 'c': 894, 'term': 895, 'serv': 896, 'german': 897, 'meant': 898, 'la': 899, 'hardli': 900, 'stereotyp': 901, 'law': 902, 'innoc': 903, 'desper': 904, 'promis': 905, 'memori': 906, 'cute': 907, 'intent': 908, 'inform': 909, 'variou': 910, 'steal': 911, 'brain': 912, 'post': 913, 'tone': 914, 'island': 915, 'amount': 916, 'compani': 917, 'nuditi': 918, 'track': 919, 'claim': 920, 'store': 921, '50': 922, 'flat': 923, 'hair': 924, 'land': 925, 'univers': 926, 'fairli': 927, 'kick': 928, 'scott': 929, 'danger': 930, 'player': 931, 'crew': 932, 'step': 933, 'plain': 934, 'toni': 935, 'share': 936, 'centuri': 937, 'tast': 938, 'engag': 939, 'achiev': 940, 'cold': 941, 'travel': 942, 'rip': 943, 'suit': 944, 'record': 945, 'manner': 946, 'sadli': 947, 'wrote': 948, 'tension': 949, 'spot': 950, 'intens': 951, 'fascin': 952, 'familiar': 953, 'depth': 954, 'burn': 955, 'remark': 956, 'histor': 957, 'destroy': 958, 'sleep': 959, 'purpos': 960, 'languag': 961, 'ruin': 962, 'ignor': 963, 'delight': 964, 'italian': 965, 'unbeliev': 966, 'soul': 967, 'collect': 968, 'abil': 969, 'clever': 970, 'detect': 971, 'violent': 972, 'rape': 973, 'reach': 974, 'door': 975, 'trash': 976, 'liter': 977, 'scienc': 978, 'reveng': 979, 'caught': 980, 'commun': 981, 'creatur': 982, 'approach': 983, 'trip': 984, 'intrigu': 985, 'fashion': 986, 'introduc': 987, 'skill': 988, 'paint': 989, 'channel': 990, 'complex': 991, 'camp': 992, 'christian': 993, 'hole': 994, 'extra': 995, 'immedi': 996, 'limit': 997, 'ann': 998, 'mental': 999, '6': 1000, 'mere': 1001, 'slightli': 1002, 'million': 1003, 'comput': 1004, 'conclus': 1005, 'slasher': 1006, 'suddenli': 1007, 'imposs': 1008, 'crimin': 1009, 'teen': 1010, 'neither': 1011, 'spent': 1012, 'nation': 1013, 'physic': 1014, 'respons': 1015, 'planet': 1016, 'receiv': 1017, 'fake': 1018, 'blue': 1019, 'sick': 1020, 'bizarr': 1021, 'embarrass': 1022, 'indian': 1023, '15': 1024, 'ring': 1025, 'drop': 1026, 'pop': 1027, 'drag': 1028, 'haunt': 1029, 'suspect': 1030, 'pointless': 1031, 'search': 1032, 'edg': 1033, 'handl': 1034, 'common': 1035, 'biggest': 1036, 'arriv': 1037, 'faith': 1038, 'hurt': 1039, 'technic': 1040, 'angel': 1041, 'genuin': 1042, 'dad': 1043, 'f': 1044, 'awesom': 1045, 'solid': 1046, 'focu': 1047, 'van': 1048, 'former': 1049, 'colleg': 1050, 'count': 1051, 'tear': 1052, 'heavi': 1053, 'wall': 1054, 'rais': 1055, 'younger': 1056, 'laughabl': 1057, 'visit': 1058, 'excus': 1059, 'fair': 1060, 'sign': 1061, 'cult': 1062, 'motion': 1063, 'key': 1064, 'tough': 1065, 'desir': 1066, 'super': 1067, 'stun': 1068, 'addit': 1069, 'exploit': 1070, 'cloth': 1071, 'smith': 1072, 'tortur': 1073, 'davi': 1074, 'race': 1075, 'cross': 1076, 'author': 1077, 'jim': 1078, 'compel': 1079, 'consist': 1080, 'minor': 1081, 'focus': 1082, 'commit': 1083, 'pathet': 1084, 'chemistri': 1085, 'park': 1086, 'obsess': 1087, 'frank': 1088, 'tradit': 1089, 'grade': 1090, '60': 1091, 'asid': 1092, 'brutal': 1093, 'somewher': 1094, 'steve': 1095, 'opportun': 1096, 'explor': 1097, 'depress': 1098, 'rule': 1099, 'grant': 1100, 'u': 1101, 'besid': 1102, 'honest': 1103, 'anti': 1104, 'dub': 1105, 'intend': 1106, 'trailer': 1107, 'bar': 1108, 'longer': 1109, 'scientist': 1110, 'west': 1111, 'regard': 1112, 'decad': 1113, 'judg': 1114, 'silent': 1115, 'armi': 1116, 'creativ': 1117, 'wild': 1118, 'south': 1119, 'stewart': 1120, 'g': 1121, 'draw': 1122, 'road': 1123, 'govern': 1124, 'boss': 1125, 'ex': 1126, 'practic': 1127, 'motiv': 1128, 'gang': 1129, 'club': 1130, 'festiv': 1131, 'surprisingli': 1132, 'redeem': 1133, 'london': 1134, 'green': 1135, 'page': 1136, 'machin': 1137, 'aliv': 1138, 'idiot': 1139, 'display': 1140, 'militari': 1141, 'repeat': 1142, 'thrill': 1143, 'nobodi': 1144, 'yeah': 1145, '100': 1146, 'folk': 1147, '40': 1148, 'journey': 1149, 'garbag': 1150, 'ground': 1151, 'smile': 1152, 'tire': 1153, 'bought': 1154, 'mood': 1155, 'stone': 1156, 'cost': 1157, 'sam': 1158, 'noir': 1159, 'mouth': 1160, 'agent': 1161, 'terrif': 1162, 'utterli': 1163, 'requir': 1164, 'area': 1165, 'honestli': 1166, 'sexi': 1167, 'report': 1168, 'geniu': 1169, 'enter': 1170, 'investig': 1171, 'humour': 1172, 'glad': 1173, 'serial': 1174, 'occasion': 1175, 'passion': 1176, 'narr': 1177, 'marriag': 1178, 'climax': 1179, 'industri': 1180, 'studi': 1181, 'demon': 1182, 'center': 1183, 'charli': 1184, 'ship': 1185, 'nowher': 1186, 'hors': 1187, 'bear': 1188, 'loos': 1189, 'wow': 1190, 'hang': 1191, 'graphic': 1192, 'giant': 1193, 'admir': 1194, 'send': 1195, 'loud': 1196, 'damn': 1197, 'profession': 1198, 'rel': 1199, 'subtl': 1200, 'nake': 1201, 'blow': 1202, 'bottom': 1203, 'insult': 1204, 'batman': 1205, 'boyfriend': 1206, 'r': 1207, 'doubl': 1208, 'kelli': 1209, 'initi': 1210, 'frame': 1211, 'gem': 1212, 'opera': 1213, 'challeng': 1214, 'church': 1215, 'affect': 1216, 'cinemat': 1217, 'drawn': 1218, 'seek': 1219, 'j': 1220, 'fulli': 1221, 'nightmar': 1222, 'evid': 1223, 'l': 1224, 'essenti': 1225, 'arm': 1226, 'conflict': 1227, 'wind': 1228, 'henri': 1229, 'grace': 1230, 'christoph': 1231, 'narrat': 1232, 'assum': 1233, 'witch': 1234, 'push': 1235, 'hunt': 1236, 'wise': 1237, 'chri': 1238, 'repres': 1239, 'month': 1240, 'nomin': 1241, 'avail': 1242, 'sceneri': 1243, 'hide': 1244, 'affair': 1245, 'thu': 1246, 'smart': 1247, 'justic': 1248, 'bond': 1249, 'flashback': 1250, 'outstand': 1251, 'interview': 1252, 'satisfi': 1253, 'constantli': 1254, 'presenc': 1255, 'bed': 1256, 'central': 1257, 'sell': 1258, 'iron': 1259, 'content': 1260, 'everybodi': 1261, 'gag': 1262, 'hotel': 1263, 'slowli': 1264, 'hire': 1265, 'system': 1266, 'thrown': 1267, 'hey': 1268, 'individu': 1269, 'charl': 1270, 'adam': 1271, 'allen': 1272, 'mediocr': 1273, 'jone': 1274, 'lesson': 1275, 'billi': 1276, 'ray': 1277, 'photographi': 1278, 'cameo': 1279, 'fellow': 1280, 'pari': 1281, 'strike': 1282, 'independ': 1283, 'absurd': 1284, 'brief': 1285, 'rise': 1286, 'neg': 1287, 'impact': 1288, 'phone': 1289, 'born': 1290, 'model': 1291, 'ill': 1292, 'fresh': 1293, 'spoil': 1294, 'angl': 1295, 'likabl': 1296, 'abus': 1297, 'hill': 1298, 'discuss': 1299, 'sight': 1300, 'ahead': 1301, 'sent': 1302, 'photograph': 1303, 'blame': 1304, 'occur': 1305, 'shine': 1306, 'logic': 1307, 'bruce': 1308, 'mainli': 1309, 'commerci': 1310, 'skip': 1311, 'forev': 1312, 'held': 1313, 'teacher': 1314, 'surround': 1315, 'segment': 1316, 'blond': 1317, 'zero': 1318, 'summer': 1319, 'trap': 1320, 'satir': 1321, 'resembl': 1322, 'fool': 1323, 'six': 1324, 'queen': 1325, 'ball': 1326, 'sub': 1327, 'tragedi': 1328, 'twice': 1329, 'reaction': 1330, 'pack': 1331, 'bomb': 1332, 'protagonist': 1333, 'hospit': 1334, 'will': 1335, 'sport': 1336, 'mile': 1337, 'trust': 1338, 'drink': 1339, 'vote': 1340, 'mom': 1341, 'jerri': 1342, 'encount': 1343, 'plane': 1344, 'current': 1345, 'program': 1346, 'station': 1347, 'al': 1348, 'celebr': 1349, 'martin': 1350, 'choos': 1351, 'join': 1352, 'favourit': 1353, 'round': 1354, 'tragic': 1355, 'lord': 1356, 'field': 1357, 'vision': 1358, 'jean': 1359, 'robot': 1360, 'tie': 1361, 'arthur': 1362, 'roger': 1363, 'random': 1364, 'fortun': 1365, 'dread': 1366, 'psycholog': 1367, 'intern': 1368, 'epic': 1369, 'nonsens': 1370, 'improv': 1371, 'prefer': 1372, 'formula': 1373, 'pleasur': 1374, 'highlight': 1375, 'legend': 1376, 'tape': 1377, '11': 1378, 'dollar': 1379, 'object': 1380, 'fox': 1381, 'wide': 1382, 'porn': 1383, 'gorgeou': 1384, 'thin': 1385, 'influenc': 1386, 'buddi': 1387, 'ugli': 1388, 'ii': 1389, 'prepar': 1390, 'nasti': 1391, 'warm': 1392, 'progress': 1393, 'supposedli': 1394, 'reflect': 1395, 'worthi': 1396, 'youth': 1397, 'length': 1398, 'unusu': 1399, 'latter': 1400, 'crash': 1401, 'superior': 1402, 'shop': 1403, 'childhood': 1404, 'seven': 1405, 'theatr': 1406, 'remot': 1407, 'pilot': 1408, 'disgust': 1409, 'paid': 1410, 'funniest': 1411, 'castl': 1412, 'fell': 1413, 'convers': 1414, 'trick': 1415, 'disast': 1416, 'gangster': 1417, 'rob': 1418, 'establish': 1419, 'mine': 1420, 'heaven': 1421, 'ident': 1422, 'disappear': 1423, 'suicid': 1424, 'mask': 1425, 'singer': 1426, 'decis': 1427, 'tend': 1428, 'forgotten': 1429, 'heroin': 1430, 'partner': 1431, 'brian': 1432, 'desert': 1433, 'recogn': 1434, 'alan': 1435, 'ms': 1436, 'p': 1437, 'sky': 1438, 'thoroughli': 1439, 'stuck': 1440, 'accur': 1441, 'replac': 1442, 'market': 1443, 'danni': 1444, 'seemingli': 1445, 'commentari': 1446, 'clue': 1447, 'uncl': 1448, 'andi': 1449, 'eddi': 1450, 'devil': 1451, 'jackson': 1452, 'pair': 1453, 'refus': 1454, 'therefor': 1455, 'that': 1456, 'unit': 1457, 'fault': 1458, 'accid': 1459, 'river': 1460, 'ed': 1461, 'fate': 1462, 'afraid': 1463, 'tune': 1464, 'clean': 1465, 'stephen': 1466, 'hidden': 1467, 'russian': 1468, 'irrit': 1469, 'captain': 1470, 'test': 1471, 'readi': 1472, 'convey': 1473, 'instanc': 1474, 'quick': 1475, 'european': 1476, 'daniel': 1477, 'frustrat': 1478, 'insan': 1479, '1950': 1480, 'rescu': 1481, 'food': 1482, 'chines': 1483, 'wed': 1484, 'dirti': 1485, 'lock': 1486, 'angri': 1487, 'joy': 1488, 'steven': 1489, 'price': 1490, 'cage': 1491, 'bland': 1492, 'anymor': 1493, 'rang': 1494, 'wooden': 1495, 'rush': 1496, 'news': 1497, 'n': 1498, 'jason': 1499, 'twenti': 1500, '12': 1501, 'led': 1502, 'worri': 1503, 'board': 1504, 'martial': 1505, 'hunter': 1506, 'symbol': 1507, 'cgi': 1508, 'transform': 1509, 'sentiment': 1510, 'johnni': 1511, 'invent': 1512, 'x': 1513, 'onto': 1514, 'piti': 1515, 'process': 1516, 'attitud': 1517, 'explan': 1518, 'awar': 1519, 'owner': 1520, 'aim': 1521, 'necessari': 1522, 'favor': 1523, 'target': 1524, 'energi': 1525, 'floor': 1526, 'religi': 1527, 'opposit': 1528, 'blind': 1529, 'window': 1530, 'chick': 1531, 'insight': 1532, 'movement': 1533, 'possess': 1534, 'mountain': 1535, 'deepli': 1536, 'research': 1537, 'comparison': 1538, 'grand': 1539, 'rain': 1540, 'whatsoev': 1541, 'comed': 1542, 'mid': 1543, 'shadow': 1544, 'began': 1545, 'bank': 1546, 'parodi': 1547, 'princ': 1548, 'credibl': 1549, 'taylor': 1550, 'friendship': 1551, 'weapon': 1552, 'pre': 1553, 'dougla': 1554, 'flesh': 1555, 'teach': 1556, 'bloodi': 1557, 'hint': 1558, 'protect': 1559, 'terror': 1560, 'marvel': 1561, 'watchabl': 1562, 'accord': 1563, 'superman': 1564, 'leader': 1565, 'load': 1566, 'anybodi': 1567, 'drunk': 1568, 'brown': 1569, 'freddi': 1570, 'appropri': 1571, 'seat': 1572, 'jeff': 1573, 'hitler': 1574, 'tim': 1575, 'villag': 1576, 'unknown': 1577, 'knock': 1578, 'charg': 1579, 'keaton': 1580, 'enemi': 1581, 'media': 1582, 'england': 1583, 'unnecessari': 1584, 'empti': 1585, 'strength': 1586, 'dare': 1587, 'craft': 1588, 'buck': 1589, 'wave': 1590, 'utter': 1591, 'perspect': 1592, 'contrast': 1593, 'correct': 1594, 'nativ': 1595, 'kiss': 1596, 'ford': 1597, 'knowledg': 1598, 'chill': 1599, 'distract': 1600, 'nazi': 1601, 'anywher': 1602, 'soap': 1603, 'speed': 1604, 'magnific': 1605, '1980': 1606, 'breath': 1607, 'ice': 1608, 'mission': 1609, 'fred': 1610, 'moon': 1611, 'joan': 1612, 'jr': 1613, 'crowd': 1614, 'frighten': 1615, 'kate': 1616, '000': 1617, 'soft': 1618, 'nick': 1619, 'dan': 1620, 'hundr': 1621, 'dick': 1622, 'simon': 1623, 'radio': 1624, 'somebodi': 1625, 'dozen': 1626, 'thousand': 1627, 'andrew': 1628, 'academi': 1629, 'shakespear': 1630, 'loss': 1631, 'account': 1632, 'root': 1633, 'quot': 1634, 'sum': 1635, 'vehicl': 1636, 'behavior': 1637, 'leg': 1638, 'convent': 1639, '1970': 1640, 'gold': 1641, 'regular': 1642, 'pretenti': 1643, 'compet': 1644, 'demand': 1645, 'worker': 1646, 'candi': 1647, 'stretch': 1648, 'explos': 1649, 'notabl': 1650, 'interpret': 1651, 'japan': 1652, 'privat': 1653, 'lynch': 1654, 'debut': 1655, 'constant': 1656, 'tarzan': 1657, 'sea': 1658, 'prais': 1659, 'translat': 1660, 'revolv': 1661, 'spi': 1662, 'ass': 1663, 'technolog': 1664, 'jesu': 1665, 'franc': 1666, 'failur': 1667, 'sat': 1668, 'quiet': 1669, 'threaten': 1670, 'met': 1671, 'kevin': 1672, 'higher': 1673, 'toy': 1674, 'aid': 1675, 'punch': 1676, 'mike': 1677, 'interact': 1678, 'vh': 1679, 'abandon': 1680, 'confront': 1681, 'separ': 1682, 'command': 1683, 'bet': 1684, 'gotten': 1685, 'belong': 1686, 'recal': 1687, 'servic': 1688, 'site': 1689, 'stunt': 1690, 'techniqu': 1691, 'cabl': 1692, 'bug': 1693, 'foot': 1694, 'freak': 1695, 'bright': 1696, 'jimmi': 1697, 'african': 1698, 'fu': 1699, 'capabl': 1700, 'boat': 1701, 'succeed': 1702, 'clark': 1703, 'fat': 1704, 'stock': 1705, 'presid': 1706, 'spanish': 1707, 'gene': 1708, 'structur': 1709, 'kidnap': 1710, 'paper': 1711, 'factor': 1712, 'belief': 1713, 'whilst': 1714, 'complic': 1715, 'tree': 1716, 'witti': 1717, 'bob': 1718, 'attend': 1719, 'realism': 1720, 'realis': 1721, 'educ': 1722, 'assist': 1723, 'santa': 1724, 'finest': 1725, 'broken': 1726, 'smoke': 1727, 'depart': 1728, 'v': 1729, 'determin': 1730, 'observ': 1731, 'up': 1732, 'oper': 1733, 'lewi': 1734, 'routin': 1735, 'rubbish': 1736, 'hat': 1737, 'domin': 1738, 'fame': 1739, 'morgan': 1740, 'advanc': 1741, 'foreign': 1742, 'kinda': 1743, 'hook': 1744, 'lone': 1745, 'safe': 1746, 'numer': 1747, 'rank': 1748, 'vs': 1749, 'rose': 1750, 'werewolf': 1751, 'shape': 1752, 'civil': 1753, 'shallow': 1754, 'washington': 1755, 'gari': 1756, 'morn': 1757, 'ordinari': 1758, 'winner': 1759, 'accomplish': 1760, 'kong': 1761, 'whenev': 1762, 'peac': 1763, 'grab': 1764, 'virtual': 1765, 'h': 1766, 'offens': 1767, 'luck': 1768, 'activ': 1769, 'bigger': 1770, 'complain': 1771, 'welcom': 1772, 'contriv': 1773, 'patient': 1774, 'unfunni': 1775, 'trek': 1776, 'dimension': 1777, 'pretend': 1778, 'con': 1779, 'code': 1780, 'flash': 1781, 'lesbian': 1782, 'wake': 1783, 'dri': 1784, 'eric': 1785, 'cain': 1786, 'dancer': 1787, 'guard': 1788, 'statu': 1789, 'corrupt': 1790, 'manipul': 1791, 'albert': 1792, 'awkward': 1793, 'signific': 1794, 'gain': 1795, 'sourc': 1796, 'context': 1797, 'speech': 1798, 'clip': 1799, 'sean': 1800, 'corni': 1801, '13': 1802, 'psycho': 1803, 'anthoni': 1804, 'religion': 1805, 'priest': 1806, 'curiou': 1807, 'reli': 1808, 'w': 1809, 'advic': 1810, 'theatric': 1811, 'flow': 1812, 'addict': 1813, 'asian': 1814, 'howard': 1815, 'secur': 1816, 'skin': 1817, 'specif': 1818, 'jennif': 1819, 'organ': 1820, 'core': 1821, 'luke': 1822, 'comfort': 1823, 'golden': 1824, 'promot': 1825, 'cheat': 1826, 'cash': 1827, 'lucki': 1828, 'dislik': 1829, 'associ': 1830, 'lower': 1831, 'contribut': 1832, 'spell': 1833, 'balanc': 1834, 'degre': 1835, 'frankli': 1836, 'regret': 1837, 'frequent': 1838, 'devic': 1839, 'wing': 1840, 'lake': 1841, 'print': 1842, 'sake': 1843, 'forgiv': 1844, 'thoma': 1845, 'mass': 1846, 'betti': 1847, 'crack': 1848, 'gordon': 1849, 'unexpect': 1850, 'grown': 1851, 'categori': 1852, 'construct': 1853, 'amateur': 1854, 'invit': 1855, 'depend': 1856, 'unfold': 1857, 'honor': 1858, 'intellectu': 1859, 'condit': 1860, 'matur': 1861, 'grew': 1862, 'walter': 1863, 'anna': 1864, 'spectacular': 1865, 'mirror': 1866, 'sole': 1867, 'veteran': 1868, 'sudden': 1869, 'overli': 1870, 'card': 1871, 'freedom': 1872, 'robin': 1873, 'meanwhil': 1874, 'gift': 1875, 'grip': 1876, 'experienc': 1877, 'liner': 1878, 'demonstr': 1879, 'unabl': 1880, 'theori': 1881, 'drew': 1882, 'oliv': 1883, 'crappi': 1884, 'brilliantli': 1885, 'subtitl': 1886, 'section': 1887, 'colour': 1888, 'circumst': 1889, 'sheriff': 1890, 'sheer': 1891, 'laughter': 1892, 'matt': 1893, 'parker': 1894, 'altern': 1895, 'pile': 1896, 'cook': 1897, 'path': 1898, 'treatment': 1899, 'defin': 1900, 'hall': 1901, 'relief': 1902, 'accident': 1903, 'lawyer': 1904, 'wander': 1905, 'sinatra': 1906, 'captiv': 1907, 'hank': 1908, 'dragon': 1909, 'moor': 1910, 'gratuit': 1911, 'halloween': 1912, 'barbara': 1913, 'k': 1914, 'cowboy': 1915, 'unintent': 1916, 'wayn': 1917, 'wound': 1918, 'kung': 1919, 'jacki': 1920, 'broadway': 1921, 'spoof': 1922, 'statement': 1923, 'canadian': 1924, 'winter': 1925, 'surreal': 1926, 'fish': 1927, 'treasur': 1928, 'compos': 1929, 'gonna': 1930, 'cheer': 1931, 'fare': 1932, 'unrealist': 1933, 'sensit': 1934, 'woodi': 1935, 'victor': 1936, 'emerg': 1937, 'sympathet': 1938, 'ran': 1939, 'driven': 1940, 'neighbor': 1941, 'topic': 1942, 'glass': 1943, 'authent': 1944, 'menac': 1945, 'expos': 1946, 'overlook': 1947, 'gross': 1948, 'chief': 1949, 'michel': 1950, 'handsom': 1951, 'ancient': 1952, 'contemporari': 1953, 'feet': 1954, 'comedian': 1955, 'nevertheless': 1956, 'stranger': 1957, 'built': 1958, 'cinderella': 1959, 'pleasant': 1960, 'russel': 1961, 'network': 1962, 'earn': 1963, 'miser': 1964, 'underr': 1965, 'endless': 1966, 'consider': 1967, 'letter': 1968, 'gori': 1969, 'blockbust': 1970, 'solv': 1971, 'switch': 1972, 'brook': 1973, 'bullet': 1974, 'joseph': 1975, 'virgin': 1976, 'edward': 1977, 'convict': 1978, 'victoria': 1979, 'scenario': 1980, '0': 1981, 'cynic': 1982, 'chosen': 1983, 'alex': 1984, 'scale': 1985, 'sword': 1986, 'gut': 1987, 'curs': 1988, 'com': 1989, 'outrag': 1990, 'proper': 1991, 'juli': 1992, 'uk': 1993, 'driver': 1994, 'substanc': 1995, 'wrap': 1996, 'screenwrit': 1997, 'monkey': 1998, 'remov': 1999, 'indic': 2000, 'bird': 2001, 'par': 2002, 'court': 2003, 'advertis': 2004, 'rental': 2005, 'consequ': 2006, 'grave': 2007, 'loser': 2008, 'inevit': 2009, 'naiv': 2010, 'nanci': 2011, 'roy': 2012, 'germani': 2013, 'bridg': 2014, 'le': 2015, 'fatal': 2016, 'invis': 2017, 'brave': 2018, 'slap': 2019, 'ador': 2020, 'anger': 2021, 'footbal': 2022, 'provok': 2023, 'loui': 2024, 'anderson': 2025, 'alcohol': 2026, 'chan': 2027, 'professor': 2028, 'ryan': 2029, 'stumbl': 2030, 'willi': 2031, 'sharp': 2032, 'assassin': 2033, 'patrick': 2034, 'australian': 2035, 'bat': 2036, '1930': 2037, 'heck': 2038, 'amateurish': 2039, 'trilog': 2040, 'refresh': 2041, 'eight': 2042, 'ape': 2043, 'saturday': 2044, 'liber': 2045, 'deni': 2046, 'lousi': 2047, 'cell': 2048, 'strongli': 2049, 'sin': 2050, 'vagu': 2051, 'justifi': 2052, 'san': 2053, 'resid': 2054, 'reput': 2055, 'creator': 2056, 'sympathi': 2057, 'terrifi': 2058, 'mini': 2059, 'indi': 2060, 'defeat': 2061, 'tediou': 2062, 'endur': 2063, 'expert': 2064, 'tabl': 2065, 'prevent': 2066, 'task': 2067, 'imit': 2068, 'rival': 2069, 'offend': 2070, 'employ': 2071, 'basebal': 2072, 'trial': 2073, 'che': 2074, 'beach': 2075, 'weekend': 2076, 'europ': 2077, 'pitch': 2078, 'fairi': 2079, 'dig': 2080, 'complaint': 2081, 'max': 2082, 'format': 2083, 'risk': 2084, 'murphi': 2085, 'purchas': 2086, 'harsh': 2087, 'hype': 2088, 'glimps': 2089, 'bite': 2090, 'reminisc': 2091, 'tini': 2092, 'powel': 2093, 'nois': 2094, 'titan': 2095, '14': 2096, 'north': 2097, 'fals': 2098, 'asleep': 2099, 'prime': 2100, 'strip': 2101, 'till': 2102, 'texa': 2103, 'revel': 2104, 'destruct': 2105, 'africa': 2106, 'descript': 2107, 'arrest': 2108, 'excess': 2109, 'uninterest': 2110, 'surfac': 2111, 'inner': 2112, 'spin': 2113, 'sitcom': 2114, 'semi': 2115, 'makeup': 2116, 'massiv': 2117, 'controversi': 2118, 'hitchcock': 2119, 'argu': 2120, 'dinosaur': 2121, 'maintain': 2122, 'twin': 2123, 'insist': 2124, 'melodrama': 2125, 'reject': 2126, 'expens': 2127, 'kim': 2128, 'ludicr': 2129, 'ideal': 2130, 'stare': 2131, 'supernatur': 2132, 'atroci': 2133, 'host': 2134, 'ala': 2135, 'press': 2136, 'columbo': 2137, 'ga': 2138, 'nail': 2139, 'subplot': 2140, 'erot': 2141, 'forest': 2142, 'notch': 2143, 'presum': 2144, 'dude': 2145, 'identifi': 2146, 'cant': 2147, 'plagu': 2148, 'closer': 2149, 'method': 2150, 'crude': 2151, 'guest': 2152, 'forgett': 2153, 'character': 2154, 'ear': 2155, 'landscap': 2156, 'lion': 2157, 'border': 2158, 'foster': 2159, 'beast': 2160, 'princess': 2161, 'birth': 2162, 'jungl': 2163, 'urban': 2164, 'accus': 2165, 'storytel': 2166, 'damag': 2167, 'previous': 2168, 'bound': 2169, 'pacino': 2170, 'aunt': 2171, 'emma': 2172, 'jess': 2173, 'nude': 2174, 'guid': 2175, 'chose': 2176, 'doll': 2177, 'propaganda': 2178, 'thirti': 2179, 'mate': 2180, 'warrior': 2181, 'pet': 2182, '25': 2183, 'mainstream': 2184, 'whoever': 2185, 'friday': 2186, 'upset': 2187, 'deadli': 2188, 'exact': 2189, 'poster': 2190, 'cooper': 2191, 'latest': 2192, 'gritti': 2193, 'size': 2194, 'merit': 2195, 'corps': 2196, 'rough': 2197, 'buff': 2198, 'contact': 2199, 'ton': 2200, 'popul': 2201, 'settl': 2202, 'citizen': 2203, 'warner': 2204, 'contest': 2205, '1990': 2206, 'blend': 2207, 'wilson': 2208, 'sun': 2209, 'overcom': 2210, 'metal': 2211, 'environ': 2212, 'widow': 2213, 'pitt': 2214, 'select': 2215, 'rat': 2216, 'alic': 2217, 'mgm': 2218, 'bu': 2219, 'guilti': 2220, 'link': 2221, 'lift': 2222, 'ted': 2223, 'particip': 2224, 'revolut': 2225, 'exagger': 2226, 'accompani': 2227, 'afternoon': 2228, 'corner': 2229, 'johnson': 2230, '1960': 2231, 'prostitut': 2232, 'corpor': 2233, 'matrix': 2234, 'moron': 2235, 'instal': 2236, 'holm': 2237, 'doom': 2238, 'sincer': 2239, 'friendli': 2240, 'multipl': 2241, 'hood': 2242, 'leagu': 2243, 'clair': 2244, 'examin': 2245, 'advis': 2246, 'string': 2247, 'irish': 2248, 'defend': 2249, 'blah': 2250, 'hip': 2251, 'aka': 2252, 'campi': 2253, 'sunday': 2254, 'lugosi': 2255, 'grim': 2256, 'junk': 2257, 'varieti': 2258, 'icon': 2259, 'shut': 2260, 'rachel': 2261, 'pro': 2262, 'shake': 2263, 'confid': 2264, 'tight': 2265, 'jaw': 2266, 'medic': 2267, 'sullivan': 2268, 'directli': 2269, 'denni': 2270, 'attach': 2271, 'mexican': 2272, 'goal': 2273, 'courag': 2274, 'bourn': 2275, 'duke': 2276, 'sarah': 2277, 'sentenc': 2278, 'prior': 2279, 'vietnam': 2280, 'terrorist': 2281, 'truck': 2282, 'dean': 2283, 'legendari': 2284, 'breast': 2285, 'nose': 2286, 'yell': 2287, 'entri': 2288, 'un': 2289, 'proceed': 2290, 'behav': 2291, 'split': 2292, 'donald': 2293, 'hong': 2294, 'buri': 2295, 'crush': 2296, 'confess': 2297, 'everywher': 2298, 'borrow': 2299, 'stolen': 2300, 'swim': 2301, 'forth': 2302, 'lifetim': 2303, 'unconvinc': 2304, 'gather': 2305, 'jerk': 2306, 'concentr': 2307, 'turkey': 2308, 'spite': 2309, 'pan': 2310, 'julia': 2311, 'lip': 2312, 'california': 2313, 'deliveri': 2314, 'reward': 2315, 'freeman': 2316, 'flight': 2317, 'proud': 2318, 'quest': 2319, 'china': 2320, 'offici': 2321, 'downright': 2322, 'hoffman': 2323, 'lazi': 2324, 'jail': 2325, 'jon': 2326, 'fabul': 2327, 'fade': 2328, 'betray': 2329, 'sink': 2330, 'notori': 2331, 'worthwhil': 2332, 'inept': 2333, 'sir': 2334, 'encourag': 2335, 'shower': 2336, 'teeth': 2337, 'cousin': 2338, 'survivor': 2339, 'relev': 2340, 'storm': 2341, 'bag': 2342, 'imageri': 2343, 'susan': 2344, 'retard': 2345, 'lisa': 2346, 'bell': 2347, 'branagh': 2348, 'alright': 2349, 'finger': 2350, 'stab': 2351, 'hugh': 2352, 'quirki': 2353, 'summari': 2354, 'mexico': 2355, 'facial': 2356, 'toler': 2357, 'trade': 2358, 'tremend': 2359, 'shark': 2360, 'bride': 2361, 'blown': 2362, 'bitter': 2363, 'hyster': 2364, 'ha': 2365, 'pose': 2366, 'von': 2367, 'afterward': 2368, 'bone': 2369, 'scheme': 2370, 'cruel': 2371, 'christ': 2372, 'ned': 2373, 'larri': 2374, 'address': 2375, 'ron': 2376, 'tour': 2377, 'pursu': 2378, 'distinct': 2379, 'feed': 2380, 'swear': 2381, 'snake': 2382, 'screw': 2383, 'beg': 2384, 'thumb': 2385, 'traci': 2386, 'occas': 2387, 'obscur': 2388, 'raw': 2389, 'mechan': 2390, 'photo': 2391, 'stomach': 2392, 'chair': 2393, 'southern': 2394, 'gruesom': 2395, 'resist': 2396, 'sidney': 2397, 'cabin': 2398, 'heavili': 2399, 'holiday': 2400, 'argument': 2401, 'hardi': 2402, 'chain': 2403, 'necessarili': 2404, 'render': 2405, 'indulg': 2406, 'understood': 2407, 'philip': 2408, 'racist': 2409, 'satan': 2410, 'india': 2411, 'lay': 2412, 'belov': 2413, 'pregnant': 2414, 'integr': 2415, 'stalk': 2416, 'obnoxi': 2417, 'outfit': 2418, 'forgot': 2419, 'midnight': 2420, 'fourth': 2421, 'tongu': 2422, 'inhabit': 2423, 'restor': 2424, 'magazin': 2425, '17': 2426, 'ticket': 2427, 'slapstick': 2428, 'deeper': 2429, 'carol': 2430, 'garden': 2431, 'shoe': 2432, 'brad': 2433, 'devot': 2434, 'incid': 2435, 'lincoln': 2436, 'elizabeth': 2437, 'underground': 2438, 'guarante': 2439, 'divorc': 2440, 'lili': 2441, 'benefit': 2442, 'maria': 2443, 'anticip': 2444, 'disbelief': 2445, 'sandler': 2446, 'bbc': 2447, 'princip': 2448, 'cring': 2449, 'amazingli': 2450, 'capit': 2451, 'creation': 2452, 'mildli': 2453, 'explod': 2454, 'slave': 2455, 'greater': 2456, 'lesli': 2457, 'funnier': 2458, 'halfway': 2459, 'introduct': 2460, 'extraordinari': 2461, 'punish': 2462, 'wreck': 2463, 'extent': 2464, 'transfer': 2465, 'tap': 2466, 'text': 2467, 'overwhelm': 2468, 'enhanc': 2469, 'advantag': 2470, 'error': 2471, 'preview': 2472, 'east': 2473, 'lo': 2474, 'lane': 2475, 'horrif': 2476, 'dynam': 2477, 'plant': 2478, 'deliber': 2479, 'jessica': 2480, 'miller': 2481, 'miscast': 2482, 'sophist': 2483, 'vacat': 2484, 'basi': 2485, 'appli': 2486, '2000': 2487, 'vincent': 2488, 'homosexu': 2489, 'ensu': 2490, 'elev': 2491, 'mansion': 2492, 'bollywood': 2493, 'measur': 2494, 'sleazi': 2495, 'via': 2496, 'steel': 2497, 'extend': 2498, 'uncomfort': 2499, 'reed': 2500, 'spoken': 2501, 'fix': 2502, 'daili': 2503, 'conceiv': 2504, 'overact': 2505, 'assign': 2506, 'hippi': 2507, 'blair': 2508, 'melt': 2509, 'savag': 2510, 'alter': 2511, 'beer': 2512, 'goofi': 2513, 'stanley': 2514, 'breathtak': 2515, 'dentist': 2516, 'cathol': 2517, 'mous': 2518, 'inspector': 2519, 'burt': 2520, 'properli': 2521, 'subsequ': 2522, 'carpent': 2523, 'oppos': 2524, 'nowaday': 2525, 'everyday': 2526, 'sacrific': 2527, 'succe': 2528, 'neck': 2529, 'circl': 2530, 'block': 2531, 'laura': 2532, 'massacr': 2533, 'portrait': 2534, 'christi': 2535, 'grey': 2536, 'concert': 2537, 'seagal': 2538, 'fallen': 2539, 'access': 2540, 'fay': 2541, 'pool': 2542, 'lesser': 2543, 'mob': 2544, 'competit': 2545, 'sinist': 2546, 'usa': 2547, 'chees': 2548, 'jewish': 2549, 'react': 2550, 'isol': 2551, 'relax': 2552, 'jake': 2553, 'nonetheless': 2554, 'suitabl': 2555, 'spiritu': 2556, 'creep': 2557, '2006': 2558, 'nine': 2559, 'immens': 2560, 'appal': 2561, 'stink': 2562, 'chop': 2563, 'ironi': 2564, 'lyric': 2565, 'franchis': 2566, 'retir': 2567, 'sold': 2568, 'reduc': 2569, 'adopt': 2570, 'spring': 2571, 'navi': 2572, 'luci': 2573, 'nut': 2574, 'showcas': 2575, 'needless': 2576, 'shirt': 2577, 'user': 2578, 'rage': 2579, 'zone': 2580, 'nurs': 2581, 'bath': 2582, 'asham': 2583, 'per': 2584, 'jay': 2585, 'uninspir': 2586, 'bulli': 2587, 'digit': 2588, 'stanwyck': 2589, 'amongst': 2590, 'illustr': 2591, 'broadcast': 2592, '1940': 2593, 'laid': 2594, 'oddli': 2595, '2001': 2596, 'upper': 2597, 'sutherland': 2598, 'disguis': 2599, 'throat': 2600, 'baker': 2601, 'stylish': 2602, 'fulfil': 2603, 'brando': 2604, 'aspir': 2605, 'pound': 2606, 'wwii': 2607, 'em': 2608, 'impli': 2609, 'neighborhood': 2610, 'endear': 2611, 'nobl': 2612, '18': 2613, 'wanna': 2614, 'pride': 2615, 'thief': 2616, 'distribut': 2617, 'tens': 2618, 'albeit': 2619, 'shift': 2620, 'coher': 2621, 'shoulder': 2622, 'dinner': 2623, 'diseas': 2624, 'rochest': 2625, '16': 2626, 'cinematograph': 2627, 'prop': 2628, 'bo': 2629, 'bett': 2630, 'dawn': 2631, 'function': 2632, 'snow': 2633, 'silenc': 2634, 'knife': 2635, 'contract': 2636, 'shout': 2637, 'forti': 2638, 'matthau': 2639, 'rebel': 2640, 'surf': 2641, 'poignant': 2642, 'wash': 2643, 'widmark': 2644, 'cancel': 2645, 'proof': 2646, 'reunion': 2647, 'height': 2648, 'horrend': 2649, 'internet': 2650, 'cannib': 2651, 'silver': 2652, 'instinct': 2653, 'eeri': 2654, 'chuck': 2655, 'mindless': 2656, 'henc': 2657, 'heat': 2658, 'derek': 2659, 'duti': 2660, 'elvira': 2661, 'mill': 2662, 'incoher': 2663, 'premier': 2664, 'torn': 2665, 'neat': 2666, 'repetit': 2667, 'absorb': 2668, 'alik': 2669, 'etern': 2670, 'innov': 2671, 'glori': 2672, 'musician': 2673, 'greatli': 2674, 'spielberg': 2675, 'elvi': 2676, 'pie': 2677, 'redempt': 2678, 'trite': 2679, 'homag': 2680, 'britain': 2681, 'infam': 2682, 'crisi': 2683, 'racism': 2684, 'blank': 2685, 'wealthi': 2686, 'nelson': 2687, 'bang': 2688, 'announc': 2689, 'itali': 2690, 'lovabl': 2691, 'fbi': 2692, 'diamond': 2693, 'horrifi': 2694, 'precis': 2695, 'burton': 2696, 'parallel': 2697, 'helen': 2698, 'happili': 2699, 'wilder': 2700, 'hammer': 2701, 'resolut': 2702, 'flop': 2703, 'chaplin': 2704, 'streisand': 2705, 'pat': 2706, 'dedic': 2707, 'ensembl': 2708, 'disagre': 2709, 'factori': 2710, 'conclud': 2711, 'mar': 2712, 'broke': 2713, 'cube': 2714, 'st': 2715, 'oil': 2716, 'carter': 2717, 'triumph': 2718, 'plastic': 2719, 'row': 2720, 'weight': 2721, 'bush': 2722, 'march': 2723, 'climb': 2724, 'own': 2725, 'fighter': 2726, 'chuckl': 2727, 'vega': 2728, 'rocket': 2729, 'unforgett': 2730, 'boot': 2731, 'meaning': 2732, 'mst3k': 2733, 'lust': 2734, 'spare': 2735, 'sensibl': 2736, 'wherea': 2737, 'dump': 2738, 'luca': 2739, 'dane': 2740, 'enorm': 2741, 'kurt': 2742, 'thug': 2743, 'adequ': 2744, 'difficulti': 2745, 'engin': 2746, 'threat': 2747, 'caricatur': 2748, 'dear': 2749, 'stress': 2750, 'rap': 2751, 'butt': 2752, 'karloff': 2753, 'brand': 2754, 'fifti': 2755, 'arnold': 2756, 'bobbi': 2757, 'journalist': 2758, 'swing': 2759, 'fest': 2760, 'homeless': 2761, 'arrog': 2762, 'elabor': 2763, 'ralph': 2764, 'secretari': 2765, 'polish': 2766, 'barri': 2767, 'flynn': 2768, 'ego': 2769, 'hamlet': 2770, 'fanci': 2771, 'arrang': 2772, 'resort': 2773, 'grate': 2774, 'induc': 2775, 'float': 2776, 'unbear': 2777, 'conspiraci': 2778, 'spike': 2779, 'simpson': 2780, 'puppet': 2781, 'tool': 2782, 'phillip': 2783, 'basement': 2784, 'pig': 2785, 'tribut': 2786, 'cruis': 2787, 'guilt': 2788, 'exercis': 2789, 'choreograph': 2790, 'boll': 2791, 'muppet': 2792, 'korean': 2793, 'editor': 2794, 'fianc': 2795, 'slip': 2796, 'item': 2797, 'babe': 2798, '24': 2799, 'medium': 2800, 'toilet': 2801, 'scarecrow': 2802, 'stan': 2803, 'ham': 2804, 'document': 2805, 'file': 2806, 'layer': 2807, 'puzzl': 2808, 'tower': 2809, 'ward': 2810, 'assur': 2811, 'larger': 2812, 'denzel': 2813, 'doc': 2814, 'minim': 2815, 'portion': 2816, 'librari': 2817, 'catherin': 2818, 'philosoph': 2819, 'superfici': 2820, 'orient': 2821, 'territori': 2822, 'glover': 2823, 'slaughter': 2824, 'inexplic': 2825, 'persona': 2826, 'transit': 2827, 'spark': 2828, 'shi': 2829, 'sneak': 2830, 'owe': 2831, 'boredom': 2832, 'pg': 2833, 'jet': 2834, 'jeremi': 2835, 'wolf': 2836, 'ban': 2837, 'financi': 2838, 'dorothi': 2839, 'curti': 2840, 'walken': 2841, 'whale': 2842, 'eleph': 2843, 'ambigu': 2844, 'profound': 2845, 'backdrop': 2846, 'multi': 2847, 'hudson': 2848, 'cusack': 2849, 'metaphor': 2850, 'stiff': 2851, '2005': 2852, 'birthday': 2853, 'notion': 2854, 'elsewher': 2855, 'rave': 2856, 'hack': 2857, 'gadget': 2858, 'viru': 2859, 'implaus': 2860, 'ultra': 2861, 'union': 2862, 'urg': 2863, 'deriv': 2864, 'reader': 2865, 'hawk': 2866, 'squar': 2867, 'afford': 2868, 'slight': 2869, 'newspap': 2870, 'canada': 2871, 'disc': 2872, 'lloyd': 2873, 'eastwood': 2874, 'bibl': 2875, 'distanc': 2876, '1st': 2877, 'poison': 2878, 'superhero': 2879, 'pad': 2880, 'eva': 2881, 'health': 2882, 'drown': 2883, 'restaur': 2884, 'button': 2885, 'spread': 2886, 'skit': 2887, 'cure': 2888, 'heston': 2889, 'essenc': 2890, 'sadist': 2891, 'huh': 2892, 'charisma': 2893, 'montag': 2894, 'fetch': 2895, 'muslim': 2896, 'dealt': 2897, 'godfath': 2898, 'estat': 2899, 'companion': 2900, 'gradual': 2901, 'lab': 2902, 'invest': 2903, 'scoobi': 2904, 'maniac': 2905, 'peak': 2906, 'countless': 2907, 'cup': 2908, 'servant': 2909, 'gothic': 2910, 'tea': 2911, 'ritter': 2912, 'alli': 2913, 'miik': 2914, 'kane': 2915, 'subtleti': 2916, 'briefli': 2917, 'elect': 2918, 'electr': 2919, 'heroic': 2920, 'iii': 2921, 'charismat': 2922, 'salli': 2923, 'bud': 2924, 'wannab': 2925, 'tender': 2926, 'toss': 2927, 'neil': 2928, 'admittedli': 2929, 'grandmoth': 2930, 'nuanc': 2931, 'ingredi': 2932, 'resourc': 2933, 'reel': 2934, 'cole': 2935, 'punk': 2936, 'poverti': 2937, 'reev': 2938, 'shall': 2939, 'gate': 2940, 'stood': 2941, 'pit': 2942, 'stronger': 2943, 'dawson': 2944, 'carrey': 2945, 'mild': 2946, 'label': 2947, 'kubrick': 2948, 'pauli': 2949, 'mafia': 2950, 'ian': 2951, 'useless': 2952, 'updat': 2953, 'fond': 2954, 'cox': 2955, 'easier': 2956, 'burst': 2957, 'terri': 2958, 'outcom': 2959, 'smash': 2960, 'cardboard': 2961, 'assault': 2962, 'astair': 2963, 'smooth': 2964, 'tag': 2965, 'bakshi': 2966, 'coincid': 2967, 'resolv': 2968, 'vulner': 2969, 'vari': 2970, 'rex': 2971, '2002': 2972, 'fist': 2973, 'melodramat': 2974, 'qualifi': 2975, 'increasingli': 2976, 'sketch': 2977, 'samurai': 2978, 'exchang': 2979, 'divers': 2980, 'brillianc': 2981, 'tame': 2982, 'luckili': 2983, 'reynold': 2984, 'be': 2985, 'insert': 2986, 'blast': 2987, 'scratch': 2988, 'conveni': 2989, 'templ': 2990, 'suspend': 2991, 'seventi': 2992, 'gotta': 2993, 'fisher': 2994, 'hamilton': 2995, 'matthew': 2996, 'strictli': 2997, 'pin': 2998, 'meat': 2999, 'nuclear': 3000, 'coach': 3001, 'soprano': 3002, 'ambiti': 3003, 'walker': 3004, 'farm': 3005, 'jami': 3006, 'monk': 3007, 'butcher': 3008, 'grasp': 3009, 'instantli': 3010, 'joey': 3011, 'convolut': 3012, 'kudo': 3013, 'discoveri': 3014, 'brosnan': 3015, 'recreat': 3016, 'eccentr': 3017, 'clock': 3018, 'spooki': 3019, 'revers': 3020, 'struck': 3021, 'worthless': 3022, 'ninja': 3023, 'empir': 3024, 'timeless': 3025, 'closet': 3026, 'cave': 3027, 'bleak': 3028, 'fifteen': 3029, 'sloppi': 3030, 'wipe': 3031, 'eighti': 3032, 'communist': 3033, 'miracl': 3034, 'clown': 3035, 'evok': 3036, 'selfish': 3037, 'mitchel': 3038, 'inconsist': 3039, 'partli': 3040, 'pal': 3041, 'seller': 3042, 'declar': 3043, 'importantli': 3044, 'cliff': 3045, 'gray': 3046, 'sidekick': 3047, 'norman': 3048, 'flawless': 3049, 'enthusiast': 3050, 'piano': 3051, 'superbl': 3052, 'aforement': 3053, 'lifestyl': 3054, 'chew': 3055, 'farc': 3056, 'cheek': 3057, 'psychiatrist': 3058, '45': 3059, 'destin': 3060, 'australia': 3061, 'websit': 3062, 'debat': 3063, 'ho': 3064, 'seed': 3065, 'stoog': 3066, 'bash': 3067, 'regardless': 3068, 'abc': 3069, 'splatter': 3070, 'dash': 3071, 'drivel': 3072, 'dire': 3073, 'kitchen': 3074, 'soviet': 3075, 'incompet': 3076, 'wick': 3077, 'pressur': 3078, 'emili': 3079, 'wrestl': 3080, 'slice': 3081, 'anni': 3082, 'directori': 3083, 'akshay': 3084, 'glow': 3085, 'chapter': 3086, 'judi': 3087, 'beaten': 3088, 'ken': 3089, 'pleasantli': 3090, 'recov': 3091, 'prize': 3092, 'distant': 3093, 'increas': 3094, 'mann': 3095, 'suppli': 3096, 'flower': 3097, 'jar': 3098, 'dave': 3099, 'boil': 3100, 'cameron': 3101, 'duo': 3102, 'lou': 3103, 'helicopt': 3104, 'artifici': 3105, 'doo': 3106, 'cagney': 3107, 'seduc': 3108, 'cia': 3109, 'curios': 3110, 'blob': 3111, 'panic': 3112, 'favour': 3113, 'combat': 3114, 'glenn': 3115, 'ranger': 3116, 'web': 3117, 'perri': 3118, 'hop': 3119, 'ellen': 3120, 'francisco': 3121, 'psychot': 3122, 'drunken': 3123, 'goldberg': 3124, 'eleg': 3125, 'splendid': 3126, 'laurel': 3127, 'craig': 3128, 'turner': 3129, 'craven': 3130, 'rid': 3131, 'shortli': 3132, 'greek': 3133, 'fx': 3134, 'philosophi': 3135, 'falk': 3136, 'flip': 3137, 'alexand': 3138, 'gentl': 3139, 'ruth': 3140, 'plausibl': 3141, 'gandhi': 3142, 'min': 3143, '20th': 3144, 'graduat': 3145, 'wizard': 3146, 'hatr': 3147, 'slightest': 3148, 'modesti': 3149, 'fund': 3150, 'knight': 3151, 'holi': 3152, 'we': 3153, 'felix': 3154, 'futurist': 3155, 'harm': 3156, 'preciou': 3157, 'legal': 3158, 'ocean': 3159, 'tall': 3160, 'unpleas': 3161, 'manhattan': 3162, 'jealou': 3163, 'lend': 3164, 'dracula': 3165, 'overdon': 3166, 'nod': 3167, 'ami': 3168, 'scientif': 3169, 'bless': 3170, 'mock': 3171, 'tank': 3172, 'reviv': 3173, 'childish': 3174, 'digniti': 3175, 'forbidden': 3176, 'thread': 3177, 'giallo': 3178, 'explicit': 3179, 'torment': 3180, 'broad': 3181, 'yesterday': 3182, 'thick': 3183, '2004': 3184, 'repeatedli': 3185, 'awaken': 3186, 'margaret': 3187, 'fever': 3188, 'elderli': 3189, 'awe': 3190, 'unwatch': 3191, 'verhoeven': 3192, 'pirat': 3193, 'nerv': 3194, '99': 3195, 'eve': 3196, 'mel': 3197, 'politician': 3198, 'automat': 3199, 'romero': 3200, 'griffith': 3201, 'publish': 3202, 'ambit': 3203, 'eas': 3204, 'bin': 3205, 'absenc': 3206, 'timothi': 3207, 'acclaim': 3208, 'launch': 3209, 'rivet': 3210, 'kay': 3211, 'lean': 3212, 'uniform': 3213, 'royal': 3214, 'ah': 3215, 'stiller': 3216, 'custom': 3217, 'roman': 3218, 'warren': 3219, 'darker': 3220, 'antic': 3221, 'phrase': 3222, 'foul': 3223, 'pierc': 3224, 'transport': 3225, 'wallac': 3226, 'sunshin': 3227, 'pulp': 3228, 'crook': 3229, 'bathroom': 3230, 'stinker': 3231, 'gabriel': 3232, 'tomato': 3233, 'termin': 3234, 'purpl': 3235, 'homicid': 3236, 'contrari': 3237, 'packag': 3238, 'viciou': 3239, 'marin': 3240, 'album': 3241, 'juvenil': 3242, 'ought': 3243, 'brazil': 3244, 'coloni': 3245, 'awak': 3246, 'donna': 3247, 'pray': 3248, '2003': 3249, 'eyr': 3250, 'kenneth': 3251, 'sixti': 3252, 'choreographi': 3253, 'li': 3254, 'horrid': 3255, 'q': 3256, 'karen': 3257, 'saint': 3258, 'hollow': 3259, 'prom': 3260, 'rambo': 3261, 'evolv': 3262, 'revolutionari': 3263, 'overr': 3264, 'option': 3265, 'beatti': 3266, 'candid': 3267, 'conserv': 3268, 'ramon': 3269, 'stole': 3270, 'boast': 3271, 'mildr': 3272, 'twelv': 3273, 'ireland': 3274, 'blade': 3275, 'nerd': 3276, 'kapoor': 3277, 'mummi': 3278, 'defi': 3279, 'dose': 3280, 'trio': 3281, 'altman': 3282, 'astonish': 3283, 'funer': 3284, 'jazz': 3285, 'global': 3286, 'flame': 3287, 'natali': 3288, 'confirm': 3289, 'protest': 3290, 'kirk': 3291, 'collabor': 3292, 'fulci': 3293, 'detract': 3294, 'destini': 3295, 'tommi': 3296, 'yellow': 3297, 'enterpris': 3298, 'spit': 3299, 'whip': 3300, 'shade': 3301, 'delici': 3302, 'bottl': 3303, 'leap': 3304, 'mystic': 3305, 'audio': 3306, 'blake': 3307, 'racial': 3308, 'nicholson': 3309, 'bull': 3310, 'pseudo': 3311, 'reunit': 3312, 'merci': 3313, 'harder': 3314, 'popcorn': 3315, 'altogeth': 3316, 'meaningless': 3317, 'vivid': 3318, 'inherit': 3319, 'bedroom': 3320, 'threw': 3321, 'staff': 3322, 'neo': 3323, 'adolesc': 3324, 'fonda': 3325, 'swedish': 3326, 'todd': 3327, 'enchant': 3328, 'visibl': 3329, 'befriend': 3330, 'voight': 3331, 'lawrenc': 3332, 'lemmon': 3333, 'suspici': 3334, 'fanat': 3335, 'decor': 3336, 'ruthless': 3337, 'roommat': 3338, 'tip': 3339, 'exhibit': 3340, 'leonard': 3341, 'synopsi': 3342, 'bust': 3343, 'crocodil': 3344, 'madonna': 3345, 'kennedi': 3346, 'moodi': 3347, 'respond': 3348, 'jew': 3349, 'reserv': 3350, 'uneven': 3351, 'await': 3352, 'wire': 3353, 'edi': 3354, 'atlanti': 3355, 'rural': 3356, 'bold': 3357, 'dimens': 3358, '2007': 3359, 'clint': 3360, 'holli': 3361, 'incident': 3362, 'unsettl': 3363, 'centr': 3364, 'bargain': 3365, 'ventur': 3366, 'voyag': 3367, 'carl': 3368, 'chao': 3369, 'abysm': 3370, 'garner': 3371, 'bradi': 3372, 'clumsi': 3373, 'audit': 3374, 'palma': 3375, 'immigr': 3376, 'neglect': 3377, 'echo': 3378, 'acknowledg': 3379, 'cd': 3380, 'characterist': 3381, 'humili': 3382, '2nd': 3383, 'imperson': 3384, 'poetic': 3385, 'wealth': 3386, 'versu': 3387, 'troop': 3388, 'cari': 3389, 'daddi': 3390, 'lit': 3391, 'nearbi': 3392, 'tiger': 3393, 'hart': 3394, 'trail': 3395, 'cuba': 3396, 'elimin': 3397, 'timon': 3398, 'ant': 3399, 'mall': 3400, 'marshal': 3401, 'solo': 3402, 'prejudic': 3403, 'mistaken': 3404, 'mickey': 3405, 'collaps': 3406, 'repuls': 3407, 'paus': 3408, 'jeffrey': 3409, 'celluloid': 3410, 'domest': 3411, 'homer': 3412, 'infect': 3413, 'saga': 3414, 'pun': 3415, 'undoubtedli': 3416, 'coffe': 3417, 'chest': 3418, 'coat': 3419, 'sore': 3420, 'equip': 3421, 'gear': 3422, 'hbo': 3423, 'pant': 3424, 'promin': 3425, 'tribe': 3426, 'cake': 3427, 'inan': 3428, 'ginger': 3429, 'leon': 3430, 'apolog': 3431, 'olivi': 3432, 'harvey': 3433, 'interrupt': 3434, '1996': 3435, 'assembl': 3436, 'milk': 3437, 'inappropri': 3438, 'solut': 3439, 'jenni': 3440, 'highest': 3441, 'trace': 3442, 'retain': 3443, 'pot': 3444, 'furthermor': 3445, 'pen': 3446, 'institut': 3447, 'humbl': 3448, 'colleagu': 3449, 'florida': 3450, 'maggi': 3451, 'instant': 3452, 'airplan': 3453, 'exot': 3454, 'embrac': 3455, 'aveng': 3456, 'colonel': 3457, 'devast': 3458, 'vulgar': 3459, 'polanski': 3460, 'brooklyn': 3461, 'consum': 3462, 'primari': 3463, 'strain': 3464, 'dutch': 3465, 'disabl': 3466, 'godzilla': 3467, 'bowl': 3468, 'rick': 3469, 'poke': 3470, 'sale': 3471, '3rd': 3472, 'outer': 3473, 'cope': 3474, 'illog': 3475, 'descend': 3476, 'wive': 3477, 'ya': 3478, 'gender': 3479, 'seduct': 3480, 'principl': 3481, '1999': 3482, 'linda': 3483, 'smaller': 3484, 'dian': 3485, 'gloriou': 3486, 'primarili': 3487, 'predecessor': 3488, 'cue': 3489, 'inferior': 3490, 'rabbit': 3491, 'blatant': 3492, 'glamor': 3493, 'secondli': 3494, 'bubbl': 3495, 'vast': 3496, 'lol': 3497, 'devoid': 3498, 'scope': 3499, 'beneath': 3500, 'dud': 3501, 'hal': 3502, 'mixtur': 3503, 'yard': 3504, 'dive': 3505, 'gundam': 3506, 'alfr': 3507, 'simplist': 3508, 'hideou': 3509, 'arab': 3510, 'streep': 3511, 'breed': 3512, 'pearl': 3513, 'casual': 3514, 'trademark': 3515, 'shelf': 3516, 'talki': 3517, 'aggress': 3518, 'et': 3519, 'domino': 3520, 'grinch': 3521, 'z': 3522, 'countrysid': 3523, 'garbo': 3524, 'senseless': 3525, 'shirley': 3526, 'myer': 3527, 'alert': 3528, 'invas': 3529, 'disjoint': 3530, 'april': 3531, 'museum': 3532, 'illeg': 3533, 'boom': 3534, 'disgrac': 3535, 'loyal': 3536, 'unhappi': 3537, 'stack': 3538, 'stir': 3539, 'mail': 3540, 'rendit': 3541, 'experiment': 3542, 'defens': 3543, 'maci': 3544, 'stellar': 3545, 'hopeless': 3546, 'sh': 3547, 'robberi': 3548, 'khan': 3549, 'obtain': 3550, 'mayor': 3551, 'hardcor': 3552, 'slide': 3553, 'oz': 3554, 'uwe': 3555, 'robinson': 3556, 'acid': 3557, 'applaud': 3558, 'vanish': 3559, 'tempt': 3560, 'tenant': 3561, 'fri': 3562, 'amanda': 3563, 'emphasi': 3564, 'diana': 3565, 'grandfath': 3566, 'declin': 3567, 'incomprehens': 3568, 'counter': 3569, 'spider': 3570, 'psychic': 3571, 'dismiss': 3572, 'recruit': 3573, 'wont': 3574, 'span': 3575, 'rifl': 3576, 'soccer': 3577, 'topless': 3578, 'hartley': 3579, 'blew': 3580, 'dicken': 3581, 'scroog': 3582, 'craze': 3583, 'berlin': 3584, 'justin': 3585, 'shed': 3586, 'goer': 3587, 'faster': 3588, 'ethnic': 3589, 'bitch': 3590, 'trashi': 3591, 'riot': 3592, 'resurrect': 3593, 'intim': 3594, 'woo': 3595, 'revolt': 3596, 'parad': 3597, 'ration': 3598, 'niro': 3599, 'wet': 3600, 'sibl': 3601, 'porno': 3602, 'sympath': 3603, 'lumet': 3604, 'shaw': 3605, 'andr': 3606, 'weakest': 3607, 'hesit': 3608, 'gap': 3609, 'immort': 3610, 'partial': 3611, 'unreal': 3612, 'steam': 3613, 'jonathan': 3614, 'rider': 3615, 'worm': 3616, 'ensur': 3617, 'hopper': 3618, 'wendi': 3619, 'feminist': 3620, 'ballet': 3621, 'slick': 3622, 'nephew': 3623, 'region': 3624, 'lena': 3625, 'enlighten': 3626, '00': 3627, 'wheel': 3628, 'biographi': 3629, 'mario': 3630, 'patriot': 3631, 'dealer': 3632, 'honesti': 3633, 'commend': 3634, 'farmer': 3635, 'choru': 3636, 'eager': 3637, 'mutant': 3638, 'repress': 3639, 'prequel': 3640, 'blunt': 3641, 'snap': 3642, 'confin': 3643, 'wore': 3644, 'sappi': 3645, 'sandra': 3646, 'franco': 3647, 'nostalg': 3648, 'vice': 3649, 'properti': 3650, 'victori': 3651, 'util': 3652, 'kingdom': 3653, 'safeti': 3654, 'composit': 3655, 'charlott': 3656, 'similarli': 3657, 'morri': 3658, 'psychopath': 3659, 'owen': 3660, 'leo': 3661, 'skull': 3662, 'macarthur': 3663, 'hung': 3664, 'despair': 3665, 'emperor': 3666, 'farrel': 3667, 'drum': 3668, 'bonu': 3669, 'campbel': 3670, 'recycl': 3671, 'snl': 3672, 'repli': 3673, 'thru': 3674, 'acquir': 3675, 'bumbl': 3676, 'pattern': 3677, 'rambl': 3678, 'tail': 3679, '1972': 3680, 'kyle': 3681, 'dalton': 3682, 'dust': 3683, 'heartbreak': 3684, 'nervou': 3685, 'rope': 3686, 'tad': 3687, 'latin': 3688, 'speci': 3689, 'deed': 3690, 'strand': 3691, 'compens': 3692, 'bergman': 3693, 'whoopi': 3694, 'cg': 3695, 'exit': 3696, 'miseri': 3697, 'compass': 3698, 'rocki': 3699, 'del': 3700, 'valuabl': 3701, 'drain': 3702, 'hyde': 3703, 'montana': 3704, 'bow': 3705, '35': 3706, 'contempl': 3707, 'bleed': 3708, 'gal': 3709, 'da': 3710, 'rotten': 3711, 'wacki': 3712, 'slug': 3713, 'tonight': 3714, 'airport': 3715, 'percept': 3716, 'romp': 3717, 'roth': 3718, 'gimmick': 3719, 'downhil': 3720, 'carradin': 3721, 'mistress': 3722, 'oppress': 3723, 'pour': 3724, 'radic': 3725, 'rapist': 3726, 'orson': 3727, 'martian': 3728, 'chess': 3729, 'olli': 3730, 'paltrow': 3731, 'heal': 3732, 'stilt': 3733, 'shelley': 3734, 'tooth': 3735, 'unpredict': 3736, 'taught': 3737, '1983': 3738, 'slash': 3739, 'mislead': 3740, 'arc': 3741, 'tackl': 3742, 'edgar': 3743, 'arguabl': 3744, 'melodi': 3745, 'preach': 3746, 'attorney': 3747, 'pervert': 3748, 'pervers': 3749, 'dazzl': 3750, 'champion': 3751, 'pursuit': 3752, 'belt': 3753, 'programm': 3754, 'banal': 3755, 'vengeanc': 3756, 'raymond': 3757, 'graham': 3758, 'plight': 3759, 'rubi': 3760, 'duval': 3761, 'conneri': 3762, 'gambl': 3763, 'chicken': 3764, 'bela': 3765, 'virginia': 3766, 'dixon': 3767, 'employe': 3768, 'sensat': 3769, 'closest': 3770, 'vocal': 3771, 'cleverli': 3772, 'maid': 3773, 'orang': 3774, 'tiresom': 3775, 'franki': 3776, 'uplift': 3777, 'poem': 3778, 'passeng': 3779, 'marti': 3780, 'mesmer': 3781, 'swallow': 3782, 'climact': 3783, 'calm': 3784, 'extens': 3785, 'gerard': 3786, 'suffic': 3787, 'quarter': 3788, 'convincingli': 3789, 'whine': 3790, 'tube': 3791, 'numb': 3792, 'crystal': 3793, 'volum': 3794, 'giggl': 3795, 'outing': 3796, '1968': 3797, 'bay': 3798, 'mute': 3799, 'clone': 3800, 'monologu': 3801, 'yawn': 3802, 'pokemon': 3803, 'amitabh': 3804, 'abraham': 3805, 'sirk': 3806, 'secretli': 3807, 'habit': 3808, 'paranoia': 3809, 'scottish': 3810, 'profan': 3811, 'lundgren': 3812, 'inject': 3813, 'engross': 3814, 'iran': 3815, 'dispos': 3816, 'ethan': 3817, 'franci': 3818, 'bend': 3819, 'earl': 3820, 'chicago': 3821, 'profess': 3822, 'nichola': 3823, 'meander': 3824, 'spock': 3825, 'poetri': 3826, 'septemb': 3827, 'underst': 3828, 'backward': 3829, 'austen': 3830, 'im': 3831, 'trend': 3832, 'richardson': 3833, 'junior': 3834, 'surpass': 3835, 'fed': 3836, 'lowest': 3837, 'plod': 3838, 'abort': 3839, 'frankenstein': 3840, 'taxi': 3841, 'linger': 3842, 'grotesqu': 3843, 'expand': 3844, 'simplic': 3845, 'mundan': 3846, 'lure': 3847, 'descent': 3848, 'econom': 3849, 'rant': 3850, 'hum': 3851, 'tourist': 3852, 'myth': 3853, 'waitress': 3854, 'household': 3855, 'nostalgia': 3856, 'instrument': 3857, 'rubber': 3858, 'sue': 3859, 'dysfunct': 3860, 'greedi': 3861, 'cannon': 3862, 'compliment': 3863, 'muddl': 3864, 'eugen': 3865, 'literatur': 3866, 'catchi': 3867, 'spoke': 3868, 'stallon': 3869, 'der': 3870, 'cent': 3871, 'damon': 3872, 'recognis': 3873, 'recognit': 3874, 'sissi': 3875, 'mortal': 3876, 'duck': 3877, 'louis': 3878, 'dictat': 3879, 'eaten': 3880, 'map': 3881, 'stale': 3882, 'insur': 3883, 'firstli': 3884, 'hello': 3885, 'mankind': 3886, 'phoni': 3887, 'irrelev': 3888, 'crucial': 3889, 'molli': 3890, 'flee': 3891, 'deaf': 3892, 'occupi': 3893, 'june': 3894, 'equival': 3895, 'bacal': 3896, 'furi': 3897, 'alongsid': 3898, 'omen': 3899, 'randi': 3900, 'coast': 3901, 'carel': 3902, 'phantom': 3903, 'lang': 3904, 'dement': 3905, 'twilight': 3906, 'newli': 3907, 'distinguish': 3908, 'rooney': 3909, 'heel': 3910, 'onlin': 3911, 'wisdom': 3912, 'daisi': 3913, 'lengthi': 3914, 'likewis': 3915, 'loyalti': 3916, 'buffalo': 3917, 'freez': 3918, '1973': 3919, 'antwon': 3920, 'damm': 3921, 'grayson': 3922, 'reign': 3923, 'labor': 3924, 'dreari': 3925, 'rude': 3926, 'bump': 3927, 'ashley': 3928, 'drake': 3929, 'cyborg': 3930, 'blackmail': 3931, 'biko': 3932, 'bike': 3933, 'unorigin': 3934, 'emphas': 3935, 'startl': 3936, 'interior': 3937, 'prey': 3938, 'tunnel': 3939, 'ridden': 3940, 'nineti': 3941, 'analysi': 3942, 'boxer': 3943, 'barrymor': 3944, 'worn': 3945, 'proce': 3946, 'incorpor': 3947, 'butler': 3948, 'approv': 3949, 'chronicl': 3950, 'sailor': 3951, 'baddi': 3952, 'inher': 3953, 'keith': 3954, 'attribut': 3955, 'basketbal': 3956, 'vein': 3957, 'provoc': 3958, 'pink': 3959, 'exposur': 3960, 'er': 3961, 'nicol': 3962, 'predat': 3963, 'belushi': 3964, 'underli': 3965, 'condemn': 3966, 'mighti': 3967, 'barrel': 3968, 'othello': 3969, 'walsh': 3970, 'meg': 3971, 'drift': 3972, 'hypnot': 3973, 'julian': 3974, 'bunni': 3975, 'millionair': 3976, 'robbin': 3977, 'stalker': 3978, 'undeni': 3979, 'substitut': 3980, 'simmon': 3981, 'elm': 3982, 'improvis': 3983, 'fleet': 3984, 'indiffer': 3985, 'unrel': 3986, 'carla': 3987, 'degrad': 3988, 'mormon': 3989, 'meyer': 3990, 'palac': 3991, '3d': 3992, 'warmth': 3993, 'exquisit': 3994, 'agenda': 3995, 'greed': 3996, 'mtv': 3997, 'roof': 3998, 'alison': 3999, 'priceless': 4000, 'firm': 4001, 'nyc': 4002, 'vital': 4003, 'enthusiasm': 4004, 'errol': 4005, 'alarm': 4006, 'watson': 4007, 'unawar': 4008, 'shove': 4009, 'disord': 4010, 'novak': 4011, 'rukh': 4012, 'dolph': 4013, 'hay': 4014, 'reid': 4015, 'marion': 4016, 'lampoon': 4017, 'edgi': 4018, 'profit': 4019, 'crown': 4020, 'spain': 4021, 'sergeant': 4022, 'iraq': 4023, 'cassidi': 4024, 'eastern': 4025, 'testament': 4026, 'peck': 4027, 'what': 4028, 'gestur': 4029, 'campaign': 4030, 'orlean': 4031, 'randomli': 4032, '13th': 4033, 'showdown': 4034, 'unleash': 4035, 'distort': 4036, 'beatl': 4037, 'minimum': 4038, 'pamela': 4039, '1933': 4040, 'angela': 4041, 'ponder': 4042, 'zizek': 4043, 'petti': 4044, 'preserv': 4045, 'championship': 4046, 'drip': 4047, 'simultan': 4048, 'coup': 4049, 'peril': 4050, 'session': 4051, 'valentin': 4052, 'glanc': 4053, 'nun': 4054, 'israel': 4055, 'thompson': 4056, 'perpetu': 4057, 'empathi': 4058, 'calib': 4059, 'han': 4060, 'climat': 4061, 'buster': 4062, 'wig': 4063, 'rout': 4064, 'travesti': 4065, 'regist': 4066, 'cream': 4067, 'unimagin': 4068, 'cooki': 4069, 'represent': 4070, 'gentleman': 4071, 'restrain': 4072, 'reson': 4073, 'contradict': 4074, 'exposit': 4075, 'crawl': 4076, 'quinn': 4077, 'realm': 4078, 'bro': 4079, 'fido': 4080, 'kurosawa': 4081, 'brenda': 4082, 'stroke': 4083, 'scotland': 4084, 'jan': 4085, 'miyazaki': 4086, 'valley': 4087, '1984': 4088, 'stake': 4089, 'shootout': 4090, 'mon': 4091, 'sabrina': 4092, 'crow': 4093, 'din': 4094, 'spacey': 4095, 'pole': 4096, 'warrant': 4097, 'monoton': 4098, 'compromis': 4099, 'geek': 4100, 'derang': 4101, 'abomin': 4102, 'meryl': 4103, 'censor': 4104, 'pretens': 4105, 'businessman': 4106, 'greg': 4107, 'cloud': 4108, '1987': 4109, 'unsatisfi': 4110, 'demis': 4111, 'unseen': 4112, 'dana': 4113, 'sucker': 4114, 'ustinov': 4115, 'painter': 4116, 'shaki': 4117, 'distress': 4118, 'fuller': 4119, 'tacki': 4120, 'darren': 4121, 'mclaglen': 4122, 'delic': 4123, 'wax': 4124, 'josh': 4125, 'passabl': 4126, 'baldwin': 4127, 'ross': 4128, 'absent': 4129, 'perceiv': 4130, 'crawford': 4131, 'shoddi': 4132, '1997': 4133, 'femm': 4134, 'traumat': 4135, 'stargat': 4136, 'soderbergh': 4137, 'sammi': 4138, 'click': 4139, 'unravel': 4140, 'fog': 4141, 'wholli': 4142, 'jewel': 4143, 'primit': 4144, 'dee': 4145, 'judgment': 4146, 'nathan': 4147, 'norm': 4148, 'correctli': 4149, 'seal': 4150, 'expedit': 4151, 'tech': 4152, 'valid': 4153, 'accuraci': 4154, 'furiou': 4155, 'verbal': 4156, 'sid': 4157, 'clash': 4158, 'deceas': 4159, 'tarantino': 4160, 'uncov': 4161, 'fenc': 4162, 'polici': 4163, 'reluct': 4164, 'anchor': 4165, 'exclus': 4166, 'austin': 4167, 'kumar': 4168, 'deniro': 4169, '1993': 4170, 'antonioni': 4171, 'sheet': 4172, 'slam': 4173, 'sand': 4174, 'enforc': 4175, 'sustain': 4176, 'tax': 4177, 'sunni': 4178, 'ritual': 4179, 'roller': 4180, 'mode': 4181, 'alec': 4182, '2008': 4183, 'vanc': 4184, 'pocket': 4185, 'darn': 4186, 'wretch': 4187, 'seldom': 4188, 'clerk': 4189, 'hallucin': 4190, 'logan': 4191, 'fart': 4192, 'unfair': 4193, 'patienc': 4194, 'temper': 4195, 'fabric': 4196, 'murray': 4197, 'malon': 4198, 'conduct': 4199, 'joel': 4200, '3000': 4201, 'debt': 4202, 'behold': 4203, '1971': 4204, '1995': 4205, 'crippl': 4206, 'fought': 4207, 'bake': 4208, 'shanghai': 4209, 'trait': 4210, 'dreck': 4211, 'nicola': 4212, 'wang': 4213, 'technicolor': 4214, 'bridget': 4215, 'critiqu': 4216, 'stuart': 4217, 'sweep': 4218, 'grief': 4219, 'clau': 4220, 'phil': 4221, 'schedul': 4222, 'despis': 4223, 'exhaust': 4224, 'outlin': 4225, 'stark': 4226, 'penni': 4227, 'soup': 4228, 'runner': 4229, 'squad': 4230, 'canyon': 4231, 'legaci': 4232, 'isabel': 4233, 'shell': 4234, 'preposter': 4235, 'fundament': 4236, 'tactic': 4237, 'conscious': 4238, 'bias': 4239, 'helpless': 4240, 'scriptwrit': 4241, 'robber': 4242, 'divid': 4243, 'guitar': 4244, 'rita': 4245, 'preston': 4246, 'pete': 4247, 'bloom': 4248, 'palanc': 4249, 'newman': 4250, 'russia': 4251, 'connor': 4252, 'sugar': 4253, 'propos': 4254, 'rear': 4255, 'flair': 4256, 'invad': 4257, 'consciou': 4258, 'culmin': 4259, 'inabl': 4260, 'cigarett': 4261, 'alley': 4262, 'drove': 4263, 'sniper': 4264, 'marc': 4265, 'implic': 4266, 'boyl': 4267, 'gregori': 4268, 'kansa': 4269, 'restrict': 4270, 'passag': 4271, 'jacket': 4272, 'unexpectedli': 4273, 'lacklust': 4274, 'alicia': 4275, 'delv': 4276, 'jodi': 4277, 'liberti': 4278, 'agenc': 4279, 'downey': 4280, 'vomit': 4281, 'sentinel': 4282, 'rehash': 4283, 'cap': 4284, 'tendenc': 4285, 'rehears': 4286, 'vet': 4287, 'lush': 4288, 'pale': 4289, 'ladder': 4290, 'rampag': 4291, 'arrow': 4292, 'tripe': 4293, 'wrench': 4294, 'horn': 4295, 'karl': 4296, 'behaviour': 4297, 'bacon': 4298, '22': 4299, 'kolchak': 4300, 'awhil': 4301, 'feat': 4302, 'mccoy': 4303, 'improb': 4304, 'delet': 4305, 'asylum': 4306, '1936': 4307, 'yeti': 4308, 'chainsaw': 4309, 'rod': 4310, 'aesthet': 4311, 'foxx': 4312, 'sharon': 4313, 'visitor': 4314, 'filler': 4315, 'paramount': 4316, '19th': 4317, 'spice': 4318, 'financ': 4319, 'prank': 4320, 'underneath': 4321, 'elit': 4322, 'wildli': 4323, 'coaster': 4324, 'conscienc': 4325, 'basing': 4326, 'suspicion': 4327, 'weav': 4328, 'tomorrow': 4329, 'loneli': 4330, '1920': 4331, 'hulk': 4332, 'rhythm': 4333, 'shortcom': 4334, 'fright': 4335, 'suffici': 4336, 'minu': 4337, '1988': 4338, 'newcom': 4339, 'paradis': 4340, 'scoop': 4341, 'amazon': 4342, '1978': 4343, 'tasteless': 4344, 'wagner': 4345, 'sung': 4346, 'lurk': 4347, 'globe': 4348, 'rumor': 4349, 'el': 4350, 'hungri': 4351, 'stream': 4352, 'hackney': 4353, 'aristocrat': 4354, 'thunderbird': 4355, 'bread': 4356, 'grudg': 4357, 'paxton': 4358, 'en': 4359, 'smell': 4360, 'minist': 4361, 'posey': 4362, 'couch': 4363, 'lectur': 4364, 'impos': 4365, 'cancer': 4366, '1939': 4367, '1989': 4368, '75': 4369, 'curli': 4370, 'worship': 4371, 'tierney': 4372, 'heist': 4373, 'quietli': 4374, 'brit': 4375, 'iv': 4376, 'immers': 4377, 'abrupt': 4378, 'straightforward': 4379, 'recogniz': 4380, 'literari': 4381, 'ingeni': 4382, 'naughti': 4383, 'atroc': 4384, 'entranc': 4385, 'inmat': 4386, 'wwe': 4387, 'springer': 4388, 'chamberlain': 4389, 'ram': 4390, 'counterpart': 4391, 'penn': 4392, 'rub': 4393, 'secondari': 4394, 'chavez': 4395, 'teas': 4396, 'beverli': 4397, 'standout': 4398, 'hopkin': 4399, 'dirt': 4400, 'choppi': 4401, 'leigh': 4402, 'policeman': 4403, 'entitl': 4404, 'attenborough': 4405, 'watcher': 4406, 'enthral': 4407, 'bernard': 4408, 'morbid': 4409, 'lindsay': 4410, 'cattl': 4411, 'nolan': 4412, 'sublim': 4413, 'convert': 4414, 'variat': 4415, 'laurenc': 4416, 'clan': 4417, 'misguid': 4418, 'injuri': 4419, 'geni': 4420, 'moreov': 4421, 'transcend': 4422, 'sassi': 4423, 'net': 4424, 'skeptic': 4425, 'duel': 4426, 'quaid': 4427, 'heartfelt': 4428, 'missil': 4429, 'ace': 4430, 'esther': 4431, 'yearn': 4432, '1986': 4433, 'nemesi': 4434, 'ratso': 4435, 'buzz': 4436, 'characteris': 4437, 'cruelti': 4438, 'vader': 4439, 'tyler': 4440, 'spiral': 4441, 'kitti': 4442, 'bean': 4443, 'setup': 4444, 'uncut': 4445, 'puppi': 4446, 'bye': 4447, 'moder': 4448, 'brood': 4449, 'obstacl': 4450, 'hopelessli': 4451, 'enabl': 4452, 'rosemari': 4453, 'graini': 4454, 'grin': 4455, 'poe': 4456, 'egg': 4457, 'unexplain': 4458, '1979': 4459, 'steadi': 4460, 'kidman': 4461, 'out': 4462, 'carlito': 4463, 'diari': 4464, 'youngest': 4465, 'facil': 4466, 'artsi': 4467, 'mytholog': 4468, 'reliabl': 4469, 'hk': 4470, 'dont': 4471, 'gillian': 4472, 'exterior': 4473, 'sweat': 4474, 'oblig': 4475, 'bewar': 4476, 'acquaint': 4477, 'hain': 4478, 'baffl': 4479, 'disastr': 4480, 'preming': 4481, 'hammi': 4482, 'narrow': 4483, 'niec': 4484, 'spontan': 4485, 'gina': 4486, '1969': 4487, 'christin': 4488, 'martha': 4489, 'bronson': 4490, 'underworld': 4491, 'decept': 4492, 'bounc': 4493, 'despic': 4494, 'heap': 4495, 'patricia': 4496, 'effici': 4497, 'athlet': 4498, 'weather': 4499, 'fuel': 4500, 'kline': 4501, 'clueless': 4502, 'brendan': 4503, 'injur': 4504, 'loi': 4505, 'scar': 4506, 'analyz': 4507, 'mermaid': 4508, 'angst': 4509, '73': 4510, 'outlaw': 4511, 'astound': 4512, 'loath': 4513, 'preachi': 4514, 'shatter': 4515, 'headach': 4516, 'viewpoint': 4517, 'insipid': 4518, 'uh': 4519, 'hepburn': 4520, 'trigger': 4521, 'fontain': 4522, '19': 4523, 'rome': 4524, 'sleepwalk': 4525, 'taboo': 4526, 'candl': 4527, 'suprem': 4528, 'tick': 4529, 'lester': 4530, 'biker': 4531, 'goof': 4532, 'dandi': 4533, 'virtu': 4534, 'sooner': 4535, 'enlist': 4536, 'housewif': 4537, 'harmless': 4538, 'circu': 4539, 'mayhem': 4540, 'renaiss': 4541, 'dilemma': 4542, 'stimul': 4543, 'whore': 4544, 'claustrophob': 4545, 'stair': 4546, 'redund': 4547, 'idol': 4548, 'spade': 4549, 'intric': 4550, 'dish': 4551, 'foolish': 4552, 'sox': 4553, 'boston': 4554, 'contempt': 4555, 'slimi': 4556, 'salt': 4557, 'phenomenon': 4558, 'macho': 4559, 'ebert': 4560, 'surgeri': 4561, 'steer': 4562, 'glorifi': 4563, 'tripl': 4564, 'hooker': 4565, 'hokey': 4566, 'bent': 4567, 'dismal': 4568, 'overlong': 4569, 'scorses': 4570, 'hostag': 4571, 'immatur': 4572, 'cassavet': 4573, 'fluff': 4574, 'filth': 4575, 'ariel': 4576, 'gere': 4577, 'amor': 4578, 'oldest': 4579, 'zoom': 4580, 'guin': 4581, 'camcord': 4582, 'corbett': 4583, 'naschi': 4584, 'remad': 4585, 'assert': 4586, 'cow': 4587, 'trivia': 4588, 'faint': 4589, 'fascist': 4590, 'beard': 4591, 'transplant': 4592, 'perman': 4593, 'messi': 4594, 'proport': 4595, 'spinal': 4596, 'mutual': 4597, 'obligatori': 4598, 'harold': 4599, 'flirt': 4600, 'conquer': 4601, 'spree': 4602, 'shield': 4603, 'astronaut': 4604, 'widescreen': 4605, 'flag': 4606, 'mount': 4607, 'down': 4608, 'strongest': 4609, 'dwarf': 4610, '1981': 4611, 'margin': 4612, 'preced': 4613, '1976': 4614, 'radiat': 4615, 'alvin': 4616, 'flashi': 4617, 'keen': 4618, 'shred': 4619, 'joker': 4620, 'cohen': 4621, 'zane': 4622, 'muscl': 4623, 'schlock': 4624, 'rhyme': 4625, 'corman': 4626, 'frantic': 4627, 'gabl': 4628, 'gasp': 4629, 'antagonist': 4630, 'nolt': 4631, 'cush': 4632, 'off': 4633, 'deer': 4634, 'mobil': 4635, 'scandal': 4636, 'carey': 4637, 'hara': 4638, 'neurot': 4639, 'repris': 4640, 'wield': 4641, 'vaniti': 4642, 'claud': 4643, 'archiv': 4644, 'sensual': 4645, '95': 4646, 'barn': 4647, 'persuad': 4648, 'ritchi': 4649, 'discern': 4650, 'raj': 4651, 'resum': 4652, 'strive': 4653, 'brush': 4654, 'departur': 4655, 'bachelor': 4656, 'bitten': 4657, 'www': 4658, '28': 4659, '1945': 4660, 'someday': 4661, 'triangl': 4662, 'interestingli': 4663, 'inflict': 4664, 'flock': 4665, 'aborigin': 4666, 'danish': 4667, 'instruct': 4668, 'info': 4669, 'fishburn': 4670, 'mol': 4671, 'divin': 4672, 'boob': 4673, 'pacif': 4674, 'timberlak': 4675, 'carlo': 4676, 'frontier': 4677, 'biblic': 4678, 'prophet': 4679, 'dylan': 4680, 'melissa': 4681, 'proclaim': 4682, 'artwork': 4683, 'undermin': 4684, 'heartwarm': 4685, 'cher': 4686, 'casino': 4687, 'earnest': 4688, 'hilar': 4689, 'recit': 4690, 'fragil': 4691, 'cliffhang': 4692, 'ish': 4693, 'dame': 4694, 'kathryn': 4695, 'cycl': 4696, 'parson': 4697, 'senior': 4698, 'jade': 4699, 'clad': 4700, 'traffic': 4701, 'colin': 4702, 'bate': 4703, 'pickford': 4704, 'dim': 4705, 'vibrant': 4706, 'hapless': 4707, 'helm': 4708, 'cb': 4709, 'banter': 4710, 'harrison': 4711, 'submit': 4712, 'miracul': 4713, 'anton': 4714, 'hug': 4715, 'rot': 4716, 'europa': 4717, 'axe': 4718, 'mobster': 4719, 'luka': 4720, 'loretta': 4721, 'neill': 4722, 'pixar': 4723, 'wendigo': 4724, 'wardrob': 4725, 'akin': 4726, 'blatantli': 4727, 'orphan': 4728, 'bikini': 4729, 'nope': 4730, 'shepherd': 4731, 'electron': 4732, 'breakfast': 4733, 'toronto': 4734, 'misfortun': 4735, 'winchest': 4736, 'venom': 4737, 'cerebr': 4738, 'estrang': 4739, 'isra': 4740, 'sicken': 4741, 'flavor': 4742, 'foil': 4743, 'eli': 4744, 'holocaust': 4745, 'redneck': 4746, 'vile': 4747, 'seedi': 4748, 'bondag': 4749, 'pc': 4750, 'jordan': 4751, 'legitim': 4752, 'antholog': 4753, 'illus': 4754, 'marlon': 4755, 'mason': 4756, 'razor': 4757, 'alexandr': 4758, 'articl': 4759, 'northern': 4760, 'jo': 4761, 'token': 4762, 'rooki': 4763, 'static': 4764, 'http': 4765, 'feast': 4766, 'choke': 4767, 'trier': 4768, 'vanessa': 4769, 'aris': 4770, 'uma': 4771, 'milo': 4772, 'lui': 4773, 'mathieu': 4774, 'lucil': 4775, 'boyer': 4776, 'knightley': 4777, 'glare': 4778, 'howl': 4779, 'swept': 4780, 'affleck': 4781, 'peer': 4782, 'huston': 4783, 'turd': 4784, 'fifth': 4785, 'charlton': 4786, 'shorter': 4787, 'magician': 4788, 'highway': 4789, 'outdat': 4790, 'comprehend': 4791, 'disregard': 4792, 'clinic': 4793, 'feminin': 4794, 'audrey': 4795, 'wrestler': 4796, 'dudley': 4797, 'cartoonish': 4798, 'smack': 4799, 'ideolog': 4800, 'deem': 4801, 'nightclub': 4802, 'linear': 4803, 'oppon': 4804, 'leather': 4805, 'retriev': 4806, 'frog': 4807, 'gilbert': 4808, 'tack': 4809, 'abund': 4810, 'styliz': 4811, 'psych': 4812, 'ceremoni': 4813, 'gunga': 4814, 'sleaz': 4815, 'tara': 4816, 'spawn': 4817, '1994': 4818, 'bastard': 4819, 'client': 4820, 'senat': 4821, 'cemeteri': 4822, '4th': 4823, 'monument': 4824, 'btw': 4825, 'phenomen': 4826, 'energet': 4827, 'toe': 4828, 'lavish': 4829, 'corn': 4830, 'plate': 4831, 'newer': 4832, 'whack': 4833, 'durat': 4834, 'lighter': 4835, 'breakdown': 4836, 'greet': 4837, 'einstein': 4838, 'compris': 4839, 'summar': 4840, 'uniformli': 4841, 'chip': 4842, 'conrad': 4843, 'snatch': 4844, '1991': 4845, 'boo': 4846, 'mitch': 4847, 'collector': 4848, 'bogu': 4849, 'cuban': 4850, 'potter': 4851, 'moe': 4852, 'lifeless': 4853, 'deliver': 4854, 'evolut': 4855, 'spine': 4856, 'salman': 4857, 'goldsworthi': 4858, 'braveheart': 4859, 'sorrow': 4860, 'kazan': 4861, 'jedi': 4862, 'liu': 4863, 'capot': 4864, 'lex': 4865, 'kent': 4866, 'outright': 4867, 'constitut': 4868, 'signal': 4869, 'bori': 4870, 'trauma': 4871, 'healthi': 4872, 'jare': 4873, 'neatli': 4874, 'pronounc': 4875, 'inaccuraci': 4876, 'replay': 4877, 'historian': 4878, 'belli': 4879, 'gilliam': 4880, 'appl': 4881, 'creek': 4882, '1974': 4883, 'embark': 4884, 'wtf': 4885, 'randolph': 4886, 'luxuri': 4887, 'fluid': 4888, 'alleg': 4889, 'bulk': 4890, 'firmli': 4891, '1977': 4892, 'mcqueen': 4893, 'ol': 4894, 'spectacl': 4895, 'armstrong': 4896, 'occup': 4897, 'jam': 4898, 'evelyn': 4899, 'undertak': 4900, 'ie': 4901, 'undead': 4902, 'clara': 4903, 'cecil': 4904, 'jule': 4905, 'eleven': 4906, 'nina': 4907, 'judd': 4908, 'conan': 4909, 'mum': 4910, 'spray': 4911, 'carmen': 4912, 'vain': 4913, 'tokyo': 4914, 'miniseri': 4915, 'groan': 4916, 'lauren': 4917, 'blur': 4918, 'relentless': 4919, 'poker': 4920, 'sidewalk': 4921, 'rosario': 4922, 'congratul': 4923, 'decapit': 4924, 'antonio': 4925, 'meal': 4926, 'roar': 4927, 'knee': 4928, 'miami': 4929, 'genet': 4930, 'walt': 4931, '1985': 4932, 'forgiven': 4933, 'id': 4934, 'truman': 4935, 'unattract': 4936, 'vignett': 4937, 'fruit': 4938, 'cape': 4939, 'paula': 4940, 'kiddi': 4941, 'subtli': 4942, 'pepper': 4943, 'unsuspect': 4944, 'galaxi': 4945, 'palm': 4946, 'basket': 4947, 'goldblum': 4948, 'curtain': 4949, 'porter': 4950, 'inclus': 4951, 'sacrif': 4952, 'abound': 4953, 'comb': 4954, 'pioneer': 4955, 'comprehens': 4956, 'bsg': 4957, 'propheci': 4958, 'lanc': 4959, 'aussi': 4960, 'ash': 4961, 'inaccur': 4962, 'bait': 4963, 'handicap': 4964, 'assort': 4965, 'epitom': 4966, 'monti': 4967, 'sophi': 4968, 'frontal': 4969, 'drone': 4970, 'mice': 4971, 'cypher': 4972, 'optimist': 4973, 'growth': 4974, 'victorian': 4975, 'weaker': 4976, 'weari': 4977, 'omin': 4978, 'bravo': 4979, '21st': 4980, 'profil': 4981, 'dubiou': 4982, 'playboy': 4983, 'modest': 4984, 'spill': 4985, 'bach': 4986, 'casper': 4987, 'incorrect': 4988, 'verg': 4989, 'masterson': 4990, 'asset': 4991, 'rapidli': 4992, 'vastli': 4993, 'substanti': 4994, 'scariest': 4995, 'hostil': 4996, 'jill': 4997, 'reincarn': 4998, 'turtl': 4999}\n"
     ]
    }
   ],
   "source": [
    "# TODO: Use this space to determine the five most frequently appearing words in the training set.\n",
    "print(word_dict)"
   ]
  },
  {
   "cell_type": "markdown",
   "metadata": {},
   "source": [
    "### Save `word_dict`\n",
    "\n",
    "Later on when we construct an endpoint which processes a submitted review we will need to make use of the `word_dict` which we have created. As such, we will save it to a file now for future use."
   ]
  },
  {
   "cell_type": "code",
   "execution_count": 17,
   "metadata": {},
   "outputs": [],
   "source": [
    "data_dir = '../data/pytorch' # The folder we will use for storing data\n",
    "if not os.path.exists(data_dir): # Make sure that the folder exists\n",
    "    os.makedirs(data_dir)"
   ]
  },
  {
   "cell_type": "code",
   "execution_count": 18,
   "metadata": {},
   "outputs": [],
   "source": [
    "with open(os.path.join(data_dir, 'word_dict.pkl'), \"wb\") as f:\n",
    "    pickle.dump(word_dict, f)"
   ]
  },
  {
   "cell_type": "markdown",
   "metadata": {},
   "source": [
    "### Transform the reviews\n",
    "\n",
    "Now that we have our word dictionary which allows us to transform the words appearing in the reviews into integers, it is time to make use of it and convert our reviews to their integer sequence representation, making sure to pad or truncate to a fixed length, which in our case is `500`."
   ]
  },
  {
   "cell_type": "code",
   "execution_count": 19,
   "metadata": {},
   "outputs": [],
   "source": [
    "def convert_and_pad(word_dict, sentence, pad=500):\n",
    "    NOWORD = 0 # We will use 0 to represent the 'no word' category\n",
    "    INFREQ = 1 # and we use 1 to represent the infrequent words, i.e., words not appearing in word_dict\n",
    "    \n",
    "    working_sentence = [NOWORD] * pad\n",
    "    \n",
    "    for word_index, word in enumerate(sentence[:pad]):\n",
    "        if word in word_dict:\n",
    "            working_sentence[word_index] = word_dict[word]\n",
    "        else:\n",
    "            working_sentence[word_index] = INFREQ\n",
    "            \n",
    "    return working_sentence, min(len(sentence), pad)\n",
    "\n",
    "def convert_and_pad_data(word_dict, data, pad=500):\n",
    "    result = []\n",
    "    lengths = []\n",
    "    \n",
    "    for sentence in data:\n",
    "        converted, leng = convert_and_pad(word_dict, sentence, pad)\n",
    "        result.append(converted)\n",
    "        lengths.append(leng)\n",
    "        \n",
    "    return np.array(result), np.array(lengths)"
   ]
  },
  {
   "cell_type": "code",
   "execution_count": 20,
   "metadata": {},
   "outputs": [],
   "source": [
    "train_X, train_X_len = convert_and_pad_data(word_dict, train_X)\n",
    "test_X, test_X_len = convert_and_pad_data(word_dict, test_X)"
   ]
  },
  {
   "cell_type": "markdown",
   "metadata": {},
   "source": [
    "As a quick check to make sure that things are working as intended, check to see what one of the reviews in the training set looks like after having been processeed. Does this look reasonable? What is the length of a review in the training set?"
   ]
  },
  {
   "cell_type": "code",
   "execution_count": 21,
   "metadata": {},
   "outputs": [
    {
     "name": "stdout",
     "output_type": "stream",
     "text": [
      "[  71   76  474   13 3486 4214  514  774  232    3  376 4543  202  328\n",
      "  985   28  180    1 4776  219 1805  471   61    1   29  213  554  287\n",
      " 4776   71   43  216    4   62 3180    1  356 4725    1   60    6  214\n",
      " 1615   19    1 1425 3007 4776 1313 1373    1    1  620  205   13    1\n",
      "  219 1178  436 1330 1280 3007  521  571  746 4057 1820 1805  256   62\n",
      " 4776   17 3131  421  115 1149  213  496    0    0    0    0    0    0\n",
      "    0    0    0    0    0    0    0    0    0    0    0    0    0    0\n",
      "    0    0    0    0    0    0    0    0    0    0    0    0    0    0\n",
      "    0    0    0    0    0    0    0    0    0    0    0    0    0    0\n",
      "    0    0    0    0    0    0    0    0    0    0    0    0    0    0\n",
      "    0    0    0    0    0    0    0    0    0    0    0    0    0    0\n",
      "    0    0    0    0    0    0    0    0    0    0    0    0    0    0\n",
      "    0    0    0    0    0    0    0    0    0    0    0    0    0    0\n",
      "    0    0    0    0    0    0    0    0    0    0    0    0    0    0\n",
      "    0    0    0    0    0    0    0    0    0    0    0    0    0    0\n",
      "    0    0    0    0    0    0    0    0    0    0    0    0    0    0\n",
      "    0    0    0    0    0    0    0    0    0    0    0    0    0    0\n",
      "    0    0    0    0    0    0    0    0    0    0    0    0    0    0\n",
      "    0    0    0    0    0    0    0    0    0    0    0    0    0    0\n",
      "    0    0    0    0    0    0    0    0    0    0    0    0    0    0\n",
      "    0    0    0    0    0    0    0    0    0    0    0    0    0    0\n",
      "    0    0    0    0    0    0    0    0    0    0    0    0    0    0\n",
      "    0    0    0    0    0    0    0    0    0    0    0    0    0    0\n",
      "    0    0    0    0    0    0    0    0    0    0    0    0    0    0\n",
      "    0    0    0    0    0    0    0    0    0    0    0    0    0    0\n",
      "    0    0    0    0    0    0    0    0    0    0    0    0    0    0\n",
      "    0    0    0    0    0    0    0    0    0    0    0    0    0    0\n",
      "    0    0    0    0    0    0    0    0    0    0    0    0    0    0\n",
      "    0    0    0    0    0    0    0    0    0    0    0    0    0    0\n",
      "    0    0    0    0    0    0    0    0    0    0    0    0    0    0\n",
      "    0    0    0    0    0    0    0    0    0    0    0    0    0    0\n",
      "    0    0    0    0    0    0    0    0    0    0    0    0    0    0\n",
      "    0    0    0    0    0    0    0    0    0    0    0    0    0    0\n",
      "    0    0    0    0    0    0    0    0    0    0    0    0    0    0\n",
      "    0    0    0    0    0    0    0    0    0    0    0    0    0    0\n",
      "    0    0    0    0    0    0    0    0    0    0]\n"
     ]
    }
   ],
   "source": [
    "# Use this cell to examine one of the processed reviews to make sure everything is working as intended.\n",
    "print(train_X[0])"
   ]
  },
  {
   "cell_type": "markdown",
   "metadata": {},
   "source": [
    "**Question:** In the cells above we use the `preprocess_data` and `convert_and_pad_data` methods to process both the training and testing set. Why or why not might this be a problem?"
   ]
  },
  {
   "cell_type": "markdown",
   "metadata": {},
   "source": [
    "**Answer:**\n",
    "\n",
    "The dictionary we generated was only using the test data set. This means that it might not reflect the same word occurrence in the training data which could cause problems if the inferred data relies on the words of the dataset."
   ]
  },
  {
   "cell_type": "markdown",
   "metadata": {},
   "source": [
    "## Step 3: Upload the data to S3\n",
    "\n",
    "As in the XGBoost notebook, we will need to upload the training dataset to S3 in order for our training code to access it. For now we will save it locally and we will upload to S3 later on.\n",
    "\n",
    "### Save the processed training dataset locally\n",
    "\n",
    "It is important to note the format of the data that we are saving as we will need to know it when we write the training code. In our case, each row of the dataset has the form `label`, `length`, `review[500]` where `review[500]` is a sequence of `500` integers representing the words in the review."
   ]
  },
  {
   "cell_type": "code",
   "execution_count": 22,
   "metadata": {},
   "outputs": [],
   "source": [
    "import pandas as pd\n",
    "    \n",
    "pd.concat([pd.DataFrame(train_y), pd.DataFrame(train_X_len), pd.DataFrame(train_X)], axis=1) \\\n",
    "        .to_csv(os.path.join(data_dir, 'train.csv'), header=False, index=False)"
   ]
  },
  {
   "cell_type": "markdown",
   "metadata": {},
   "source": [
    "### Uploading the training data\n",
    "\n",
    "\n",
    "Next, we need to upload the training data to the SageMaker default S3 bucket so that we can provide access to it while training our model."
   ]
  },
  {
   "cell_type": "code",
   "execution_count": 23,
   "metadata": {},
   "outputs": [],
   "source": [
    "import sagemaker\n",
    "\n",
    "sagemaker_session = sagemaker.Session()\n",
    "\n",
    "bucket = sagemaker_session.default_bucket()\n",
    "prefix = 'sagemaker/sentiment_rnn'\n",
    "\n",
    "role = sagemaker.get_execution_role()"
   ]
  },
  {
   "cell_type": "code",
   "execution_count": 24,
   "metadata": {},
   "outputs": [],
   "source": [
    "input_data = sagemaker_session.upload_data(path=data_dir, bucket=bucket, key_prefix=prefix)"
   ]
  },
  {
   "cell_type": "markdown",
   "metadata": {},
   "source": [
    "**NOTE:** The cell above uploads the entire contents of our data directory. This includes the `word_dict.pkl` file. This is fortunate as we will need this later on when we create an endpoint that accepts an arbitrary review. For now, we will just take note of the fact that it resides in the data directory (and so also in the S3 training bucket) and that we will need to make sure it gets saved in the model directory."
   ]
  },
  {
   "cell_type": "markdown",
   "metadata": {},
   "source": [
    "## Step 4: Build and Train the PyTorch Model\n",
    "\n",
    "In the XGBoost notebook we discussed what a model is in the SageMaker framework. In particular, a model comprises three objects\n",
    "\n",
    " - Model Artifacts,\n",
    " - Training Code, and\n",
    " - Inference Code,\n",
    " \n",
    "each of which interact with one another. In the XGBoost example we used training and inference code that was provided by Amazon. Here we will still be using containers provided by Amazon with the added benefit of being able to include our own custom code.\n",
    "\n",
    "We will start by implementing our own neural network in PyTorch along with a training script. For the purposes of this project we have provided the necessary model object in the `model.py` file, inside of the `train` folder. You can see the provided implementation by running the cell below."
   ]
  },
  {
   "cell_type": "code",
   "execution_count": 25,
   "metadata": {},
   "outputs": [
    {
     "name": "stdout",
     "output_type": "stream",
     "text": [
      "\u001b[34mimport\u001b[39;49;00m \u001b[04m\u001b[36mtorch.nn\u001b[39;49;00m \u001b[34mas\u001b[39;49;00m \u001b[04m\u001b[36mnn\u001b[39;49;00m\r\n",
      "\r\n",
      "\u001b[34mclass\u001b[39;49;00m \u001b[04m\u001b[32mLSTMClassifier\u001b[39;49;00m(nn.Module):\r\n",
      "    \u001b[33m\"\"\"\u001b[39;49;00m\r\n",
      "\u001b[33m    This is the simple RNN model we will be using to perform Sentiment Analysis.\u001b[39;49;00m\r\n",
      "\u001b[33m    \"\"\"\u001b[39;49;00m\r\n",
      "\r\n",
      "    \u001b[34mdef\u001b[39;49;00m \u001b[32m__init__\u001b[39;49;00m(\u001b[36mself\u001b[39;49;00m, embedding_dim, hidden_dim, vocab_size):\r\n",
      "        \u001b[33m\"\"\"\u001b[39;49;00m\r\n",
      "\u001b[33m        Initialize the model by settingg up the various layers.\u001b[39;49;00m\r\n",
      "\u001b[33m        \"\"\"\u001b[39;49;00m\r\n",
      "        \u001b[36msuper\u001b[39;49;00m(LSTMClassifier, \u001b[36mself\u001b[39;49;00m).\u001b[32m__init__\u001b[39;49;00m()\r\n",
      "\r\n",
      "        \u001b[36mself\u001b[39;49;00m.embedding = nn.Embedding(vocab_size, embedding_dim, padding_idx=\u001b[34m0\u001b[39;49;00m)\r\n",
      "        \u001b[36mself\u001b[39;49;00m.lstm = nn.LSTM(embedding_dim, hidden_dim)\r\n",
      "        \u001b[36mself\u001b[39;49;00m.dense = nn.Linear(in_features=hidden_dim, out_features=\u001b[34m1\u001b[39;49;00m)\r\n",
      "        \u001b[36mself\u001b[39;49;00m.sig = nn.Sigmoid()\r\n",
      "        \r\n",
      "        \u001b[36mself\u001b[39;49;00m.word_dict = \u001b[36mNone\u001b[39;49;00m\r\n",
      "\r\n",
      "    \u001b[34mdef\u001b[39;49;00m \u001b[32mforward\u001b[39;49;00m(\u001b[36mself\u001b[39;49;00m, x):\r\n",
      "        \u001b[33m\"\"\"\u001b[39;49;00m\r\n",
      "\u001b[33m        Perform a forward pass of our model on some input.\u001b[39;49;00m\r\n",
      "\u001b[33m        \"\"\"\u001b[39;49;00m\r\n",
      "        x = x.t()\r\n",
      "        lengths = x[\u001b[34m0\u001b[39;49;00m,:]\r\n",
      "        reviews = x[\u001b[34m1\u001b[39;49;00m:,:]\r\n",
      "        embeds = \u001b[36mself\u001b[39;49;00m.embedding(reviews)\r\n",
      "        lstm_out, _ = \u001b[36mself\u001b[39;49;00m.lstm(embeds)\r\n",
      "        out = \u001b[36mself\u001b[39;49;00m.dense(lstm_out)\r\n",
      "        out = out[lengths - \u001b[34m1\u001b[39;49;00m, \u001b[36mrange\u001b[39;49;00m(\u001b[36mlen\u001b[39;49;00m(lengths))]\r\n",
      "        \u001b[34mreturn\u001b[39;49;00m \u001b[36mself\u001b[39;49;00m.sig(out.squeeze())\r\n"
     ]
    }
   ],
   "source": [
    "!pygmentize train/model.py"
   ]
  },
  {
   "cell_type": "markdown",
   "metadata": {},
   "source": [
    "The important takeaway from the implementation provided is that there are three parameters that we may wish to tweak to improve the performance of our model. These are the embedding dimension, the hidden dimension and the size of the vocabulary. We will likely want to make these parameters configurable in the training script so that if we wish to modify them we do not need to modify the script itself. We will see how to do this later on. To start we will write some of the training code in the notebook so that we can more easily diagnose any issues that arise.\n",
    "\n",
    "First we will load a small portion of the training data set to use as a sample. It would be very time consuming to try and train the model completely in the notebook as we do not have access to a gpu and the compute instance that we are using is not particularly powerful. However, we can work on a small bit of the data to get a feel for how our training script is behaving."
   ]
  },
  {
   "cell_type": "code",
   "execution_count": 26,
   "metadata": {},
   "outputs": [],
   "source": [
    "import torch\n",
    "import torch.utils.data\n",
    "\n",
    "# Read in only the first 250 rows\n",
    "train_sample = pd.read_csv(os.path.join(data_dir, 'train.csv'), header=None, names=None, nrows=250)\n",
    "\n",
    "# Turn the input pandas dataframe into tensors\n",
    "train_sample_y = torch.from_numpy(train_sample[[0]].values).float().squeeze()\n",
    "train_sample_X = torch.from_numpy(train_sample.drop([0], axis=1).values).long()\n",
    "\n",
    "# Build the dataset\n",
    "train_sample_ds = torch.utils.data.TensorDataset(train_sample_X, train_sample_y)\n",
    "# Build the dataloader\n",
    "train_sample_dl = torch.utils.data.DataLoader(train_sample_ds, batch_size=50)"
   ]
  },
  {
   "cell_type": "markdown",
   "metadata": {},
   "source": [
    "### (TODO) Writing the training method\n",
    "\n",
    "Next we need to write the training code itself. This should be very similar to training methods that you have written before to train PyTorch models. We will leave any difficult aspects such as model saving / loading and parameter loading until a little later."
   ]
  },
  {
   "cell_type": "code",
   "execution_count": 27,
   "metadata": {},
   "outputs": [],
   "source": [
    "def train(model, train_loader, epochs, optimizer, loss_fn, device):\n",
    "    for epoch in range(1, epochs + 1):\n",
    "        model.train()\n",
    "        total_loss = 0\n",
    "        for batch in train_loader:         \n",
    "            batch_X, batch_y = batch\n",
    "            \n",
    "            batch_X = batch_X.to(device)\n",
    "            batch_y = batch_y.to(device)\n",
    "            \n",
    "            # TODO: Complete this train method to train the model provided.\n",
    "            # zero the parameter gradients\n",
    "            optimizer.zero_grad()\n",
    "            \n",
    "            # forward + backward + optimize\n",
    "            outputs = model(batch_X)\n",
    "            loss = loss_fn(outputs, batch_y)\n",
    "            loss.backward()\n",
    "            optimizer.step()\n",
    "            \n",
    "            total_loss += loss.data.item()\n",
    "        print(\"Epoch: {}, BCELoss: {}\".format(epoch, total_loss / len(train_loader)))"
   ]
  },
  {
   "cell_type": "markdown",
   "metadata": {},
   "source": [
    "Supposing we have the training method above, we will test that it is working by writing a bit of code in the notebook that executes our training method on the small sample training set that we loaded earlier. The reason for doing this in the notebook is so that we have an opportunity to fix any errors that arise early when they are easier to diagnose."
   ]
  },
  {
   "cell_type": "code",
   "execution_count": 28,
   "metadata": {},
   "outputs": [
    {
     "name": "stdout",
     "output_type": "stream",
     "text": [
      "Epoch: 1, BCELoss: 0.6937397360801697\n",
      "Epoch: 2, BCELoss: 0.6840220212936401\n",
      "Epoch: 3, BCELoss: 0.6754073381423951\n",
      "Epoch: 4, BCELoss: 0.6656558871269226\n",
      "Epoch: 5, BCELoss: 0.6535135865211487\n"
     ]
    }
   ],
   "source": [
    "import torch.optim as optim\n",
    "from train.model import LSTMClassifier\n",
    "\n",
    "device = torch.device(\"cuda\" if torch.cuda.is_available() else \"cpu\")\n",
    "model = LSTMClassifier(32, 100, 5000).to(device)\n",
    "optimizer = optim.Adam(model.parameters())\n",
    "loss_fn = torch.nn.BCELoss()\n",
    "\n",
    "train(model, train_sample_dl, 5, optimizer, loss_fn, device)"
   ]
  },
  {
   "cell_type": "markdown",
   "metadata": {},
   "source": [
    "In order to construct a PyTorch model using SageMaker we must provide SageMaker with a training script. We may optionally include a directory which will be copied to the container and from which our training code will be run. When the training container is executed it will check the uploaded directory (if there is one) for a `requirements.txt` file and install any required Python libraries, after which the training script will be run."
   ]
  },
  {
   "cell_type": "markdown",
   "metadata": {},
   "source": [
    "### (TODO) Training the model\n",
    "\n",
    "When a PyTorch model is constructed in SageMaker, an entry point must be specified. This is the Python file which will be executed when the model is trained. Inside of the `train` directory is a file called `train.py` which has been provided and which contains most of the necessary code to train our model. The only thing that is missing is the implementation of the `train()` method which you wrote earlier in this notebook.\n",
    "\n",
    "**TODO**: Copy the `train()` method written above and paste it into the `train/train.py` file where required.\n",
    "\n",
    "The way that SageMaker passes hyperparameters to the training script is by way of arguments. These arguments can then be parsed and used in the training script. To see how this is done take a look at the provided `train/train.py` file."
   ]
  },
  {
   "cell_type": "code",
   "execution_count": 29,
   "metadata": {},
   "outputs": [],
   "source": [
    "from sagemaker.pytorch import PyTorch\n",
    "\n",
    "estimator = PyTorch(entry_point=\"train.py\",\n",
    "                    source_dir=\"train\",\n",
    "                    role=role,\n",
    "                    framework_version='0.4.0',\n",
    "                    train_instance_count=1,\n",
    "                    train_instance_type='ml.p2.xlarge',\n",
    "                    hyperparameters={\n",
    "                        'epochs': 10,\n",
    "                        'hidden_dim': 200,\n",
    "                    })"
   ]
  },
  {
   "cell_type": "code",
   "execution_count": 30,
   "metadata": {},
   "outputs": [
    {
     "name": "stdout",
     "output_type": "stream",
     "text": [
      "2019-12-07 21:29:46 Starting - Starting the training job...\n",
      "2019-12-07 21:29:49 Starting - Launching requested ML instances......\n",
      "2019-12-07 21:30:49 Starting - Preparing the instances for training......\n",
      "2019-12-07 21:31:49 Downloading - Downloading input data...\n",
      "2019-12-07 21:32:26 Training - Downloading the training image...\n",
      "2019-12-07 21:33:08 Training - Training image download completed. Training in progress.\u001b[34mbash: cannot set terminal process group (-1): Inappropriate ioctl for device\u001b[0m\n",
      "\u001b[34mbash: no job control in this shell\u001b[0m\n",
      "\u001b[34m2019-12-07 21:33:09,016 sagemaker-containers INFO     Imported framework sagemaker_pytorch_container.training\u001b[0m\n",
      "\u001b[34m2019-12-07 21:33:09,040 sagemaker_pytorch_container.training INFO     Block until all host DNS lookups succeed.\u001b[0m\n",
      "\u001b[34m2019-12-07 21:33:09,043 sagemaker_pytorch_container.training INFO     Invoking user training script.\u001b[0m\n",
      "\u001b[34m2019-12-07 21:33:09,264 sagemaker-containers INFO     Module train does not provide a setup.py. \u001b[0m\n",
      "\u001b[34mGenerating setup.py\u001b[0m\n",
      "\u001b[34m2019-12-07 21:33:09,264 sagemaker-containers INFO     Generating setup.cfg\u001b[0m\n",
      "\u001b[34m2019-12-07 21:33:09,265 sagemaker-containers INFO     Generating MANIFEST.in\u001b[0m\n",
      "\u001b[34m2019-12-07 21:33:09,265 sagemaker-containers INFO     Installing module with the following command:\u001b[0m\n",
      "\u001b[34m/usr/bin/python -m pip install -U . -r requirements.txt\u001b[0m\n",
      "\u001b[34mProcessing /opt/ml/code\u001b[0m\n",
      "\u001b[34mCollecting pandas (from -r requirements.txt (line 1))\u001b[0m\n",
      "\u001b[34m  Downloading https://files.pythonhosted.org/packages/74/24/0cdbf8907e1e3bc5a8da03345c23cbed7044330bb8f73bb12e711a640a00/pandas-0.24.2-cp35-cp35m-manylinux1_x86_64.whl (10.0MB)\u001b[0m\n",
      "\u001b[34mCollecting numpy (from -r requirements.txt (line 2))\u001b[0m\n",
      "\u001b[34m  Downloading https://files.pythonhosted.org/packages/ab/e9/2561dbfbc05146bffa02167e09b9902e273decb2dc4cd5c43314ede20312/numpy-1.17.4-cp35-cp35m-manylinux1_x86_64.whl (19.8MB)\u001b[0m\n",
      "\u001b[34mCollecting nltk (from -r requirements.txt (line 3))\n",
      "  Downloading https://files.pythonhosted.org/packages/f6/1d/d925cfb4f324ede997f6d47bea4d9babba51b49e87a767c170b77005889d/nltk-3.4.5.zip (1.5MB)\u001b[0m\n",
      "\u001b[34mCollecting beautifulsoup4 (from -r requirements.txt (line 4))\n",
      "  Downloading https://files.pythonhosted.org/packages/3b/c8/a55eb6ea11cd7e5ac4bacdf92bac4693b90d3ba79268be16527555e186f0/beautifulsoup4-4.8.1-py3-none-any.whl (101kB)\u001b[0m\n",
      "\u001b[34mCollecting html5lib (from -r requirements.txt (line 5))\n",
      "  Downloading https://files.pythonhosted.org/packages/a5/62/bbd2be0e7943ec8504b517e62bab011b4946e1258842bc159e5dfde15b96/html5lib-1.0.1-py2.py3-none-any.whl (117kB)\u001b[0m\n",
      "\u001b[34mRequirement already satisfied, skipping upgrade: python-dateutil>=2.5.0 in /usr/local/lib/python3.5/dist-packages (from pandas->-r requirements.txt (line 1)) (2.7.5)\u001b[0m\n",
      "\u001b[34mCollecting pytz>=2011k (from pandas->-r requirements.txt (line 1))\n",
      "  Downloading https://files.pythonhosted.org/packages/e7/f9/f0b53f88060247251bf481fa6ea62cd0d25bf1b11a87888e53ce5b7c8ad2/pytz-2019.3-py2.py3-none-any.whl (509kB)\u001b[0m\n",
      "\u001b[34mRequirement already satisfied, skipping upgrade: six in /usr/local/lib/python3.5/dist-packages (from nltk->-r requirements.txt (line 3)) (1.11.0)\u001b[0m\n",
      "\u001b[34mCollecting soupsieve>=1.2 (from beautifulsoup4->-r requirements.txt (line 4))\n",
      "  Downloading https://files.pythonhosted.org/packages/81/94/03c0f04471fc245d08d0a99f7946ac228ca98da4fa75796c507f61e688c2/soupsieve-1.9.5-py2.py3-none-any.whl\u001b[0m\n",
      "\u001b[34mCollecting webencodings (from html5lib->-r requirements.txt (line 5))\n",
      "  Downloading https://files.pythonhosted.org/packages/f4/24/2a3e3df732393fed8b3ebf2ec078f05546de641fe1b667ee316ec1dcf3b7/webencodings-0.5.1-py2.py3-none-any.whl\u001b[0m\n",
      "\u001b[34mBuilding wheels for collected packages: nltk, train\n",
      "  Running setup.py bdist_wheel for nltk: started\n",
      "  Running setup.py bdist_wheel for nltk: finished with status 'done'\n",
      "  Stored in directory: /root/.cache/pip/wheels/96/86/f6/68ab24c23f207c0077381a5e3904b2815136b879538a24b483\u001b[0m\n",
      "\u001b[34m  Running setup.py bdist_wheel for train: started\n",
      "  Running setup.py bdist_wheel for train: finished with status 'done'\n",
      "  Stored in directory: /tmp/pip-ephem-wheel-cache-4rvc_im9/wheels/35/24/16/37574d11bf9bde50616c67372a334f94fa8356bc7164af8ca3\u001b[0m\n",
      "\u001b[34mSuccessfully built nltk train\u001b[0m\n",
      "\u001b[34mInstalling collected packages: pytz, numpy, pandas, nltk, soupsieve, beautifulsoup4, webencodings, html5lib, train\n",
      "  Found existing installation: numpy 1.15.4\n",
      "    Uninstalling numpy-1.15.4:\u001b[0m\n",
      "\u001b[34m      Successfully uninstalled numpy-1.15.4\u001b[0m\n",
      "\u001b[34mSuccessfully installed beautifulsoup4-4.8.1 html5lib-1.0.1 nltk-3.4.5 numpy-1.17.4 pandas-0.24.2 pytz-2019.3 soupsieve-1.9.5 train-1.0.0 webencodings-0.5.1\u001b[0m\n",
      "\u001b[34mYou are using pip version 18.1, however version 19.3.1 is available.\u001b[0m\n",
      "\u001b[34mYou should consider upgrading via the 'pip install --upgrade pip' command.\u001b[0m\n",
      "\u001b[34m2019-12-07 21:33:21,345 sagemaker-containers INFO     Invoking user script\n",
      "\u001b[0m\n",
      "\u001b[34mTraining Env:\n",
      "\u001b[0m\n",
      "\u001b[34m{\n",
      "    \"resource_config\": {\n",
      "        \"network_interface_name\": \"eth0\",\n",
      "        \"current_host\": \"algo-1\",\n",
      "        \"hosts\": [\n",
      "            \"algo-1\"\n",
      "        ]\n",
      "    },\n",
      "    \"num_gpus\": 1,\n",
      "    \"current_host\": \"algo-1\",\n",
      "    \"output_dir\": \"/opt/ml/output\",\n",
      "    \"hyperparameters\": {\n",
      "        \"epochs\": 10,\n",
      "        \"hidden_dim\": 200\n",
      "    },\n",
      "    \"channel_input_dirs\": {\n",
      "        \"training\": \"/opt/ml/input/data/training\"\n",
      "    },\n",
      "    \"user_entry_point\": \"train.py\",\n",
      "    \"framework_module\": \"sagemaker_pytorch_container.training:main\",\n",
      "    \"input_data_config\": {\n",
      "        \"training\": {\n",
      "            \"RecordWrapperType\": \"None\",\n",
      "            \"TrainingInputMode\": \"File\",\n",
      "            \"S3DistributionType\": \"FullyReplicated\"\n",
      "        }\n",
      "    },\n",
      "    \"network_interface_name\": \"eth0\",\n",
      "    \"input_config_dir\": \"/opt/ml/input/config\",\n",
      "    \"model_dir\": \"/opt/ml/model\",\n",
      "    \"log_level\": 20,\n",
      "    \"additional_framework_parameters\": {},\n",
      "    \"input_dir\": \"/opt/ml/input\",\n",
      "    \"hosts\": [\n",
      "        \"algo-1\"\n",
      "    ],\n",
      "    \"output_intermediate_dir\": \"/opt/ml/output/intermediate\",\n",
      "    \"job_name\": \"sagemaker-pytorch-2019-12-07-21-29-45-982\",\n",
      "    \"module_dir\": \"s3://sagemaker-us-west-2-493827445075/sagemaker-pytorch-2019-12-07-21-29-45-982/source/sourcedir.tar.gz\",\n",
      "    \"num_cpus\": 4,\n",
      "    \"output_data_dir\": \"/opt/ml/output/data\",\n",
      "    \"module_name\": \"train\"\u001b[0m\n",
      "\u001b[34m}\n",
      "\u001b[0m\n",
      "\u001b[34mEnvironment variables:\n",
      "\u001b[0m\n",
      "\u001b[34mSM_OUTPUT_DATA_DIR=/opt/ml/output/data\u001b[0m\n",
      "\u001b[34mSM_HP_EPOCHS=10\u001b[0m\n",
      "\u001b[34mSM_USER_ENTRY_POINT=train.py\u001b[0m\n",
      "\u001b[34mSM_CURRENT_HOST=algo-1\u001b[0m\n",
      "\u001b[34mSM_RESOURCE_CONFIG={\"current_host\":\"algo-1\",\"hosts\":[\"algo-1\"],\"network_interface_name\":\"eth0\"}\u001b[0m\n",
      "\u001b[34mSM_CHANNEL_TRAINING=/opt/ml/input/data/training\u001b[0m\n",
      "\u001b[34mSM_NUM_GPUS=1\u001b[0m\n",
      "\u001b[34mPYTHONPATH=/usr/local/bin:/usr/lib/python35.zip:/usr/lib/python3.5:/usr/lib/python3.5/plat-x86_64-linux-gnu:/usr/lib/python3.5/lib-dynload:/usr/local/lib/python3.5/dist-packages:/usr/lib/python3/dist-packages\u001b[0m\n",
      "\u001b[34mSM_NETWORK_INTERFACE_NAME=eth0\u001b[0m\n",
      "\u001b[34mSM_MODEL_DIR=/opt/ml/model\u001b[0m\n",
      "\u001b[34mSM_INPUT_DATA_CONFIG={\"training\":{\"RecordWrapperType\":\"None\",\"S3DistributionType\":\"FullyReplicated\",\"TrainingInputMode\":\"File\"}}\u001b[0m\n",
      "\u001b[34mSM_INPUT_DIR=/opt/ml/input\u001b[0m\n",
      "\u001b[34mSM_LOG_LEVEL=20\u001b[0m\n",
      "\u001b[34mSM_HP_HIDDEN_DIM=200\u001b[0m\n",
      "\u001b[34mSM_OUTPUT_INTERMEDIATE_DIR=/opt/ml/output/intermediate\u001b[0m\n",
      "\u001b[34mSM_FRAMEWORK_MODULE=sagemaker_pytorch_container.training:main\u001b[0m\n",
      "\u001b[34mSM_NUM_CPUS=4\u001b[0m\n",
      "\u001b[34mSM_INPUT_CONFIG_DIR=/opt/ml/input/config\u001b[0m\n",
      "\u001b[34mSM_MODULE_DIR=s3://sagemaker-us-west-2-493827445075/sagemaker-pytorch-2019-12-07-21-29-45-982/source/sourcedir.tar.gz\u001b[0m\n",
      "\u001b[34mSM_TRAINING_ENV={\"additional_framework_parameters\":{},\"channel_input_dirs\":{\"training\":\"/opt/ml/input/data/training\"},\"current_host\":\"algo-1\",\"framework_module\":\"sagemaker_pytorch_container.training:main\",\"hosts\":[\"algo-1\"],\"hyperparameters\":{\"epochs\":10,\"hidden_dim\":200},\"input_config_dir\":\"/opt/ml/input/config\",\"input_data_config\":{\"training\":{\"RecordWrapperType\":\"None\",\"S3DistributionType\":\"FullyReplicated\",\"TrainingInputMode\":\"File\"}},\"input_dir\":\"/opt/ml/input\",\"job_name\":\"sagemaker-pytorch-2019-12-07-21-29-45-982\",\"log_level\":20,\"model_dir\":\"/opt/ml/model\",\"module_dir\":\"s3://sagemaker-us-west-2-493827445075/sagemaker-pytorch-2019-12-07-21-29-45-982/source/sourcedir.tar.gz\",\"module_name\":\"train\",\"network_interface_name\":\"eth0\",\"num_cpus\":4,\"num_gpus\":1,\"output_data_dir\":\"/opt/ml/output/data\",\"output_dir\":\"/opt/ml/output\",\"output_intermediate_dir\":\"/opt/ml/output/intermediate\",\"resource_config\":{\"current_host\":\"algo-1\",\"hosts\":[\"algo-1\"],\"network_interface_name\":\"eth0\"},\"user_entry_point\":\"train.py\"}\u001b[0m\n",
      "\u001b[34mSM_OUTPUT_DIR=/opt/ml/output\u001b[0m\n",
      "\u001b[34mSM_CHANNELS=[\"training\"]\u001b[0m\n",
      "\u001b[34mSM_USER_ARGS=[\"--epochs\",\"10\",\"--hidden_dim\",\"200\"]\u001b[0m\n",
      "\u001b[34mSM_HOSTS=[\"algo-1\"]\u001b[0m\n",
      "\u001b[34mSM_MODULE_NAME=train\u001b[0m\n",
      "\u001b[34mSM_FRAMEWORK_PARAMS={}\u001b[0m\n",
      "\u001b[34mSM_HPS={\"epochs\":10,\"hidden_dim\":200}\n",
      "\u001b[0m\n",
      "\u001b[34mInvoking script with the following command:\n",
      "\u001b[0m\n",
      "\u001b[34m/usr/bin/python -m train --epochs 10 --hidden_dim 200\n",
      "\n",
      "\u001b[0m\n",
      "\u001b[34mUsing device cuda.\u001b[0m\n",
      "\u001b[34mGet train data loader.\u001b[0m\n"
     ]
    },
    {
     "name": "stdout",
     "output_type": "stream",
     "text": [
      "\u001b[34mModel loaded with embedding_dim 32, hidden_dim 200, vocab_size 5000.\u001b[0m\n",
      "\u001b[34mEpoch: 1, BCELoss: 0.6713642198212293\u001b[0m\n",
      "\u001b[34mEpoch: 2, BCELoss: 0.6016044178787543\u001b[0m\n",
      "\u001b[34mEpoch: 3, BCELoss: 0.49085118393508753\u001b[0m\n",
      "\u001b[34mEpoch: 4, BCELoss: 0.42194200535209814\u001b[0m\n",
      "\u001b[34mEpoch: 5, BCELoss: 0.40466709161291314\u001b[0m\n",
      "\u001b[34mEpoch: 6, BCELoss: 0.3462121419760646\u001b[0m\n",
      "\u001b[34mEpoch: 7, BCELoss: 0.33321229535706187\u001b[0m\n",
      "\u001b[34mEpoch: 8, BCELoss: 0.29669971368750747\u001b[0m\n",
      "\u001b[34mEpoch: 9, BCELoss: 0.2953603550487635\u001b[0m\n",
      "\u001b[34mEpoch: 10, BCELoss: 0.27939947040713564\u001b[0m\n",
      "\u001b[34m2019-12-07 21:36:26,218 sagemaker-containers INFO     Reporting training SUCCESS\u001b[0m\n",
      "\n",
      "2019-12-07 21:36:37 Uploading - Uploading generated training model\n",
      "2019-12-07 21:36:37 Completed - Training job completed\n",
      "Training seconds: 288\n",
      "Billable seconds: 288\n"
     ]
    }
   ],
   "source": [
    "estimator.fit({'training': input_data})"
   ]
  },
  {
   "cell_type": "markdown",
   "metadata": {},
   "source": [
    "## Step 5: Testing the model\n",
    "\n",
    "As mentioned at the top of this notebook, we will be testing this model by first deploying it and then sending the testing data to the deployed endpoint. We will do this so that we can make sure that the deployed model is working correctly.\n",
    "\n",
    "## Step 6: Deploy the model for testing\n",
    "\n",
    "Now that we have trained our model, we would like to test it to see how it performs. Currently our model takes input of the form `review_length, review[500]` where `review[500]` is a sequence of `500` integers which describe the words present in the review, encoded using `word_dict`. Fortunately for us, SageMaker provides built-in inference code for models with simple inputs such as this.\n",
    "\n",
    "There is one thing that we need to provide, however, and that is a function which loads the saved model. This function must be called `model_fn()` and takes as its only parameter a path to the directory where the model artifacts are stored. This function must also be present in the python file which we specified as the entry point. In our case the model loading function has been provided and so no changes need to be made.\n",
    "\n",
    "**NOTE**: When the built-in inference code is run it must import the `model_fn()` method from the `train.py` file. This is why the training code is wrapped in a main guard ( ie, `if __name__ == '__main__':` )\n",
    "\n",
    "Since we don't need to change anything in the code that was uploaded during training, we can simply deploy the current model as-is.\n",
    "\n",
    "**NOTE:** When deploying a model you are asking SageMaker to launch an compute instance that will wait for data to be sent to it. As a result, this compute instance will continue to run until *you* shut it down. This is important to know since the cost of a deployed endpoint depends on how long it has been running for.\n",
    "\n",
    "In other words **If you are no longer using a deployed endpoint, shut it down!**\n",
    "\n",
    "**TODO:** Deploy the trained model."
   ]
  },
  {
   "cell_type": "code",
   "execution_count": 31,
   "metadata": {},
   "outputs": [
    {
     "name": "stdout",
     "output_type": "stream",
     "text": [
      "--------------------------------------------------------------------------------------------------!"
     ]
    }
   ],
   "source": [
    "# TODO: Deploy the trained model\n",
    "predictor = estimator.deploy(initial_instance_count=1, instance_type='ml.m4.xlarge')"
   ]
  },
  {
   "cell_type": "markdown",
   "metadata": {},
   "source": [
    "## Step 7 - Use the model for testing\n",
    "\n",
    "Once deployed, we can read in the test data and send it off to our deployed model to get some results. Once we collect all of the results we can determine how accurate our model is."
   ]
  },
  {
   "cell_type": "code",
   "execution_count": 32,
   "metadata": {},
   "outputs": [],
   "source": [
    "test_X = pd.concat([pd.DataFrame(test_X_len), pd.DataFrame(test_X)], axis=1)"
   ]
  },
  {
   "cell_type": "code",
   "execution_count": 33,
   "metadata": {},
   "outputs": [],
   "source": [
    "# We split the data into chunks and send each chunk seperately, accumulating the results.\n",
    "\n",
    "def predict(data, rows=512):\n",
    "    split_array = np.array_split(data, int(data.shape[0] / float(rows) + 1))\n",
    "    predictions = np.array([])\n",
    "    for array in split_array:\n",
    "        predictions = np.append(predictions, predictor.predict(array))\n",
    "    \n",
    "    return predictions"
   ]
  },
  {
   "cell_type": "code",
   "execution_count": 34,
   "metadata": {},
   "outputs": [],
   "source": [
    "predictions = predict(test_X.values)\n",
    "predictions = [round(num) for num in predictions]"
   ]
  },
  {
   "cell_type": "code",
   "execution_count": 35,
   "metadata": {},
   "outputs": [
    {
     "data": {
      "text/plain": [
       "0.842"
      ]
     },
     "execution_count": 35,
     "metadata": {},
     "output_type": "execute_result"
    }
   ],
   "source": [
    "from sklearn.metrics import accuracy_score\n",
    "accuracy_score(test_y, predictions)"
   ]
  },
  {
   "cell_type": "markdown",
   "metadata": {},
   "source": [
    "**Question:** How does this model compare to the XGBoost model you created earlier? Why might these two models perform differently on this dataset? Which do *you* think is better for sentiment analysis?"
   ]
  },
  {
   "cell_type": "markdown",
   "metadata": {},
   "source": [
    "**Answer:**\n",
    "The RNN model did better than the XGBoost model.\n",
    "\n",
    "RNN is usually better at extrapolating information from sequantial inputs, such as sentences. It can use the previous word in a sentence to evaluate the meaning of the next one and better predict it's meaning.\n",
    "\n",
    "XGBoost on the otherhand simply extrapolates data from the dataset as a whole, ignoring the ordering of the words in our sentence."
   ]
  },
  {
   "cell_type": "markdown",
   "metadata": {},
   "source": [
    "### (TODO) More testing\n",
    "\n",
    "We now have a trained model which has been deployed and which we can send processed reviews to and which returns the predicted sentiment. However, ultimately we would like to be able to send our model an unprocessed review. That is, we would like to send the review itself as a string. For example, suppose we wish to send the following review to our model."
   ]
  },
  {
   "cell_type": "code",
   "execution_count": 36,
   "metadata": {},
   "outputs": [],
   "source": [
    "test_review = 'The simplest pleasures in life are the best, and this film is one of them. Combining a rather basic storyline of love and adventure this movie transcends the usual weekend fair with wit and unmitigated charm.'"
   ]
  },
  {
   "cell_type": "markdown",
   "metadata": {},
   "source": [
    "The question we now need to answer is, how do we send this review to our model?\n",
    "\n",
    "Recall in the first section of this notebook we did a bunch of data processing to the IMDb dataset. In particular, we did two specific things to the provided reviews.\n",
    " - Removed any html tags and stemmed the input\n",
    " - Encoded the review as a sequence of integers using `word_dict`\n",
    " \n",
    "In order process the review we will need to repeat these two steps.\n",
    "\n",
    "**TODO**: Using the `review_to_words` and `convert_and_pad` methods from section one, convert `test_review` into a numpy array `test_data` suitable to send to our model. Remember that our model expects input of the form `review_length, review[500]`."
   ]
  },
  {
   "cell_type": "code",
   "execution_count": 87,
   "metadata": {},
   "outputs": [],
   "source": [
    "# TODO: Convert test_review into a form usable by the model and save the results in test_data\n",
    "words_data = review_to_words(test_review)\n",
    "test_data, test_data_len = convert_and_pad(word_dict, words_data)\n",
    "test_data.insert(0, test_data_len)"
   ]
  },
  {
   "cell_type": "markdown",
   "metadata": {},
   "source": [
    "Now that we have processed the review, we can send the resulting array to our model to predict the sentiment of the review."
   ]
  },
  {
   "cell_type": "code",
   "execution_count": 98,
   "metadata": {},
   "outputs": [
    {
     "data": {
      "text/plain": [
       "array(0.8942572, dtype=float32)"
      ]
     },
     "execution_count": 98,
     "metadata": {},
     "output_type": "execute_result"
    }
   ],
   "source": [
    "predictor.predict([test_data])"
   ]
  },
  {
   "cell_type": "markdown",
   "metadata": {},
   "source": [
    "Since the return value of our model is close to `1`, we can be certain that the review we submitted is positive."
   ]
  },
  {
   "cell_type": "markdown",
   "metadata": {},
   "source": [
    "### Delete the endpoint\n",
    "\n",
    "Of course, just like in the XGBoost notebook, once we've deployed an endpoint it continues to run until we tell it to shut down. Since we are done using our endpoint for now, we can delete it."
   ]
  },
  {
   "cell_type": "code",
   "execution_count": 99,
   "metadata": {},
   "outputs": [],
   "source": [
    "estimator.delete_endpoint()"
   ]
  },
  {
   "cell_type": "markdown",
   "metadata": {},
   "source": [
    "## Step 6 (again) - Deploy the model for the web app\n",
    "\n",
    "Now that we know that our model is working, it's time to create some custom inference code so that we can send the model a review which has not been processed and have it determine the sentiment of the review.\n",
    "\n",
    "As we saw above, by default the estimator which we created, when deployed, will use the entry script and directory which we provided when creating the model. However, since we now wish to accept a string as input and our model expects a processed review, we need to write some custom inference code.\n",
    "\n",
    "We will store the code that we write in the `serve` directory. Provided in this directory is the `model.py` file that we used to construct our model, a `utils.py` file which contains the `review_to_words` and `convert_and_pad` pre-processing functions which we used during the initial data processing, and `predict.py`, the file which will contain our custom inference code. Note also that `requirements.txt` is present which will tell SageMaker what Python libraries are required by our custom inference code.\n",
    "\n",
    "When deploying a PyTorch model in SageMaker, you are expected to provide four functions which the SageMaker inference container will use.\n",
    " - `model_fn`: This function is the same function that we used in the training script and it tells SageMaker how to load our model.\n",
    " - `input_fn`: This function receives the raw serialized input that has been sent to the model's endpoint and its job is to de-serialize and make the input available for the inference code.\n",
    " - `output_fn`: This function takes the output of the inference code and its job is to serialize this output and return it to the caller of the model's endpoint.\n",
    " - `predict_fn`: The heart of the inference script, this is where the actual prediction is done and is the function which you will need to complete.\n",
    "\n",
    "For the simple website that we are constructing during this project, the `input_fn` and `output_fn` methods are relatively straightforward. We only require being able to accept a string as input and we expect to return a single value as output. You might imagine though that in a more complex application the input or output may be image data or some other binary data which would require some effort to serialize.\n",
    "\n",
    "### (TODO) Writing inference code\n",
    "\n",
    "Before writing our custom inference code, we will begin by taking a look at the code which has been provided."
   ]
  },
  {
   "cell_type": "code",
   "execution_count": 100,
   "metadata": {},
   "outputs": [
    {
     "name": "stdout",
     "output_type": "stream",
     "text": [
      "\u001b[34mimport\u001b[39;49;00m \u001b[04m\u001b[36margparse\u001b[39;49;00m\r\n",
      "\u001b[34mimport\u001b[39;49;00m \u001b[04m\u001b[36mjson\u001b[39;49;00m\r\n",
      "\u001b[34mimport\u001b[39;49;00m \u001b[04m\u001b[36mos\u001b[39;49;00m\r\n",
      "\u001b[34mimport\u001b[39;49;00m \u001b[04m\u001b[36mpickle\u001b[39;49;00m\r\n",
      "\u001b[34mimport\u001b[39;49;00m \u001b[04m\u001b[36msys\u001b[39;49;00m\r\n",
      "\u001b[34mimport\u001b[39;49;00m \u001b[04m\u001b[36msagemaker_containers\u001b[39;49;00m\r\n",
      "\u001b[34mimport\u001b[39;49;00m \u001b[04m\u001b[36mpandas\u001b[39;49;00m \u001b[34mas\u001b[39;49;00m \u001b[04m\u001b[36mpd\u001b[39;49;00m\r\n",
      "\u001b[34mimport\u001b[39;49;00m \u001b[04m\u001b[36mnumpy\u001b[39;49;00m \u001b[34mas\u001b[39;49;00m \u001b[04m\u001b[36mnp\u001b[39;49;00m\r\n",
      "\u001b[34mimport\u001b[39;49;00m \u001b[04m\u001b[36mtorch\u001b[39;49;00m\r\n",
      "\u001b[34mimport\u001b[39;49;00m \u001b[04m\u001b[36mtorch.nn\u001b[39;49;00m \u001b[34mas\u001b[39;49;00m \u001b[04m\u001b[36mnn\u001b[39;49;00m\r\n",
      "\u001b[34mimport\u001b[39;49;00m \u001b[04m\u001b[36mtorch.optim\u001b[39;49;00m \u001b[34mas\u001b[39;49;00m \u001b[04m\u001b[36moptim\u001b[39;49;00m\r\n",
      "\u001b[34mimport\u001b[39;49;00m \u001b[04m\u001b[36mtorch.utils.data\u001b[39;49;00m\r\n",
      "\r\n",
      "\u001b[34mfrom\u001b[39;49;00m \u001b[04m\u001b[36mmodel\u001b[39;49;00m \u001b[34mimport\u001b[39;49;00m LSTMClassifier\r\n",
      "\r\n",
      "\u001b[34mfrom\u001b[39;49;00m \u001b[04m\u001b[36mutils\u001b[39;49;00m \u001b[34mimport\u001b[39;49;00m review_to_words, convert_and_pad\r\n",
      "\r\n",
      "\u001b[34mdef\u001b[39;49;00m \u001b[32mmodel_fn\u001b[39;49;00m(model_dir):\r\n",
      "    \u001b[33m\"\"\"Load the PyTorch model from the `model_dir` directory.\"\"\"\u001b[39;49;00m\r\n",
      "    \u001b[34mprint\u001b[39;49;00m(\u001b[33m\"\u001b[39;49;00m\u001b[33mLoading model.\u001b[39;49;00m\u001b[33m\"\u001b[39;49;00m)\r\n",
      "\r\n",
      "    \u001b[37m# First, load the parameters used to create the model.\u001b[39;49;00m\r\n",
      "    model_info = {}\r\n",
      "    model_info_path = os.path.join(model_dir, \u001b[33m'\u001b[39;49;00m\u001b[33mmodel_info.pth\u001b[39;49;00m\u001b[33m'\u001b[39;49;00m)\r\n",
      "    \u001b[34mwith\u001b[39;49;00m \u001b[36mopen\u001b[39;49;00m(model_info_path, \u001b[33m'\u001b[39;49;00m\u001b[33mrb\u001b[39;49;00m\u001b[33m'\u001b[39;49;00m) \u001b[34mas\u001b[39;49;00m f:\r\n",
      "        model_info = torch.load(f)\r\n",
      "\r\n",
      "    \u001b[34mprint\u001b[39;49;00m(\u001b[33m\"\u001b[39;49;00m\u001b[33mmodel_info: {}\u001b[39;49;00m\u001b[33m\"\u001b[39;49;00m.format(model_info))\r\n",
      "\r\n",
      "    \u001b[37m# Determine the device and construct the model.\u001b[39;49;00m\r\n",
      "    device = torch.device(\u001b[33m\"\u001b[39;49;00m\u001b[33mcuda\u001b[39;49;00m\u001b[33m\"\u001b[39;49;00m \u001b[34mif\u001b[39;49;00m torch.cuda.is_available() \u001b[34melse\u001b[39;49;00m \u001b[33m\"\u001b[39;49;00m\u001b[33mcpu\u001b[39;49;00m\u001b[33m\"\u001b[39;49;00m)\r\n",
      "    model = LSTMClassifier(model_info[\u001b[33m'\u001b[39;49;00m\u001b[33membedding_dim\u001b[39;49;00m\u001b[33m'\u001b[39;49;00m], model_info[\u001b[33m'\u001b[39;49;00m\u001b[33mhidden_dim\u001b[39;49;00m\u001b[33m'\u001b[39;49;00m], model_info[\u001b[33m'\u001b[39;49;00m\u001b[33mvocab_size\u001b[39;49;00m\u001b[33m'\u001b[39;49;00m])\r\n",
      "\r\n",
      "    \u001b[37m# Load the store model parameters.\u001b[39;49;00m\r\n",
      "    model_path = os.path.join(model_dir, \u001b[33m'\u001b[39;49;00m\u001b[33mmodel.pth\u001b[39;49;00m\u001b[33m'\u001b[39;49;00m)\r\n",
      "    \u001b[34mwith\u001b[39;49;00m \u001b[36mopen\u001b[39;49;00m(model_path, \u001b[33m'\u001b[39;49;00m\u001b[33mrb\u001b[39;49;00m\u001b[33m'\u001b[39;49;00m) \u001b[34mas\u001b[39;49;00m f:\r\n",
      "        model.load_state_dict(torch.load(f))\r\n",
      "\r\n",
      "    \u001b[37m# Load the saved word_dict.\u001b[39;49;00m\r\n",
      "    word_dict_path = os.path.join(model_dir, \u001b[33m'\u001b[39;49;00m\u001b[33mword_dict.pkl\u001b[39;49;00m\u001b[33m'\u001b[39;49;00m)\r\n",
      "    \u001b[34mwith\u001b[39;49;00m \u001b[36mopen\u001b[39;49;00m(word_dict_path, \u001b[33m'\u001b[39;49;00m\u001b[33mrb\u001b[39;49;00m\u001b[33m'\u001b[39;49;00m) \u001b[34mas\u001b[39;49;00m f:\r\n",
      "        model.word_dict = pickle.load(f)\r\n",
      "\r\n",
      "    model.to(device).eval()\r\n",
      "\r\n",
      "    \u001b[34mprint\u001b[39;49;00m(\u001b[33m\"\u001b[39;49;00m\u001b[33mDone loading model.\u001b[39;49;00m\u001b[33m\"\u001b[39;49;00m)\r\n",
      "    \u001b[34mreturn\u001b[39;49;00m model\r\n",
      "\r\n",
      "\u001b[34mdef\u001b[39;49;00m \u001b[32minput_fn\u001b[39;49;00m(serialized_input_data, content_type):\r\n",
      "    \u001b[34mprint\u001b[39;49;00m(\u001b[33m'\u001b[39;49;00m\u001b[33mDeserializing the input data.\u001b[39;49;00m\u001b[33m'\u001b[39;49;00m)\r\n",
      "    \u001b[34mif\u001b[39;49;00m content_type == \u001b[33m'\u001b[39;49;00m\u001b[33mtext/plain\u001b[39;49;00m\u001b[33m'\u001b[39;49;00m:\r\n",
      "        data = serialized_input_data.decode(\u001b[33m'\u001b[39;49;00m\u001b[33mutf-8\u001b[39;49;00m\u001b[33m'\u001b[39;49;00m)\r\n",
      "        \u001b[34mreturn\u001b[39;49;00m data\r\n",
      "    \u001b[34mraise\u001b[39;49;00m \u001b[36mException\u001b[39;49;00m(\u001b[33m'\u001b[39;49;00m\u001b[33mRequested unsupported ContentType in content_type: \u001b[39;49;00m\u001b[33m'\u001b[39;49;00m + content_type)\r\n",
      "\r\n",
      "\u001b[34mdef\u001b[39;49;00m \u001b[32moutput_fn\u001b[39;49;00m(prediction_output, accept):\r\n",
      "    \u001b[34mprint\u001b[39;49;00m(\u001b[33m'\u001b[39;49;00m\u001b[33mSerializing the generated output.\u001b[39;49;00m\u001b[33m'\u001b[39;49;00m)\r\n",
      "    \u001b[34mreturn\u001b[39;49;00m \u001b[36mstr\u001b[39;49;00m(prediction_output)\r\n",
      "\r\n",
      "\u001b[34mdef\u001b[39;49;00m \u001b[32mpredict_fn\u001b[39;49;00m(input_data, model):\r\n",
      "    \u001b[34mprint\u001b[39;49;00m(\u001b[33m'\u001b[39;49;00m\u001b[33mInferring sentiment of input data.\u001b[39;49;00m\u001b[33m'\u001b[39;49;00m)\r\n",
      "\r\n",
      "    device = torch.device(\u001b[33m\"\u001b[39;49;00m\u001b[33mcuda\u001b[39;49;00m\u001b[33m\"\u001b[39;49;00m \u001b[34mif\u001b[39;49;00m torch.cuda.is_available() \u001b[34melse\u001b[39;49;00m \u001b[33m\"\u001b[39;49;00m\u001b[33mcpu\u001b[39;49;00m\u001b[33m\"\u001b[39;49;00m)\r\n",
      "    \r\n",
      "    \u001b[34mif\u001b[39;49;00m model.word_dict \u001b[35mis\u001b[39;49;00m \u001b[36mNone\u001b[39;49;00m:\r\n",
      "        \u001b[34mraise\u001b[39;49;00m \u001b[36mException\u001b[39;49;00m(\u001b[33m'\u001b[39;49;00m\u001b[33mModel has not been loaded properly, no word_dict.\u001b[39;49;00m\u001b[33m'\u001b[39;49;00m)\r\n",
      "    \r\n",
      "    \u001b[37m# TODO: Process input_data so that it is ready to be sent to our model.\u001b[39;49;00m\r\n",
      "    \u001b[37m#       You should produce two variables:\u001b[39;49;00m\r\n",
      "    \u001b[37m#         data_X   - A sequence of length 500 which represents the converted review\u001b[39;49;00m\r\n",
      "    \u001b[37m#         data_len - The length of the review\u001b[39;49;00m\r\n",
      "\r\n",
      "    data_X = \u001b[36mNone\u001b[39;49;00m\r\n",
      "    data_len = \u001b[36mNone\u001b[39;49;00m\r\n",
      "\r\n",
      "    \u001b[37m# Using data_X and data_len we construct an appropriate input tensor. Remember\u001b[39;49;00m\r\n",
      "    \u001b[37m# that our model expects input data of the form 'len, review[500]'.\u001b[39;49;00m\r\n",
      "    data_pack = np.hstack((data_len, data_X))\r\n",
      "    data_pack = data_pack.reshape(\u001b[34m1\u001b[39;49;00m, -\u001b[34m1\u001b[39;49;00m)\r\n",
      "    \r\n",
      "    data = torch.from_numpy(data_pack)\r\n",
      "    data = data.to(device)\r\n",
      "\r\n",
      "    \u001b[37m# Make sure to put the model into evaluation mode\u001b[39;49;00m\r\n",
      "    model.eval()\r\n",
      "\r\n",
      "    \u001b[37m# TODO: Compute the result of applying the model to the input data. The variable `result` should\u001b[39;49;00m\r\n",
      "    \u001b[37m#       be a numpy array which contains a single integer which is either 1 or 0\u001b[39;49;00m\r\n",
      "\r\n",
      "    result = \u001b[36mNone\u001b[39;49;00m\r\n",
      "\r\n",
      "    \u001b[34mreturn\u001b[39;49;00m result\r\n"
     ]
    }
   ],
   "source": [
    "!pygmentize serve/predict.py"
   ]
  },
  {
   "cell_type": "markdown",
   "metadata": {},
   "source": [
    "As mentioned earlier, the `model_fn` method is the same as the one provided in the training code and the `input_fn` and `output_fn` methods are very simple and your task will be to complete the `predict_fn` method. Make sure that you save the completed file as `predict.py` in the `serve` directory.\n",
    "\n",
    "**TODO**: Complete the `predict_fn()` method in the `serve/predict.py` file."
   ]
  },
  {
   "cell_type": "markdown",
   "metadata": {},
   "source": [
    "### Deploying the model\n",
    "\n",
    "Now that the custom inference code has been written, we will create and deploy our model. To begin with, we need to construct a new PyTorchModel object which points to the model artifacts created during training and also points to the inference code that we wish to use. Then we can call the deploy method to launch the deployment container.\n",
    "\n",
    "**NOTE**: The default behaviour for a deployed PyTorch model is to assume that any input passed to the predictor is a `numpy` array. In our case we want to send a string so we need to construct a simple wrapper around the `RealTimePredictor` class to accomodate simple strings. In a more complicated situation you may want to provide a serialization object, for example if you wanted to sent image data."
   ]
  },
  {
   "cell_type": "code",
   "execution_count": 145,
   "metadata": {},
   "outputs": [
    {
     "name": "stdout",
     "output_type": "stream",
     "text": [
      "--------------------------------------------------------------------------------------!"
     ]
    }
   ],
   "source": [
    "from sagemaker.predictor import RealTimePredictor\n",
    "from sagemaker.pytorch import PyTorchModel\n",
    "\n",
    "class StringPredictor(RealTimePredictor):\n",
    "    def __init__(self, endpoint_name, sagemaker_session):\n",
    "        super(StringPredictor, self).__init__(endpoint_name, sagemaker_session, content_type='text/plain')\n",
    "\n",
    "model = PyTorchModel(model_data=estimator.model_data,\n",
    "                     role = role,\n",
    "                     framework_version='0.4.0',\n",
    "                     entry_point='predict.py',\n",
    "                     source_dir='serve',\n",
    "                     predictor_cls=StringPredictor)\n",
    "predictor = model.deploy(initial_instance_count=1, instance_type='ml.m4.xlarge')"
   ]
  },
  {
   "cell_type": "code",
   "execution_count": 146,
   "metadata": {},
   "outputs": [],
   "source": [
    "# predictor.delete_endpoint()"
   ]
  },
  {
   "cell_type": "markdown",
   "metadata": {},
   "source": [
    "### Testing the model\n",
    "\n",
    "Now that we have deployed our model with the custom inference code, we should test to see if everything is working. Here we test our model by loading the first `250` positive and negative reviews and send them to the endpoint, then collect the results. The reason for only sending some of the data is that the amount of time it takes for our model to process the input and then perform inference is quite long and so testing the entire data set would be prohibitive."
   ]
  },
  {
   "cell_type": "code",
   "execution_count": 147,
   "metadata": {},
   "outputs": [],
   "source": [
    "import glob\n",
    "\n",
    "def test_reviews(data_dir='../data/aclImdb', stop=250):\n",
    "    \n",
    "    results = []\n",
    "    ground = []\n",
    "    \n",
    "    # We make sure to test both positive and negative reviews    \n",
    "    for sentiment in ['pos', 'neg']:\n",
    "        \n",
    "        path = os.path.join(data_dir, 'test', sentiment, '*.txt')\n",
    "        files = glob.glob(path)\n",
    "        \n",
    "        files_read = 0\n",
    "        \n",
    "        print('Starting ', sentiment, ' files')\n",
    "        \n",
    "        # Iterate through the files and send them to the predictor\n",
    "        for f in files:\n",
    "            with open(f) as review:\n",
    "                # First, we store the ground truth (was the review positive or negative)\n",
    "                if sentiment == 'pos':\n",
    "                    ground.append(1)\n",
    "                else:\n",
    "                    ground.append(0)\n",
    "                # Read in the review and convert to 'utf-8' for transmission via HTTP\n",
    "                review_input = review.read().encode('utf-8')\n",
    "                # Send the review to the predictor and store the results\n",
    "                result = predictor.predict(review_input)\n",
    "                results.append(int(result))\n",
    "                \n",
    "            # Sending reviews to our endpoint one at a time takes a while so we\n",
    "            # only send a small number of reviews\n",
    "            files_read += 1\n",
    "            if files_read == stop:\n",
    "                break\n",
    "            \n",
    "    return ground, results"
   ]
  },
  {
   "cell_type": "code",
   "execution_count": 148,
   "metadata": {},
   "outputs": [
    {
     "name": "stdout",
     "output_type": "stream",
     "text": [
      "Starting  pos  files\n",
      "Starting  neg  files\n"
     ]
    }
   ],
   "source": [
    "ground, results = test_reviews()"
   ]
  },
  {
   "cell_type": "code",
   "execution_count": 149,
   "metadata": {},
   "outputs": [
    {
     "data": {
      "text/plain": [
       "0.836"
      ]
     },
     "execution_count": 149,
     "metadata": {},
     "output_type": "execute_result"
    }
   ],
   "source": [
    "from sklearn.metrics import accuracy_score\n",
    "accuracy_score(ground, results)"
   ]
  },
  {
   "cell_type": "markdown",
   "metadata": {},
   "source": [
    "As an additional test, we can try sending the `test_review` that we looked at earlier."
   ]
  },
  {
   "cell_type": "code",
   "execution_count": 150,
   "metadata": {},
   "outputs": [
    {
     "data": {
      "text/plain": [
       "b'1'"
      ]
     },
     "execution_count": 150,
     "metadata": {},
     "output_type": "execute_result"
    }
   ],
   "source": [
    "predictor.predict(test_review)"
   ]
  },
  {
   "cell_type": "markdown",
   "metadata": {},
   "source": [
    "Now that we know our endpoint is working as expected, we can set up the web page that will interact with it. If you don't have time to finish the project now, make sure to skip down to the end of this notebook and shut down your endpoint. You can deploy it again when you come back."
   ]
  },
  {
   "cell_type": "markdown",
   "metadata": {},
   "source": [
    "## Step 7 (again): Use the model for the web app\n",
    "\n",
    "> **TODO:** This entire section and the next contain tasks for you to complete, mostly using the AWS console.\n",
    "\n",
    "So far we have been accessing our model endpoint by constructing a predictor object which uses the endpoint and then just using the predictor object to perform inference. What if we wanted to create a web app which accessed our model? The way things are set up currently makes that not possible since in order to access a SageMaker endpoint the app would first have to authenticate with AWS using an IAM role which included access to SageMaker endpoints. However, there is an easier way! We just need to use some additional AWS services.\n",
    "\n",
    "<img src=\"Web App Diagram.svg\">\n",
    "\n",
    "The diagram above gives an overview of how the various services will work together. On the far right is the model which we trained above and which is deployed using SageMaker. On the far left is our web app that collects a user's movie review, sends it off and expects a positive or negative sentiment in return.\n",
    "\n",
    "In the middle is where some of the magic happens. We will construct a Lambda function, which you can think of as a straightforward Python function that can be executed whenever a specified event occurs. We will give this function permission to send and recieve data from a SageMaker endpoint.\n",
    "\n",
    "Lastly, the method we will use to execute the Lambda function is a new endpoint that we will create using API Gateway. This endpoint will be a url that listens for data to be sent to it. Once it gets some data it will pass that data on to the Lambda function and then return whatever the Lambda function returns. Essentially it will act as an interface that lets our web app communicate with the Lambda function.\n",
    "\n",
    "### Setting up a Lambda function\n",
    "\n",
    "The first thing we are going to do is set up a Lambda function. This Lambda function will be executed whenever our public API has data sent to it. When it is executed it will receive the data, perform any sort of processing that is required, send the data (the review) to the SageMaker endpoint we've created and then return the result.\n",
    "\n",
    "#### Part A: Create an IAM Role for the Lambda function\n",
    "\n",
    "Since we want the Lambda function to call a SageMaker endpoint, we need to make sure that it has permission to do so. To do this, we will construct a role that we can later give the Lambda function.\n",
    "\n",
    "Using the AWS Console, navigate to the **IAM** page and click on **Roles**. Then, click on **Create role**. Make sure that the **AWS service** is the type of trusted entity selected and choose **Lambda** as the service that will use this role, then click **Next: Permissions**.\n",
    "\n",
    "In the search box type `sagemaker` and select the check box next to the **AmazonSageMakerFullAccess** policy. Then, click on **Next: Review**.\n",
    "\n",
    "Lastly, give this role a name. Make sure you use a name that you will remember later on, for example `LambdaSageMakerRole`. Then, click on **Create role**.\n",
    "\n",
    "#### Part B: Create a Lambda function\n",
    "\n",
    "Now it is time to actually create the Lambda function.\n",
    "\n",
    "Using the AWS Console, navigate to the AWS Lambda page and click on **Create a function**. When you get to the next page, make sure that **Author from scratch** is selected. Now, name your Lambda function, using a name that you will remember later on, for example `sentiment_analysis_func`. Make sure that the **Python 3.6** runtime is selected and then choose the role that you created in the previous part. Then, click on **Create Function**.\n",
    "\n",
    "On the next page you will see some information about the Lambda function you've just created. If you scroll down you should see an editor in which you can write the code that will be executed when your Lambda function is triggered. In our example, we will use the code below. \n",
    "\n",
    "```python\n",
    "# We need to use the low-level library to interact with SageMaker since the SageMaker API\n",
    "# is not available natively through Lambda.\n",
    "import boto3\n",
    "\n",
    "def lambda_handler(event, context):\n",
    "\n",
    "    # The SageMaker runtime is what allows us to invoke the endpoint that we've created.\n",
    "    runtime = boto3.Session().client('sagemaker-runtime')\n",
    "\n",
    "    # Now we use the SageMaker runtime to invoke our endpoint, sending the review we were given\n",
    "    response = runtime.invoke_endpoint(EndpointName = '**ENDPOINT NAME HERE**',    # The name of the endpoint we created\n",
    "                                       ContentType = 'text/plain',                 # The data format that is expected\n",
    "                                       Body = event['body'])                       # The actual review\n",
    "\n",
    "    # The response is an HTTP response whose body contains the result of our inference\n",
    "    result = response['Body'].read().decode('utf-8')\n",
    "\n",
    "    return {\n",
    "        'statusCode' : 200,\n",
    "        'headers' : { 'Content-Type' : 'text/plain', 'Access-Control-Allow-Origin' : '*' },\n",
    "        'body' : result\n",
    "    }\n",
    "```\n",
    "\n",
    "Once you have copy and pasted the code above into the Lambda code editor, replace the `**ENDPOINT NAME HERE**` portion with the name of the endpoint that we deployed earlier. You can determine the name of the endpoint using the code cell below."
   ]
  },
  {
   "cell_type": "code",
   "execution_count": 151,
   "metadata": {},
   "outputs": [
    {
     "data": {
      "text/plain": [
       "'sagemaker-pytorch-2019-12-08-00-51-06-447'"
      ]
     },
     "execution_count": 151,
     "metadata": {},
     "output_type": "execute_result"
    }
   ],
   "source": [
    "predictor.endpoint"
   ]
  },
  {
   "cell_type": "markdown",
   "metadata": {},
   "source": [
    "Once you have added the endpoint name to the Lambda function, click on **Save**. Your Lambda function is now up and running. Next we need to create a way for our web app to execute the Lambda function.\n",
    "\n",
    "### Setting up API Gateway\n",
    "\n",
    "Now that our Lambda function is set up, it is time to create a new API using API Gateway that will trigger the Lambda function we have just created.\n",
    "\n",
    "Using AWS Console, navigate to **Amazon API Gateway** and then click on **Get started**.\n",
    "\n",
    "On the next page, make sure that **New API** is selected and give the new api a name, for example, `sentiment_analysis_api`. Then, click on **Create API**.\n",
    "\n",
    "Now we have created an API, however it doesn't currently do anything. What we want it to do is to trigger the Lambda function that we created earlier.\n",
    "\n",
    "Select the **Actions** dropdown menu and click **Create Method**. A new blank method will be created, select its dropdown menu and select **POST**, then click on the check mark beside it.\n",
    "\n",
    "For the integration point, make sure that **Lambda Function** is selected and click on the **Use Lambda Proxy integration**. This option makes sure that the data that is sent to the API is then sent directly to the Lambda function with no processing. It also means that the return value must be a proper response object as it will also not be processed by API Gateway.\n",
    "\n",
    "Type the name of the Lambda function you created earlier into the **Lambda Function** text entry box and then click on **Save**. Click on **OK** in the pop-up box that then appears, giving permission to API Gateway to invoke the Lambda function you created.\n",
    "\n",
    "The last step in creating the API Gateway is to select the **Actions** dropdown and click on **Deploy API**. You will need to create a new Deployment stage and name it anything you like, for example `prod`.\n",
    "\n",
    "You have now successfully set up a public API to access your SageMaker model. Make sure to copy or write down the URL provided to invoke your newly created public API as this will be needed in the next step. This URL can be found at the top of the page, highlighted in blue next to the text **Invoke URL**."
   ]
  },
  {
   "cell_type": "markdown",
   "metadata": {},
   "source": [
    "## Step 4: Deploying our web app\n",
    "\n",
    "Now that we have a publicly available API, we can start using it in a web app. For our purposes, we have provided a simple static html file which can make use of the public api you created earlier.\n",
    "\n",
    "In the `website` folder there should be a file called `index.html`. Download the file to your computer and open that file up in a text editor of your choice. There should be a line which contains **\\*\\*REPLACE WITH PUBLIC API URL\\*\\***. Replace this string with the url that you wrote down in the last step and then save the file.\n",
    "\n",
    "Now, if you open `index.html` on your local computer, your browser will behave as a local web server and you can use the provided site to interact with your SageMaker model.\n",
    "\n",
    "If you'd like to go further, you can host this html file anywhere you'd like, for example using github or hosting a static site on Amazon's S3. Once you have done this you can share the link with anyone you'd like and have them play with it too!\n",
    "\n",
    "> **Important Note** In order for the web app to communicate with the SageMaker endpoint, the endpoint has to actually be deployed and running. This means that you are paying for it. Make sure that the endpoint is running when you want to use the web app but that you shut it down when you don't need it, otherwise you will end up with a surprisingly large AWS bill.\n",
    "\n",
    "**TODO:** Make sure that you include the edited `index.html` file in your project submission."
   ]
  },
  {
   "cell_type": "markdown",
   "metadata": {},
   "source": [
    "Now that your web app is working, trying playing around with it and see how well it works.\n",
    "\n",
    "**Question**: Give an example of a review that you entered into your web app. What was the predicted sentiment of your example review?"
   ]
  },
  {
   "cell_type": "markdown",
   "metadata": {},
   "source": [
    "**Answer:**\n",
    "\n",
    "Review: This was the best movie I have ever seen ten out of ten.\n",
    "\n",
    "Sentiment: Positive"
   ]
  },
  {
   "cell_type": "markdown",
   "metadata": {},
   "source": [
    "### Delete the endpoint\n",
    "\n",
    "Remember to always shut down your endpoint if you are no longer using it. You are charged for the length of time that the endpoint is running so if you forget and leave it on you could end up with an unexpectedly large bill."
   ]
  },
  {
   "cell_type": "code",
   "execution_count": 152,
   "metadata": {},
   "outputs": [],
   "source": [
    "predictor.delete_endpoint()"
   ]
  },
  {
   "cell_type": "code",
   "execution_count": null,
   "metadata": {},
   "outputs": [],
   "source": []
  }
 ],
 "metadata": {
  "kernelspec": {
   "display_name": "conda_pytorch_p36",
   "language": "python",
   "name": "conda_pytorch_p36"
  },
  "language_info": {
   "codemirror_mode": {
    "name": "ipython",
    "version": 3
   },
   "file_extension": ".py",
   "mimetype": "text/x-python",
   "name": "python",
   "nbconvert_exporter": "python",
   "pygments_lexer": "ipython3",
   "version": "3.6.5"
  }
 },
 "nbformat": 4,
 "nbformat_minor": 2
}
